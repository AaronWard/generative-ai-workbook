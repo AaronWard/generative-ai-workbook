{
 "cells": [
  {
   "cell_type": "markdown",
   "metadata": {},
   "source": [
    "# Groupchat\n",
    "\n",
    "This approach allows for structured interaction and management in a multi-agent chat scenario, providing methods to navigate through different speakers and manage the chat effectively. \n",
    "\n",
    "1. GroupChat: Represents a group chat scenario with multiple agents, allowing for management of agent interactions, selection of the next speaker, and resetting of the group chat.\n",
    "2. GroupChatManager: Acts as a manager in a group chat, managing interactions between multiple agents within the group chat.\n",
    "\n",
    "Workflow:\n",
    "\n",
    "1. Create instances of Agent (or its subclass) for each participant.\n",
    "2. Create an instance of GroupChat and include the agents.\n",
    "3. Create an instance of GroupChatManager to manage the group chat.\n",
    "4. Run the group chat using the run_chat method of GroupChatManager.\n"
   ]
  },
  {
   "cell_type": "markdown",
   "metadata": {},
   "source": [
    "### agentchat.groupchat.GroupChat\n",
    "\n",
    "This class represents a group chat, containing a list of agents and the maximum number of rounds.\n",
    "\n",
    "Properties:\n",
    "- `admin_name`: The name of the admin agent.\n",
    "- `agent_names`: Returns the names of the agents in the group chat.\n",
    "\n",
    "Methods:\n",
    "- `reset()`: Resets the group chat.\n",
    "- `agent_by_name(name: str) -> Agent`: Finds an agent by name.\n",
    "- `next_agent(agent: Agent) -> Agent`: Returns the next agent in the list.\n",
    "- `select_speaker_msg()`: Returns the message for selecting the next speaker.\n",
    "- `select_speaker(last_speaker: Agent, selector: ConversableAgent)`: Selects the next speaker.\n",
    "\n"
   ]
  },
  {
   "cell_type": "code",
   "execution_count": null,
   "metadata": {},
   "outputs": [],
   "source": [
    "from autogen.agentchat.groupchat import GroupChat\n",
    "from autogen.agentchat import Agent\n",
    "\n",
    "\n",
    "\n",
    "group_chat = GroupChat(admin_name='admin', agents=[agent1, agent2])\n",
    "print(group_chat.agent_names())  # ['agent1', 'agent2']\n",
    "\n",
    "next_agent = group_chat.next_agent(agent1)\n",
    "print(next_agent.name)  # 'agent2'\n"
   ]
  },
  {
   "cell_type": "markdown",
   "metadata": {},
   "source": [
    "## agentchat.groupchat.GroupChatManager\n",
    "This class is a chat manager agent that can manage a group chat of multiple agents. It is a subclass of ConversableAgent.\n",
    "\n",
    "Methods:\n",
    "\n",
    "- `run_chat(messages: Optional[List[Dict]] = None, sender: Optional[Agent] = None, config: Optional[GroupChat] = None) -> Union[str, Dict, None]`: Runs a group chat."
   ]
  },
  {
   "cell_type": "code",
   "execution_count": null,
   "metadata": {},
   "outputs": [],
   "source": [
    "from autogen.agentchat.groupchat import GroupChatManager, GroupChat\n",
    "from autogen.agentchat import Agent\n",
    "\n",
    "class SimpleAgent(Agent):  # You would need to implement the required abstract methods\n",
    "    ...\n",
    "\n",
    "\n",
    "agent1 = SimpleAgent(name='agent1')\n",
    "agent2 = SimpleAgent(name='agent2')\n",
    "\n",
    "group_chat = GroupChat(admin_name='admin', agents=[agent1, agent2])\n",
    "\n",
    "manager = GroupChatManager(name='manager')\n",
    "manager.run_chat(config=group_chat)\n"
   ]
  }
 ],
 "metadata": {
  "language_info": {
   "name": "python"
  },
  "orig_nbformat": 4
 },
 "nbformat": 4,
 "nbformat_minor": 2
}
