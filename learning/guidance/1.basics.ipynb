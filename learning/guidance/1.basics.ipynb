{
 "cells": [
  {
   "cell_type": "markdown",
   "metadata": {},
   "source": [
    "## Guidance Basics\n",
    "\n",
    "- [GitHub Repo](https://github.com/guidance-ai/guidance/tree/main)\n",
    "- [Docs](https://guidance.readthedocs.io/en/latest/)\n"
   ]
  },
  {
   "cell_type": "code",
   "execution_count": null,
   "metadata": {},
   "outputs": [],
   "source": [
    "import guidance"
   ]
  },
  {
   "cell_type": "code",
   "execution_count": null,
   "metadata": {},
   "outputs": [],
   "source": [
    "# this relies on the environment variable OPENAI_API_KEY being set\n",
    "llm = guidance.llms.OpenAI('text-davinci-003')\n",
    "\n",
    "program = guidance(\"\"\"My favorite flavor is{{gen 'flavor' max_tokens=10 stop=\".\"}}\"\"\", llm=llm)\n",
    "program()"
   ]
  }
 ],
 "metadata": {
  "language_info": {
   "name": "python"
  }
 },
 "nbformat": 4,
 "nbformat_minor": 2
}
