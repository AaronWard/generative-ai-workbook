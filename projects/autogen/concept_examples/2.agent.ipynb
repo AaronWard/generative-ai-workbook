{
 "cells": [
  {
   "cell_type": "markdown",
   "metadata": {},
   "source": [
    "# agentchat.agent\n",
    "This abstract class provides a blueprint for creating AI agents capable of sending, receiving messages, and performing actions."
   ]
  },
  {
   "cell_type": "code",
   "execution_count": 1,
   "metadata": {},
   "outputs": [],
   "source": [
    "from autogen.agentchat import Agent\n",
    "\n",
    "class MyAgent(Agent):\n",
    "    def send(self, message, recipient, request_reply=None):\n",
    "        pass  # implement method to send a message to another agent\n",
    "    \n",
    "    def receive(self, message, sender, request_reply=None):\n",
    "        pass  # implement method to receive a message from another agent\n",
    "    \n",
    "    def reset(self):\n",
    "        pass  # implement method to reset the agent\n",
    "    \n",
    "    def generate_reply(self, messages=None, sender=None, **kwargs):\n",
    "        pass  # implement method to generate a reply based on received messages\n"
   ]
  },
  {
   "cell_type": "code",
   "execution_count": null,
   "metadata": {},
   "outputs": [],
   "source": []
  }
 ],
 "metadata": {
  "kernelspec": {
   "display_name": "masterclass",
   "language": "python",
   "name": "python3"
  },
  "language_info": {
   "codemirror_mode": {
    "name": "ipython",
    "version": 3
   },
   "file_extension": ".py",
   "mimetype": "text/x-python",
   "name": "python",
   "nbconvert_exporter": "python",
   "pygments_lexer": "ipython3",
   "version": "3.10.12"
  },
  "orig_nbformat": 4
 },
 "nbformat": 4,
 "nbformat_minor": 2
}
