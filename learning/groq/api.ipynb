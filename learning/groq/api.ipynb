{
 "cells": [
  {
   "cell_type": "markdown",
   "metadata": {},
   "source": [
    "## Groq API\n",
    "\n",
    "This notebook is a little test for the groq api using their python package."
   ]
  },
  {
   "cell_type": "code",
   "execution_count": 12,
   "metadata": {},
   "outputs": [],
   "source": [
    "import os\n",
    "import pprint as pp\n",
    "from groq import Groq\n",
    "\n",
    "from dotenv import load_dotenv, find_dotenv\n",
    "\n",
    "load_dotenv(find_dotenv('.env'))"
   ]
  },
  {
   "cell_type": "code",
   "execution_count": 13,
   "metadata": {},
   "outputs": [
    {
     "name": "stdout",
     "output_type": "stream",
     "text": [
      "('Large language models have numerous applications across various industries. '\n",
      " 'Here are some of the most significant applications:\\n'\n",
      " '\\n'\n",
      " '1. Natural Language Processing (NLP): Large language models are the '\n",
      " 'foundation of many NLP tasks such as language translation, sentiment '\n",
      " 'analysis, and text summarization.\\n'\n",
      " '2. Chatbots: Large language models are used to build chatbots that can '\n",
      " 'understand and respond to customer queries in natural language.\\n'\n",
      " '3. Language Translation: Large language models are used to build machine '\n",
      " 'translation systems that can translate text from one language to another.\\n'\n",
      " '4. Text Generation: Large language models can be used to generate text, such '\n",
      " 'as in language translation, text summarization, and content generation.\\n'\n",
      " '5. Sentiment Analysis: Large language models can be used to analyze the '\n",
      " 'sentiment of text data, such as social media posts, to understand public '\n",
      " 'opinion.\\n'\n",
      " '6. Speech Recognition: Large language models can be used to improve speech '\n",
      " 'recognition systems by better understanding the nuances of language.\\n'\n",
      " '7. Question Answering: Large language models can be used to build systems '\n",
      " 'that can answer questions based on the information contained in a large '\n",
      " 'corpus of text.\\n'\n",
      " '8. Writing Assistance: Large language models can be used to assist writers '\n",
      " 'with grammar correction, style improvement, and content suggestion.\\n'\n",
      " '9. Code Generation: Large language models can be used to generate code in '\n",
      " 'programming languages, making code writing easier and more efficient.\\n'\n",
      " '10. Conversational AI: Large language models are used to build '\n",
      " 'conversational AI systems that can understand and respond to voice commands, '\n",
      " 'such as virtual assistants.\\n'\n",
      " '\\n'\n",
      " 'These are just a few examples of the many applications of large language '\n",
      " 'models. As the technology continues to advance, we can expect to see even '\n",
      " 'more innovative applications in the future.')\n",
      "CPU times: user 21.1 ms, sys: 2.28 ms, total: 23.4 ms\n",
      "Wall time: 1.75 s\n"
     ]
    }
   ],
   "source": [
    "%%time\n",
    "client = Groq(\n",
    "    api_key=os.environ.get(\"GROQ_API_KEY\"),\n",
    ")\n",
    "\n",
    "chat_completion = client.chat.completions.create(\n",
    "    messages=[\n",
    "        {\n",
    "            \"role\": \"user\",\n",
    "            \"content\": \"What are some applications of large language models?\",\n",
    "        }\n",
    "    ],\n",
    "    # model=\"mixtral-8x7b-32768\",\n",
    "    model=\"llama2-70b-4096\",\n",
    ")\n",
    "\n",
    "pp.pprint(chat_completion.choices[0].message.content)"
   ]
  },
  {
   "cell_type": "markdown",
   "metadata": {},
   "source": [
    "damn thats fast.."
   ]
  }
 ],
 "metadata": {
  "kernelspec": {
   "display_name": "masterclass",
   "language": "python",
   "name": "python3"
  },
  "language_info": {
   "codemirror_mode": {
    "name": "ipython",
    "version": 3
   },
   "file_extension": ".py",
   "mimetype": "text/x-python",
   "name": "python",
   "nbconvert_exporter": "python",
   "pygments_lexer": "ipython3",
   "version": "3.10.12"
  }
 },
 "nbformat": 4,
 "nbformat_minor": 2
}
