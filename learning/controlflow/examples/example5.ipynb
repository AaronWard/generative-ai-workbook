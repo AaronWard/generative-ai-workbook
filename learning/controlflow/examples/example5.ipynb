{
 "cells": [
  {
   "cell_type": "markdown",
   "metadata": {},
   "source": [
    "## Example 5: Flows\n",
    "\n",
    "\n",
    "Flows are containers that maintain context and state across multiple related tasks. They're useful when:\n",
    "- Multiple Tasks Need Context: Tasks need to share information or build upon each other's results\n",
    "- Conversation History Matters: When previous interactions influence future responses  \n",
    "- Complex Workflows: When orchestrating multiple agents or tasks in a specific sequence\n",
    "\n",
    "\n",
    "The following example demonstrates how to use flows to plan a trip passing the max budget and duration to take into consideration, and then optimizing the trip plan to fit within those constraints."
   ]
  },
  {
   "cell_type": "code",
   "execution_count": 1,
   "metadata": {},
   "outputs": [],
   "source": [
    "import controlflow as cf\n",
    "from typing import List, Dict\n",
    "from pydantic import BaseModel\n"
   ]
  },
  {
   "cell_type": "code",
   "execution_count": 2,
   "metadata": {},
   "outputs": [],
   "source": [
    "# Define our data models\n",
    "class Destination(BaseModel):\n",
    "    city: str\n",
    "    country: str\n",
    "    activities: List[str]\n",
    "\n",
    "class TripPlan(BaseModel):\n",
    "    destinations: List[Destination]\n",
    "    duration_days: int\n",
    "    budget_estimate: float"
   ]
  },
  {
   "cell_type": "code",
   "execution_count": 4,
   "metadata": {},
   "outputs": [],
   "source": [
    "# set parameters\n",
    "MAX_BUDGET = 1000.0\n",
    "DURATION_DAYS = 7"
   ]
  },
  {
   "cell_type": "code",
   "execution_count": 5,
   "metadata": {},
   "outputs": [
    {
     "data": {
      "application/vnd.jupyter.widget-view+json": {
       "model_id": "9153c55c332d4925af0c91a7f3c44a20",
       "version_major": 2,
       "version_minor": 0
      },
      "text/plain": [
       "Output()"
      ]
     },
     "metadata": {},
     "output_type": "display_data"
    },
    {
     "data": {
      "text/html": [
       "<pre style=\"white-space:pre;overflow-x:auto;line-height:normal;font-family:Menlo,'DejaVu Sans Mono',consolas,'Courier New',monospace\"></pre>\n"
      ],
      "text/plain": []
     },
     "metadata": {},
     "output_type": "display_data"
    },
    {
     "data": {
      "application/vnd.jupyter.widget-view+json": {
       "model_id": "6f8935029530464da5492029e2c4b239",
       "version_major": 2,
       "version_minor": 0
      },
      "text/plain": [
       "Output()"
      ]
     },
     "metadata": {},
     "output_type": "display_data"
    },
    {
     "data": {
      "text/html": [
       "<pre style=\"white-space:pre;overflow-x:auto;line-height:normal;font-family:Menlo,'DejaVu Sans Mono',consolas,'Courier New',monospace\"></pre>\n"
      ],
      "text/plain": []
     },
     "metadata": {},
     "output_type": "display_data"
    },
    {
     "data": {
      "application/vnd.jupyter.widget-view+json": {
       "model_id": "ba4ed31dfc814cfa9ad204db652a2903",
       "version_major": 2,
       "version_minor": 0
      },
      "text/plain": [
       "Output()"
      ]
     },
     "metadata": {},
     "output_type": "display_data"
    },
    {
     "data": {
      "text/html": [
       "<pre style=\"white-space:pre;overflow-x:auto;line-height:normal;font-family:Menlo,'DejaVu Sans Mono',consolas,'Courier New',monospace\"></pre>\n"
      ],
      "text/plain": []
     },
     "metadata": {},
     "output_type": "display_data"
    },
    {
     "data": {
      "application/vnd.jupyter.widget-view+json": {
       "model_id": "706ba3a8f68b4f04a7972de5fe4cc869",
       "version_major": 2,
       "version_minor": 0
      },
      "text/plain": [
       "Output()"
      ]
     },
     "metadata": {},
     "output_type": "display_data"
    },
    {
     "data": {
      "text/html": [
       "<pre style=\"white-space:pre;overflow-x:auto;line-height:normal;font-family:Menlo,'DejaVu Sans Mono',consolas,'Courier New',monospace\"></pre>\n"
      ],
      "text/plain": []
     },
     "metadata": {},
     "output_type": "display_data"
    },
    {
     "data": {
      "application/vnd.jupyter.widget-view+json": {
       "model_id": "cdf9b47b83754113a5fad78ebe8c2edc",
       "version_major": 2,
       "version_minor": 0
      },
      "text/plain": [
       "Output()"
      ]
     },
     "metadata": {},
     "output_type": "display_data"
    },
    {
     "data": {
      "text/html": [
       "<pre style=\"white-space:pre;overflow-x:auto;line-height:normal;font-family:Menlo,'DejaVu Sans Mono',consolas,'Courier New',monospace\"></pre>\n"
      ],
      "text/plain": []
     },
     "metadata": {},
     "output_type": "display_data"
    },
    {
     "data": {
      "application/vnd.jupyter.widget-view+json": {
       "model_id": "7f3ea544b9c44cccbefa1dfac79ff976",
       "version_major": 2,
       "version_minor": 0
      },
      "text/plain": [
       "Output()"
      ]
     },
     "metadata": {},
     "output_type": "display_data"
    },
    {
     "data": {
      "text/html": [
       "<pre style=\"white-space:pre;overflow-x:auto;line-height:normal;font-family:Menlo,'DejaVu Sans Mono',consolas,'Courier New',monospace\"></pre>\n"
      ],
      "text/plain": []
     },
     "metadata": {},
     "output_type": "display_data"
    },
    {
     "name": "stdout",
     "output_type": "stream",
     "text": [
      "\n",
      "Trip Plan:\n",
      "\n",
      "Destination: Paris, France\n",
      "Activities: Day 1: Explore the iconic Eiffel Tower and take a Seine River Cruise. (Cost: $50), Day 2: Visit the Louvre Museum and stroll through the Tuileries Garden. (Cost: $20), Day 3: Discover the charm of Montmartre and visit the Sacré-Cœur Basilica. (Cost: $0), Day 4: Take a day trip to the Palace of Versailles. (Cost: $60), Day 5: Explore the Latin Quarter and visit the Panthéon. (Cost: $10), Day 6: Enjoy a shopping day at Champs-Élysées and visit the Arc de Triomphe. (Cost: $63), Day 7: Relax in the Luxembourg Gardens and explore the Musée d'Orsay. (Cost: $16)\n",
      "\n",
      "Destination: London, United Kingdom\n",
      "Activities: Day 1: Visit the British Museum and explore Covent Garden., Day 2: Explore Tower Bridge and enjoy a walk around the Tower of London., Day 3: Walk around Westminster Abbey and enjoy St James's Park., Day 4: Visit Trafalgar Square and explore the National Gallery., Day 5: Spend a day in Camden Market and visit Regent's Park., Day 6: Enjoy the Southbank area and view the London Eye from outside., Day 7: Discover Notting Hill and visit the Portobello Road Market.\n",
      "\n",
      "Total Duration: 7 days\n",
      "Total Budget Estimate: $1,000.00\n"
     ]
    },
    {
     "name": "stderr",
     "output_type": "stream",
     "text": [
      "04:24:58.634 | \u001b[93mWARNING\u001b[0m | prefect.server.services.failexpiredpauses - FailExpiredPauses took 552.79551 seconds to run, which is longer than its loop interval of 5.0 seconds.\n",
      "04:24:58.637 | \u001b[93mWARNING\u001b[0m | prefect.server.services.marklateruns - MarkLateRuns took 552.799704 seconds to run, which is longer than its loop interval of 5.0 seconds.\n",
      "07:15:15.574 | \u001b[93mWARNING\u001b[0m | prefect.server.services.failexpiredpauses - FailExpiredPauses took 904.781009 seconds to run, which is longer than its loop interval of 5.0 seconds.\n",
      "07:15:15.576 | \u001b[93mWARNING\u001b[0m | prefect.server.services.recentdeploymentsscheduler - RecentDeploymentsScheduler took 904.786621 seconds to run, which is longer than its loop interval of 5 seconds.\n",
      "07:15:15.578 | \u001b[93mWARNING\u001b[0m | prefect.server.services.marklateruns - MarkLateRuns took 904.786608 seconds to run, which is longer than its loop interval of 5.0 seconds.\n",
      "09:19:13.640 | \u001b[93mWARNING\u001b[0m | prefect.server.services.recentdeploymentsscheduler - RecentDeploymentsScheduler took 938.845844 seconds to run, which is longer than its loop interval of 5 seconds.\n",
      "09:19:13.642 | \u001b[93mWARNING\u001b[0m | prefect.server.services.failexpiredpauses - FailExpiredPauses took 938.845599 seconds to run, which is longer than its loop interval of 5.0 seconds.\n",
      "09:19:13.644 | \u001b[93mWARNING\u001b[0m | prefect.server.services.marklateruns - MarkLateRuns took 938.848157 seconds to run, which is longer than its loop interval of 5.0 seconds.\n"
     ]
    }
   ],
   "source": [
    "# Create specialized agents\n",
    "travel_advisor = cf.Agent(\n",
    "    name=\"Travel Advisor\",\n",
    "    description=\"Expert in travel planning and recommendations\",\n",
    "    instructions=\"Help users plan their ideal trip with detailed recommendations.\"\n",
    ")\n",
    "\n",
    "budget_analyst = cf.Agent(\n",
    "    name=\"Budget Analyst\",\n",
    "    description=\"Expert in travel costs and budgeting\",\n",
    "    instructions=\"Provide realistic budget estimates for travel plans.\"\n",
    ")\n",
    "\n",
    "# Create the main flow with all parameters\n",
    "@cf.flow(context_kwargs=[\"budget_limit\", \"duration_days\", \"destinations\"])\n",
    "def plan_trip(\n",
    "    destinations: List[str], \n",
    "    budget_limit: float,\n",
    "    duration_days: int\n",
    ") -> TripPlan:\n",
    "    \"\"\"\n",
    "    Plan a comprehensive trip including destinations, activities, and budget.\n",
    "    \"\"\"\n",
    "    all_destinations = []\n",
    "    total_budget = 0.0\n",
    "\n",
    "    # Process each destination\n",
    "    for destination in destinations:\n",
    "        # Get destination details\n",
    "        destination_details = cf.run(\n",
    "            f\"Analyze {destination} as a travel destination and suggest activities for {duration_days} days\",\n",
    "            agents=[travel_advisor],\n",
    "            result_type=Destination\n",
    "        )\n",
    "\n",
    "        # Get budget estimate\n",
    "        budget_estimate = cf.run(\n",
    "            f\"Create a budget estimate for {duration_days} days of activities\",\n",
    "            agents=[budget_analyst],\n",
    "            result_type=float,\n",
    "            context={\"destination\": destination_details}\n",
    "        )\n",
    "\n",
    "        # Optimize if needed\n",
    "        if budget_estimate > budget_limit / len(destinations):\n",
    "            with cf.Flow(name=\"Budget Optimization\") as budget_flow:\n",
    "                optimized_plan = cf.run(\n",
    "                    \"Optimize the travel plan to fit within budget\",\n",
    "                    agents=[travel_advisor, budget_analyst],\n",
    "                    context={\n",
    "                        \"original_plan\": destination_details,\n",
    "                        \"budget_limit\": budget_limit / len(destinations),\n",
    "                        \"duration\": duration_days\n",
    "                    },\n",
    "                    result_type=Destination\n",
    "                )\n",
    "                destination_details = optimized_plan\n",
    "                budget_estimate = budget_limit / len(destinations)\n",
    "\n",
    "        all_destinations.append(destination_details)\n",
    "        total_budget += budget_estimate\n",
    "\n",
    "    # Create final trip plan\n",
    "    return TripPlan(\n",
    "        destinations=all_destinations,\n",
    "        duration_days=duration_days,\n",
    "        budget_estimate=total_budget\n",
    "    )\n",
    "\n",
    "# Example usage\n",
    "if __name__ == \"__main__\":\n",
    "    # Run the flow with multiple destinations\n",
    "    trip = plan_trip(\n",
    "        destinations=[\"Paris\", \"London\"],\n",
    "        budget_limit=MAX_BUDGET,\n",
    "        duration_days=DURATION_DAYS\n",
    "    )\n",
    "    \n",
    "    print(\"\\nTrip Plan:\")\n",
    "    for dest in trip.destinations:\n",
    "        print(f\"\\nDestination: {dest.city}, {dest.country}\")\n",
    "        print(f\"Activities: {', '.join(dest.activities)}\")\n",
    "    print(f\"\\nTotal Duration: {trip.duration_days} days\")\n",
    "    print(f\"Total Budget Estimate: ${trip.budget_estimate:,.2f}\")"
   ]
  },
  {
   "cell_type": "code",
   "execution_count": null,
   "metadata": {},
   "outputs": [],
   "source": []
  }
 ],
 "metadata": {
  "kernelspec": {
   "display_name": "default",
   "language": "python",
   "name": "python3"
  },
  "language_info": {
   "codemirror_mode": {
    "name": "ipython",
    "version": 3
   },
   "file_extension": ".py",
   "mimetype": "text/x-python",
   "name": "python",
   "nbconvert_exporter": "python",
   "pygments_lexer": "ipython3",
   "version": "3.11.9"
  }
 },
 "nbformat": 4,
 "nbformat_minor": 2
}
