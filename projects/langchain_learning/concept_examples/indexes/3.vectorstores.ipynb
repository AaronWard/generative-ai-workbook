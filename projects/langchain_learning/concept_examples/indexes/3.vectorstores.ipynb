{
 "cells": [
  {
   "attachments": {},
   "cell_type": "markdown",
   "metadata": {},
   "source": [
    "# vectorstores\n",
    "\n",
    "A vectorstore is a data structure that stores documents and their corresponding vector representations. Vector representations are numerical representations of text that capture the meaning of the text. They are often used for natural language processing tasks such as question answering, document retrieval, and text classification.\n",
    "\n",
    "In Langchain, vectorstores are used to store the documents that are used to train and evaluate natural language processing models. Langchain provides a number of different vectorstores that can be used, including Chroma."
   ]
  },
  {
   "cell_type": "code",
   "execution_count": 8,
   "metadata": {},
   "outputs": [
    {
     "ename": "AttributeError",
     "evalue": "'str' object has no attribute 'page_content'",
     "output_type": "error",
     "traceback": [
      "\u001b[0;31m---------------------------------------------------------------------------\u001b[0m",
      "\u001b[0;31mAttributeError\u001b[0m                            Traceback (most recent call last)",
      "\u001b[1;32m/Users/award40/Desktop/personal/github/ar-assistant/notebooks/research/langchain/3-indexes/3.vectorstores.ipynb Cell 2\u001b[0m in \u001b[0;36m<cell line: 20>\u001b[0;34m()\u001b[0m\n\u001b[1;32m     <a href='vscode-notebook-cell:/Users/award40/Desktop/personal/github/ar-assistant/notebooks/research/langchain/3-indexes/3.vectorstores.ipynb#W0sZmlsZQ%3D%3D?line=12'>13</a>\u001b[0m documents \u001b[39m=\u001b[39m [\n\u001b[1;32m     <a href='vscode-notebook-cell:/Users/award40/Desktop/personal/github/ar-assistant/notebooks/research/langchain/3-indexes/3.vectorstores.ipynb#W0sZmlsZQ%3D%3D?line=13'>14</a>\u001b[0m     \u001b[39m\"\u001b[39m\u001b[39mThis is a document about dogs. Dogs have tails\u001b[39m\u001b[39m\"\u001b[39m,\n\u001b[1;32m     <a href='vscode-notebook-cell:/Users/award40/Desktop/personal/github/ar-assistant/notebooks/research/langchain/3-indexes/3.vectorstores.ipynb#W0sZmlsZQ%3D%3D?line=14'>15</a>\u001b[0m     \u001b[39m\"\u001b[39m\u001b[39mThis is a document about cats. Cats have whiskers\u001b[39m\u001b[39m\"\u001b[39m,\n\u001b[1;32m     <a href='vscode-notebook-cell:/Users/award40/Desktop/personal/github/ar-assistant/notebooks/research/langchain/3-indexes/3.vectorstores.ipynb#W0sZmlsZQ%3D%3D?line=15'>16</a>\u001b[0m     \u001b[39m\"\u001b[39m\u001b[39mThis is a document about birds. Birds have wings.\u001b[39m\u001b[39m\"\u001b[39m,\n\u001b[1;32m     <a href='vscode-notebook-cell:/Users/award40/Desktop/personal/github/ar-assistant/notebooks/research/langchain/3-indexes/3.vectorstores.ipynb#W0sZmlsZQ%3D%3D?line=16'>17</a>\u001b[0m ]\n\u001b[1;32m     <a href='vscode-notebook-cell:/Users/award40/Desktop/personal/github/ar-assistant/notebooks/research/langchain/3-indexes/3.vectorstores.ipynb#W0sZmlsZQ%3D%3D?line=18'>19</a>\u001b[0m text_splitter \u001b[39m=\u001b[39m CharacterTextSplitter(chunk_size\u001b[39m=\u001b[39m\u001b[39m1000\u001b[39m, chunk_overlap\u001b[39m=\u001b[39m\u001b[39m0\u001b[39m)\n\u001b[0;32m---> <a href='vscode-notebook-cell:/Users/award40/Desktop/personal/github/ar-assistant/notebooks/research/langchain/3-indexes/3.vectorstores.ipynb#W0sZmlsZQ%3D%3D?line=19'>20</a>\u001b[0m docs \u001b[39m=\u001b[39m text_splitter\u001b[39m.\u001b[39;49msplit_documents(documents)\n\u001b[1;32m     <a href='vscode-notebook-cell:/Users/award40/Desktop/personal/github/ar-assistant/notebooks/research/langchain/3-indexes/3.vectorstores.ipynb#W0sZmlsZQ%3D%3D?line=21'>22</a>\u001b[0m embeddings \u001b[39m=\u001b[39m OpenAIEmbeddings()\n\u001b[1;32m     <a href='vscode-notebook-cell:/Users/award40/Desktop/personal/github/ar-assistant/notebooks/research/langchain/3-indexes/3.vectorstores.ipynb#W0sZmlsZQ%3D%3D?line=23'>24</a>\u001b[0m db \u001b[39m=\u001b[39m Chroma\u001b[39m.\u001b[39mfrom_documents(docs, embeddings)\n",
      "File \u001b[0;32m~/opt/anaconda3/envs/dev/lib/python3.9/site-packages/langchain/text_splitter.py:108\u001b[0m, in \u001b[0;36mTextSplitter.split_documents\u001b[0;34m(self, documents)\u001b[0m\n\u001b[1;32m    106\u001b[0m texts, metadatas \u001b[39m=\u001b[39m [], []\n\u001b[1;32m    107\u001b[0m \u001b[39mfor\u001b[39;00m doc \u001b[39min\u001b[39;00m documents:\n\u001b[0;32m--> 108\u001b[0m     texts\u001b[39m.\u001b[39mappend(doc\u001b[39m.\u001b[39;49mpage_content)\n\u001b[1;32m    109\u001b[0m     metadatas\u001b[39m.\u001b[39mappend(doc\u001b[39m.\u001b[39mmetadata)\n\u001b[1;32m    110\u001b[0m \u001b[39mreturn\u001b[39;00m \u001b[39mself\u001b[39m\u001b[39m.\u001b[39mcreate_documents(texts, metadatas\u001b[39m=\u001b[39mmetadatas)\n",
      "\u001b[0;31mAttributeError\u001b[0m: 'str' object has no attribute 'page_content'"
     ]
    }
   ],
   "source": [
    "from dotenv import find_dotenv, load_dotenv\n",
    "\n",
    "\n",
    "from langchain.vectorstores import Chroma\n",
    "from langchain.embeddings.openai import OpenAIEmbeddings\n",
    "from langchain.text_splitter import CharacterTextSplitter\n",
    "\n",
    "\n",
    "# Load environment variables\n",
    "load_dotenv(find_dotenv())\n",
    "\n",
    "# Create a list of documents\n",
    "documents = [\n",
    "    \"This is a document about dogs. Dogs have tails\",\n",
    "    \"This is a document about cats. Cats have whiskers\",\n",
    "    \"This is a document about birds. Birds have wings.\",\n",
    "]\n",
    "\n",
    "text_splitter = CharacterTextSplitter(chunk_size=1000, chunk_overlap=0)\n",
    "docs = text_splitter.split_documents(documents)\n",
    "\n",
    "embeddings = OpenAIEmbeddings()\n",
    "\n",
    "db = Chroma.from_documents(docs, embeddings)\n",
    "\n",
    "query = \"What do cats have?\"\n",
    "docs = db.similarity_search(query)\n",
    "docs\n"
   ]
  },
  {
   "attachments": {},
   "cell_type": "markdown",
   "metadata": {},
   "source": [
    "### Answers"
   ]
  },
  {
   "cell_type": "code",
   "execution_count": null,
   "metadata": {},
   "outputs": [],
   "source": [
    "# Ask a question\n",
    "question = \"What is the capital of France?\"\n",
    "\n",
    "# Get the answers\n",
    "answers = db.get_answers(question)\n",
    "\n",
    "# Print the answers\n",
    "print(answers)\n",
    "\n",
    "> [\"Paris\",\n",
    "\"Lyon\",\n",
    "\"Marseille\"\n",
    "]"
   ]
  }
 ],
 "metadata": {
  "kernelspec": {
   "display_name": "dev",
   "language": "python",
   "name": "python3"
  },
  "language_info": {
   "codemirror_mode": {
    "name": "ipython",
    "version": 3
   },
   "file_extension": ".py",
   "mimetype": "text/x-python",
   "name": "python",
   "nbconvert_exporter": "python",
   "pygments_lexer": "ipython3",
   "version": "3.9.12"
  },
  "orig_nbformat": 4
 },
 "nbformat": 4,
 "nbformat_minor": 2
}
