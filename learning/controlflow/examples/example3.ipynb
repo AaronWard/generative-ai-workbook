{
 "cells": [
  {
   "cell_type": "code",
   "execution_count": 2,
   "metadata": {},
   "outputs": [],
   "source": [
    "from dotenv import load_dotenv, find_dotenv\n",
    "load_dotenv(find_dotenv())\n",
    "\n",
    "import controlflow as cf\n",
    "from pydantic import BaseModel\n",
    "from typing import List, Optional"
   ]
  },
  {
   "cell_type": "markdown",
   "metadata": {},
   "source": [
    "- The following code demonstrates a code review system using controlflow.\n",
    "- It defines a CodeReview model with status, issues, suggestions and approval fields.\n",
    "- Two tools are created - approve_code() and reject_code() to handle review outcomes.\n",
    "- A specialized code reviewer agent is created with GPT-4 to analyze code quality.\n",
    "- The review_code() flow function orchestrates the review process using these components."
   ]
  },
  {
   "cell_type": "code",
   "execution_count": 4,
   "metadata": {},
   "outputs": [
    {
     "data": {
      "application/vnd.jupyter.widget-view+json": {
       "model_id": "9e2d3f3a16df48fbba929f74ba2b3beb",
       "version_major": 2,
       "version_minor": 0
      },
      "text/plain": [
       "Output()"
      ]
     },
     "metadata": {},
     "output_type": "display_data"
    },
    {
     "data": {
      "text/html": [
       "<pre style=\"white-space:pre;overflow-x:auto;line-height:normal;font-family:Menlo,'DejaVu Sans Mono',consolas,'Courier New',monospace\"></pre>\n"
      ],
      "text/plain": []
     },
     "metadata": {},
     "output_type": "display_data"
    },
    {
     "name": "stdout",
     "output_type": "stream",
     "text": [
      "❌ Code Review Failed\n",
      "\n",
      "Issues Found:\n",
      "- Overwriting built-in function name\n",
      "- Inefficient list iteration\n"
     ]
    }
   ],
   "source": [
    "# Define our data models\n",
    "class CodeReview(BaseModel):\n",
    "    status: str\n",
    "    issues: List[str]\n",
    "    suggestions: List[str]\n",
    "    approval: bool\n",
    "\n",
    "# Define custom tools\n",
    "def approve_code(result: CodeReview):\n",
    "    return CodeReview(\n",
    "        status=\"approved\",\n",
    "        issues=[],\n",
    "        suggestions=[\"Code meets all quality standards\"],\n",
    "        approval=True\n",
    "    )\n",
    "\n",
    "def reject_code(issues: List[str]):\n",
    "    return CodeReview(\n",
    "        status=\"rejected\",\n",
    "        issues=issues,\n",
    "        suggestions=[],\n",
    "        approval=False\n",
    "    )\n",
    "\n",
    "# Create specialized agent\n",
    "reviewer = cf.Agent(\n",
    "    name=\"Code Reviewer\",\n",
    "    model=\"openai/gpt-4\",\n",
    "    instructions=\"\"\"You are an expert code reviewer. \n",
    "    Analyze code for issues and provide constructive feedback.\n",
    "    Only approve code that meets all quality standards.\"\"\",\n",
    "    tools=[approve_code, reject_code]\n",
    ")\n",
    "\n",
    "@cf.flow\n",
    "def review_code(code: str):\n",
    "    # Create a task with specific completion tools\n",
    "    result = cf.run(\n",
    "        objective=\"Review the provided code and either approve or reject it\",\n",
    "        result_type=CodeReview,\n",
    "        agents=[reviewer],\n",
    "        context={\n",
    "            \"code\": code,\n",
    "            \"requirements\": [\n",
    "                \"Check for proper variable naming\",\n",
    "                \"Verify code efficiency\",\n",
    "                \"Look for potential bugs\",\n",
    "                \"Ensure code readability\"\n",
    "            ]\n",
    "        }\n",
    "    )\n",
    "    \n",
    "    return result\n",
    "\n",
    "# Example usage\n",
    "code_to_review = \"\"\"\n",
    "def calculate_sum(numbers):\n",
    "    sum = 0  # Using reserved keyword as variable name\n",
    "    for i in range(len(numbers)):  # Could use direct iteration\n",
    "        sum += numbers[i]\n",
    "    return sum\n",
    "\"\"\"\n",
    "\n",
    "try:\n",
    "    # Run the code review\n",
    "    result = review_code(code_to_review)\n",
    "    \n",
    "    # Print results based on success/failure\n",
    "    if result.approval:\n",
    "        print(\"✅ Code Review Passed\")\n",
    "        print(\"\\nSuggestions:\")\n",
    "        for suggestion in result.suggestions:\n",
    "            print(f\"- {suggestion}\")\n",
    "    else:\n",
    "        print(\"❌ Code Review Failed\")\n",
    "        print(\"\\nIssues Found:\")\n",
    "        for issue in result.issues:\n",
    "            print(f\"- {issue}\")\n",
    "        \n",
    "except Exception as e:\n",
    "    print(f\"Review process failed: {str(e)}\")"
   ]
  },
  {
   "cell_type": "markdown",
   "metadata": {},
   "source": [
    "## Result Validators\n",
    "\n",
    "Use a result validator to ensure task outputs meet specific criteria, such as data integrity, business rules, or quality standards.\n"
   ]
  },
  {
   "cell_type": "code",
   "execution_count": 5,
   "metadata": {},
   "outputs": [
    {
     "data": {
      "application/vnd.jupyter.widget-view+json": {
       "model_id": "b890ed937a68496b832a057b91fb8191",
       "version_major": 2,
       "version_minor": 0
      },
      "text/plain": [
       "Output()"
      ]
     },
     "metadata": {},
     "output_type": "display_data"
    },
    {
     "data": {
      "text/html": [
       "<pre style=\"white-space:pre;overflow-x:auto;line-height:normal;font-family:Menlo,'DejaVu Sans Mono',consolas,'Courier New',monospace\"></pre>\n"
      ],
      "text/plain": []
     },
     "metadata": {},
     "output_type": "display_data"
    },
    {
     "name": "stdout",
     "output_type": "stream",
     "text": [
      "✅ The number 4 is even.\n"
     ]
    },
    {
     "data": {
      "application/vnd.jupyter.widget-view+json": {
       "model_id": "98d73d592a23427d8c0c8311a6d9b2ac",
       "version_major": 2,
       "version_minor": 0
      },
      "text/plain": [
       "Output()"
      ]
     },
     "metadata": {},
     "output_type": "display_data"
    },
    {
     "data": {
      "text/html": [
       "<pre style=\"white-space:pre;overflow-x:auto;line-height:normal;font-family:Menlo,'DejaVu Sans Mono',consolas,'Courier New',monospace\">23:21:02.933 | <span style=\"color: #d70000; text-decoration-color: #d70000\">ERROR</span>   | Task run 'Tool call: mark_task_a2bca8e6_successful' - Task run failed with exception: ValueError('The number must be even.') - Retries are exhausted\n",
       "Traceback (most recent call last):\n",
       "  File \"/opt/homebrew/anaconda3/envs/default/lib/python3.11/site-packages/prefect/task_engine.py\", line 781, in run_context\n",
       "    yield self\n",
       "  File \"/opt/homebrew/anaconda3/envs/default/lib/python3.11/site-packages/prefect/task_engine.py\", line 1337, in run_task_sync\n",
       "    engine.call_task_fn(txn)\n",
       "  File \"/opt/homebrew/anaconda3/envs/default/lib/python3.11/site-packages/prefect/task_engine.py\", line 804, in call_task_fn\n",
       "    result = call_with_parameters(self.task.fn, parameters)\n",
       "             ^^^^^^^^^^^^^^^^^^^^^^^^^^^^^^^^^^^^^^^^^^^^^^\n",
       "  File \"/opt/homebrew/anaconda3/envs/default/lib/python3.11/site-packages/prefect/utilities/callables.py\", line 206, in call_with_parameters\n",
       "    return fn(*args, **kwargs)\n",
       "           ^^^^^^^^^^^^^^^^^^^\n",
       "  File \"/opt/homebrew/anaconda3/envs/default/lib/python3.11/site-packages/controlflow/tools/tools.py\", line 61, in run\n",
       "    result = self.fn(**input)\n",
       "             ^^^^^^^^^^^^^^^^\n",
       "  File \"/opt/homebrew/anaconda3/envs/default/lib/python3.11/site-packages/controlflow/tasks/task.py\", line 643, in succeed\n",
       "    self.mark_successful(result=result_schema(**kwargs))\n",
       "  File \"/opt/homebrew/anaconda3/envs/default/lib/python3.11/site-packages/controlflow/tasks/task.py\", line 570, in mark_successful\n",
       "    self.result = self.validate_result(result)\n",
       "                  ^^^^^^^^^^^^^^^^^^^^^^^^^^^^\n",
       "  File \"/opt/homebrew/anaconda3/envs/default/lib/python3.11/site-packages/controlflow/tasks/task.py\", line 759, in validate_result\n",
       "    result = self.result_validator(result)\n",
       "             ^^^^^^^^^^^^^^^^^^^^^^^^^^^^^\n",
       "  File \"/var/folders/_b/kmlh75s1007df0jz0xtr03fw0000gn/T/ipykernel_19830/319019531.py\", line 8, in validate_even\n",
       "    raise ValueError(\"The number must be even.\")\n",
       "ValueError: The number must be even.\n",
       "</pre>\n"
      ],
      "text/plain": [
       "23:21:02.933 | \u001b[38;5;160mERROR\u001b[0m   | Task run 'Tool call: mark_task_a2bca8e6_successful' - Task run failed with exception: ValueError('The number must be even.') - Retries are exhausted\n",
       "Traceback (most recent call last):\n",
       "  File \"/opt/homebrew/anaconda3/envs/default/lib/python3.11/site-packages/prefect/task_engine.py\", line 781, in run_context\n",
       "    yield self\n",
       "  File \"/opt/homebrew/anaconda3/envs/default/lib/python3.11/site-packages/prefect/task_engine.py\", line 1337, in run_task_sync\n",
       "    engine.call_task_fn(txn)\n",
       "  File \"/opt/homebrew/anaconda3/envs/default/lib/python3.11/site-packages/prefect/task_engine.py\", line 804, in call_task_fn\n",
       "    result = call_with_parameters(self.task.fn, parameters)\n",
       "             ^^^^^^^^^^^^^^^^^^^^^^^^^^^^^^^^^^^^^^^^^^^^^^\n",
       "  File \"/opt/homebrew/anaconda3/envs/default/lib/python3.11/site-packages/prefect/utilities/callables.py\", line 206, in call_with_parameters\n",
       "    return fn(*args, **kwargs)\n",
       "           ^^^^^^^^^^^^^^^^^^^\n",
       "  File \"/opt/homebrew/anaconda3/envs/default/lib/python3.11/site-packages/controlflow/tools/tools.py\", line 61, in run\n",
       "    result = self.fn(**input)\n",
       "             ^^^^^^^^^^^^^^^^\n",
       "  File \"/opt/homebrew/anaconda3/envs/default/lib/python3.11/site-packages/controlflow/tasks/task.py\", line 643, in succeed\n",
       "    self.mark_successful(result=result_schema(**kwargs))\n",
       "  File \"/opt/homebrew/anaconda3/envs/default/lib/python3.11/site-packages/controlflow/tasks/task.py\", line 570, in mark_successful\n",
       "    self.result = self.validate_result(result)\n",
       "                  ^^^^^^^^^^^^^^^^^^^^^^^^^^^^\n",
       "  File \"/opt/homebrew/anaconda3/envs/default/lib/python3.11/site-packages/controlflow/tasks/task.py\", line 759, in validate_result\n",
       "    result = self.result_validator(result)\n",
       "             ^^^^^^^^^^^^^^^^^^^^^^^^^^^^^\n",
       "  File \"/var/folders/_b/kmlh75s1007df0jz0xtr03fw0000gn/T/ipykernel_19830/319019531.py\", line 8, in validate_even\n",
       "    raise ValueError(\"The number must be even.\")\n",
       "ValueError: The number must be even.\n"
      ]
     },
     "metadata": {},
     "output_type": "display_data"
    },
    {
     "data": {
      "text/html": [
       "<pre style=\"white-space:pre;overflow-x:auto;line-height:normal;font-family:Menlo,'DejaVu Sans Mono',consolas,'Courier New',monospace\">23:21:02.937 | <span style=\"color: #d70000; text-decoration-color: #d70000\">ERROR</span>   | Task run 'Tool call: mark_task_a2bca8e6_successful' - Finished in state <span style=\"color: #d70000; text-decoration-color: #d70000\">Failed</span>('Task run encountered an exception ValueError: The number must be even.')\n",
       "</pre>\n"
      ],
      "text/plain": [
       "23:21:02.937 | \u001b[38;5;160mERROR\u001b[0m   | Task run 'Tool call: mark_task_a2bca8e6_successful' - Finished in state \u001b[38;5;160mFailed\u001b[0m('Task run encountered an exception ValueError: The number must be even.')\n"
      ]
     },
     "metadata": {},
     "output_type": "display_data"
    },
    {
     "data": {
      "text/html": [
       "<pre style=\"white-space:pre;overflow-x:auto;line-height:normal;font-family:Menlo,'DejaVu Sans Mono',consolas,'Courier New',monospace\"></pre>\n"
      ],
      "text/plain": []
     },
     "metadata": {},
     "output_type": "display_data"
    },
    {
     "data": {
      "text/html": [
       "<pre style=\"white-space:pre;overflow-x:auto;line-height:normal;font-family:Menlo,'DejaVu Sans Mono',consolas,'Courier New',monospace\">23:21:04.939 | <span style=\"color: #d70000; text-decoration-color: #d70000\">ERROR</span>   | Task run 'Run task: Task #a2bca8e6 (\"Check if the number is even\")' - Task run failed with exception: ValueError('1 task failed: - Task #a2bca8e6 (\"Check if the number is even\"): The number 5 is not even, which does not meet the requirement for marking the task as successful.') - Retries are exhausted\n",
       "Traceback (most recent call last):\n",
       "  File \"/opt/homebrew/anaconda3/envs/default/lib/python3.11/site-packages/prefect/task_engine.py\", line 781, in run_context\n",
       "    yield self\n",
       "  File \"/opt/homebrew/anaconda3/envs/default/lib/python3.11/site-packages/prefect/task_engine.py\", line 1337, in run_task_sync\n",
       "    engine.call_task_fn(txn)\n",
       "  File \"/opt/homebrew/anaconda3/envs/default/lib/python3.11/site-packages/prefect/task_engine.py\", line 804, in call_task_fn\n",
       "    result = call_with_parameters(self.task.fn, parameters)\n",
       "             ^^^^^^^^^^^^^^^^^^^^^^^^^^^^^^^^^^^^^^^^^^^^^^\n",
       "  File \"/opt/homebrew/anaconda3/envs/default/lib/python3.11/site-packages/prefect/utilities/callables.py\", line 206, in call_with_parameters\n",
       "    return fn(*args, **kwargs)\n",
       "           ^^^^^^^^^^^^^^^^^^^\n",
       "  File \"/opt/homebrew/anaconda3/envs/default/lib/python3.11/site-packages/controlflow/run.py\", line 62, in run_tasks\n",
       "    raise ValueError(\n",
       "ValueError: 1 task failed: - Task #a2bca8e6 (\"Check if the number is even\"): The number 5 is not even, which does not meet the requirement for marking the task as successful.\n",
       "</pre>\n"
      ],
      "text/plain": [
       "23:21:04.939 | \u001b[38;5;160mERROR\u001b[0m   | Task run 'Run task: Task #a2bca8e6 (\"Check if the number is even\")' - Task run failed with exception: ValueError('1 task failed: - Task #a2bca8e6 (\"Check if the number is even\"): The number 5 is not even, which does not meet the requirement for marking the task as successful.') - Retries are exhausted\n",
       "Traceback (most recent call last):\n",
       "  File \"/opt/homebrew/anaconda3/envs/default/lib/python3.11/site-packages/prefect/task_engine.py\", line 781, in run_context\n",
       "    yield self\n",
       "  File \"/opt/homebrew/anaconda3/envs/default/lib/python3.11/site-packages/prefect/task_engine.py\", line 1337, in run_task_sync\n",
       "    engine.call_task_fn(txn)\n",
       "  File \"/opt/homebrew/anaconda3/envs/default/lib/python3.11/site-packages/prefect/task_engine.py\", line 804, in call_task_fn\n",
       "    result = call_with_parameters(self.task.fn, parameters)\n",
       "             ^^^^^^^^^^^^^^^^^^^^^^^^^^^^^^^^^^^^^^^^^^^^^^\n",
       "  File \"/opt/homebrew/anaconda3/envs/default/lib/python3.11/site-packages/prefect/utilities/callables.py\", line 206, in call_with_parameters\n",
       "    return fn(*args, **kwargs)\n",
       "           ^^^^^^^^^^^^^^^^^^^\n",
       "  File \"/opt/homebrew/anaconda3/envs/default/lib/python3.11/site-packages/controlflow/run.py\", line 62, in run_tasks\n",
       "    raise ValueError(\n",
       "ValueError: 1 task failed: - Task #a2bca8e6 (\"Check if the number is even\"): The number 5 is not even, which does not meet the requirement for marking the task as successful.\n"
      ]
     },
     "metadata": {},
     "output_type": "display_data"
    },
    {
     "data": {
      "text/html": [
       "<pre style=\"white-space:pre;overflow-x:auto;line-height:normal;font-family:Menlo,'DejaVu Sans Mono',consolas,'Courier New',monospace\">23:21:04.943 | <span style=\"color: #d70000; text-decoration-color: #d70000\">ERROR</span>   | Task run 'Run task: Task #a2bca8e6 (\"Check if the number is even\")' - Finished in state <span style=\"color: #d70000; text-decoration-color: #d70000\">Failed</span>('Task run encountered an exception ValueError: 1 task failed: - Task #a2bca8e6 (\"Check if the number is even\"): The number 5 is not even, which does not meet the requirement for marking the task as successful.')\n",
       "</pre>\n"
      ],
      "text/plain": [
       "23:21:04.943 | \u001b[38;5;160mERROR\u001b[0m   | Task run 'Run task: Task #a2bca8e6 (\"Check if the number is even\")' - Finished in state \u001b[38;5;160mFailed\u001b[0m('Task run encountered an exception ValueError: 1 task failed: - Task #a2bca8e6 (\"Check if the number is even\"): The number 5 is not even, which does not meet the requirement for marking the task as successful.')\n"
      ]
     },
     "metadata": {},
     "output_type": "display_data"
    },
    {
     "data": {
      "text/html": [
       "<pre style=\"white-space:pre;overflow-x:auto;line-height:normal;font-family:Menlo,'DejaVu Sans Mono',consolas,'Courier New',monospace\">23:21:04.945 | <span style=\"color: #d70000; text-decoration-color: #d70000\">ERROR</span>   | Flow run<span style=\"color: #800080; text-decoration-color: #800080\"> 'polite-orangutan'</span> - Encountered exception during execution: ValueError('1 task failed: - Task #a2bca8e6 (\"Check if the number is even\"): The number 5 is not even, which does not meet the requirement for marking the task as successful.')\n",
       "Traceback (most recent call last):\n",
       "  File \"/opt/homebrew/anaconda3/envs/default/lib/python3.11/site-packages/prefect/flow_engine.py\", line 710, in run_context\n",
       "    yield self\n",
       "  File \"/opt/homebrew/anaconda3/envs/default/lib/python3.11/site-packages/prefect/flow_engine.py\", line 754, in run_flow_sync\n",
       "    engine.call_flow_fn()\n",
       "  File \"/opt/homebrew/anaconda3/envs/default/lib/python3.11/site-packages/prefect/flow_engine.py\", line 733, in call_flow_fn\n",
       "    result = call_with_parameters(self.flow.fn, self.parameters)\n",
       "             ^^^^^^^^^^^^^^^^^^^^^^^^^^^^^^^^^^^^^^^^^^^^^^^^^^^\n",
       "  File \"/opt/homebrew/anaconda3/envs/default/lib/python3.11/site-packages/prefect/utilities/callables.py\", line 206, in call_with_parameters\n",
       "    return fn(*args, **kwargs)\n",
       "           ^^^^^^^^^^^^^^^^^^^\n",
       "  File \"/opt/homebrew/anaconda3/envs/default/lib/python3.11/site-packages/controlflow/decorators.py\", line 113, in wrapper\n",
       "    return fn(*wrapper_args, **wrapper_kwargs)\n",
       "           ^^^^^^^^^^^^^^^^^^^^^^^^^^^^^^^^^^^\n",
       "  File \"/var/folders/_b/kmlh75s1007df0jz0xtr03fw0000gn/T/ipykernel_19830/319019531.py\", line 14, in check_even_number\n",
       "    result = cf.run(\n",
       "             ^^^^^^^\n",
       "  File \"/opt/homebrew/anaconda3/envs/default/lib/python3.11/site-packages/controlflow/run.py\", line 128, in run\n",
       "    results = run_tasks(\n",
       "              ^^^^^^^^^^\n",
       "  File \"/opt/homebrew/anaconda3/envs/default/lib/python3.11/site-packages/prefect/tasks.py\", line 1002, in __call__\n",
       "    return run_task(\n",
       "           ^^^^^^^^^\n",
       "  File \"/opt/homebrew/anaconda3/envs/default/lib/python3.11/site-packages/prefect/task_engine.py\", line 1526, in run_task\n",
       "    return run_task_sync(**kwargs)\n",
       "           ^^^^^^^^^^^^^^^^^^^^^^^\n",
       "  File \"/opt/homebrew/anaconda3/envs/default/lib/python3.11/site-packages/prefect/task_engine.py\", line 1339, in run_task_sync\n",
       "    return engine.state if return_type == \"state\" else engine.result()\n",
       "                                                       ^^^^^^^^^^^^^^^\n",
       "  File \"/opt/homebrew/anaconda3/envs/default/lib/python3.11/site-packages/prefect/task_engine.py\", line 482, in result\n",
       "    raise self._raised\n",
       "  File \"/opt/homebrew/anaconda3/envs/default/lib/python3.11/site-packages/prefect/task_engine.py\", line 781, in run_context\n",
       "    yield self\n",
       "  File \"/opt/homebrew/anaconda3/envs/default/lib/python3.11/site-packages/prefect/task_engine.py\", line 1337, in run_task_sync\n",
       "    engine.call_task_fn(txn)\n",
       "  File \"/opt/homebrew/anaconda3/envs/default/lib/python3.11/site-packages/prefect/task_engine.py\", line 804, in call_task_fn\n",
       "    result = call_with_parameters(self.task.fn, parameters)\n",
       "             ^^^^^^^^^^^^^^^^^^^^^^^^^^^^^^^^^^^^^^^^^^^^^^\n",
       "  File \"/opt/homebrew/anaconda3/envs/default/lib/python3.11/site-packages/prefect/utilities/callables.py\", line 206, in call_with_parameters\n",
       "    return fn(*args, **kwargs)\n",
       "           ^^^^^^^^^^^^^^^^^^^\n",
       "  File \"/opt/homebrew/anaconda3/envs/default/lib/python3.11/site-packages/controlflow/run.py\", line 62, in run_tasks\n",
       "    raise ValueError(\n",
       "ValueError: 1 task failed: - Task #a2bca8e6 (\"Check if the number is even\"): The number 5 is not even, which does not meet the requirement for marking the task as successful.\n",
       "</pre>\n"
      ],
      "text/plain": [
       "23:21:04.945 | \u001b[38;5;160mERROR\u001b[0m   | Flow run\u001b[35m 'polite-orangutan'\u001b[0m - Encountered exception during execution: ValueError('1 task failed: - Task #a2bca8e6 (\"Check if the number is even\"): The number 5 is not even, which does not meet the requirement for marking the task as successful.')\n",
       "Traceback (most recent call last):\n",
       "  File \"/opt/homebrew/anaconda3/envs/default/lib/python3.11/site-packages/prefect/flow_engine.py\", line 710, in run_context\n",
       "    yield self\n",
       "  File \"/opt/homebrew/anaconda3/envs/default/lib/python3.11/site-packages/prefect/flow_engine.py\", line 754, in run_flow_sync\n",
       "    engine.call_flow_fn()\n",
       "  File \"/opt/homebrew/anaconda3/envs/default/lib/python3.11/site-packages/prefect/flow_engine.py\", line 733, in call_flow_fn\n",
       "    result = call_with_parameters(self.flow.fn, self.parameters)\n",
       "             ^^^^^^^^^^^^^^^^^^^^^^^^^^^^^^^^^^^^^^^^^^^^^^^^^^^\n",
       "  File \"/opt/homebrew/anaconda3/envs/default/lib/python3.11/site-packages/prefect/utilities/callables.py\", line 206, in call_with_parameters\n",
       "    return fn(*args, **kwargs)\n",
       "           ^^^^^^^^^^^^^^^^^^^\n",
       "  File \"/opt/homebrew/anaconda3/envs/default/lib/python3.11/site-packages/controlflow/decorators.py\", line 113, in wrapper\n",
       "    return fn(*wrapper_args, **wrapper_kwargs)\n",
       "           ^^^^^^^^^^^^^^^^^^^^^^^^^^^^^^^^^^^\n",
       "  File \"/var/folders/_b/kmlh75s1007df0jz0xtr03fw0000gn/T/ipykernel_19830/319019531.py\", line 14, in check_even_number\n",
       "    result = cf.run(\n",
       "             ^^^^^^^\n",
       "  File \"/opt/homebrew/anaconda3/envs/default/lib/python3.11/site-packages/controlflow/run.py\", line 128, in run\n",
       "    results = run_tasks(\n",
       "              ^^^^^^^^^^\n",
       "  File \"/opt/homebrew/anaconda3/envs/default/lib/python3.11/site-packages/prefect/tasks.py\", line 1002, in __call__\n",
       "    return run_task(\n",
       "           ^^^^^^^^^\n",
       "  File \"/opt/homebrew/anaconda3/envs/default/lib/python3.11/site-packages/prefect/task_engine.py\", line 1526, in run_task\n",
       "    return run_task_sync(**kwargs)\n",
       "           ^^^^^^^^^^^^^^^^^^^^^^^\n",
       "  File \"/opt/homebrew/anaconda3/envs/default/lib/python3.11/site-packages/prefect/task_engine.py\", line 1339, in run_task_sync\n",
       "    return engine.state if return_type == \"state\" else engine.result()\n",
       "                                                       ^^^^^^^^^^^^^^^\n",
       "  File \"/opt/homebrew/anaconda3/envs/default/lib/python3.11/site-packages/prefect/task_engine.py\", line 482, in result\n",
       "    raise self._raised\n",
       "  File \"/opt/homebrew/anaconda3/envs/default/lib/python3.11/site-packages/prefect/task_engine.py\", line 781, in run_context\n",
       "    yield self\n",
       "  File \"/opt/homebrew/anaconda3/envs/default/lib/python3.11/site-packages/prefect/task_engine.py\", line 1337, in run_task_sync\n",
       "    engine.call_task_fn(txn)\n",
       "  File \"/opt/homebrew/anaconda3/envs/default/lib/python3.11/site-packages/prefect/task_engine.py\", line 804, in call_task_fn\n",
       "    result = call_with_parameters(self.task.fn, parameters)\n",
       "             ^^^^^^^^^^^^^^^^^^^^^^^^^^^^^^^^^^^^^^^^^^^^^^\n",
       "  File \"/opt/homebrew/anaconda3/envs/default/lib/python3.11/site-packages/prefect/utilities/callables.py\", line 206, in call_with_parameters\n",
       "    return fn(*args, **kwargs)\n",
       "           ^^^^^^^^^^^^^^^^^^^\n",
       "  File \"/opt/homebrew/anaconda3/envs/default/lib/python3.11/site-packages/controlflow/run.py\", line 62, in run_tasks\n",
       "    raise ValueError(\n",
       "ValueError: 1 task failed: - Task #a2bca8e6 (\"Check if the number is even\"): The number 5 is not even, which does not meet the requirement for marking the task as successful.\n"
      ]
     },
     "metadata": {},
     "output_type": "display_data"
    },
    {
     "data": {
      "text/html": [
       "<pre style=\"white-space:pre;overflow-x:auto;line-height:normal;font-family:Menlo,'DejaVu Sans Mono',consolas,'Courier New',monospace\">23:21:04.970 | <span style=\"color: #d70000; text-decoration-color: #d70000\">ERROR</span>   | Flow run<span style=\"color: #800080; text-decoration-color: #800080\"> 'polite-orangutan'</span> - Finished in state <span style=\"color: #d70000; text-decoration-color: #d70000\">Failed</span>('Flow run encountered an exception: ValueError: 1 task failed: - Task #a2bca8e6 (\"Check if the number is even\"): The number 5 is not even, which does not meet the requirement for marking the task as successful.')\n",
       "</pre>\n"
      ],
      "text/plain": [
       "23:21:04.970 | \u001b[38;5;160mERROR\u001b[0m   | Flow run\u001b[35m 'polite-orangutan'\u001b[0m - Finished in state \u001b[38;5;160mFailed\u001b[0m('Flow run encountered an exception: ValueError: 1 task failed: - Task #a2bca8e6 (\"Check if the number is even\"): The number 5 is not even, which does not meet the requirement for marking the task as successful.')\n"
      ]
     },
     "metadata": {},
     "output_type": "display_data"
    },
    {
     "name": "stdout",
     "output_type": "stream",
     "text": [
      "❌ Validation failed: 1 task failed: - Task #a2bca8e6 (\"Check if the number is even\"): The number 5 is not even, which does not meet the requirement for marking the task as successful.\n"
     ]
    },
    {
     "name": "stderr",
     "output_type": "stream",
     "text": [
      "05:15:17.660 | \u001b[93mWARNING\u001b[0m | prefect.server.services.recentdeploymentsscheduler - RecentDeploymentsScheduler took 907.78611 seconds to run, which is longer than its loop interval of 5 seconds.\n",
      "05:15:17.668 | \u001b[93mWARNING\u001b[0m | prefect.server.services.failexpiredpauses - FailExpiredPauses took 907.792441 seconds to run, which is longer than its loop interval of 5.0 seconds.\n",
      "05:15:17.672 | \u001b[93mWARNING\u001b[0m | prefect.server.services.marklateruns - MarkLateRuns took 907.795649 seconds to run, which is longer than its loop interval of 5.0 seconds.\n",
      "07:15:15.579 | \u001b[93mWARNING\u001b[0m | prefect.server.services.recentdeploymentsscheduler - RecentDeploymentsScheduler took 904.789296 seconds to run, which is longer than its loop interval of 5 seconds.\n",
      "07:15:15.581 | \u001b[93mWARNING\u001b[0m | prefect.server.services.failexpiredpauses - FailExpiredPauses took 904.792863 seconds to run, which is longer than its loop interval of 5.0 seconds.\n",
      "07:15:15.585 | \u001b[93mWARNING\u001b[0m | prefect.server.services.marklateruns - MarkLateRuns took 904.793403 seconds to run, which is longer than its loop interval of 5.0 seconds.\n",
      "09:19:13.637 | \u001b[93mWARNING\u001b[0m | prefect.server.services.failexpiredpauses - FailExpiredPauses took 938.838825 seconds to run, which is longer than its loop interval of 5.0 seconds.\n",
      "09:19:13.642 | \u001b[93mWARNING\u001b[0m | prefect.server.services.marklateruns - MarkLateRuns took 938.844827 seconds to run, which is longer than its loop interval of 5.0 seconds.\n",
      "09:19:13.644 | \u001b[93mWARNING\u001b[0m | prefect.server.services.recentdeploymentsscheduler - RecentDeploymentsScheduler took 938.847721 seconds to run, which is longer than its loop interval of 5 seconds.\n"
     ]
    }
   ],
   "source": [
    "# Define a simple data model for the task result\n",
    "class NumberResult(BaseModel):\n",
    "    number: int\n",
    "\n",
    "# Define a result validator function\n",
    "def validate_even(result: NumberResult) -> NumberResult:\n",
    "    if result.number % 2 != 0:\n",
    "        raise ValueError(\"The number must be even.\")\n",
    "    return result\n",
    "\n",
    "@cf.flow\n",
    "def check_even_number(number: int):\n",
    "    # Create a task with a result validator\n",
    "    result = cf.run(\n",
    "        objective=\"Check if the number is even\",\n",
    "        result_type=NumberResult,\n",
    "        result_validator=validate_even,  # Attach the result validator\n",
    "        context={\"number\": number}\n",
    "    )\n",
    "    return result\n",
    "\n",
    "# Example usage\n",
    "try:\n",
    "    # Test with an even number\n",
    "    even_result = check_even_number(4)\n",
    "    print(f\"✅ The number {even_result.number} is even.\")\n",
    "\n",
    "    # Test with an odd number\n",
    "    odd_result = check_even_number(5)\n",
    "    print(f\"✅ The number {odd_result.number} is even.\")\n",
    "except ValueError as e:\n",
    "    print(f\"❌ Validation failed: {str(e)}\")"
   ]
  },
  {
   "cell_type": "code",
   "execution_count": null,
   "metadata": {},
   "outputs": [],
   "source": []
  }
 ],
 "metadata": {
  "kernelspec": {
   "display_name": "default",
   "language": "python",
   "name": "python3"
  },
  "language_info": {
   "codemirror_mode": {
    "name": "ipython",
    "version": 3
   },
   "file_extension": ".py",
   "mimetype": "text/x-python",
   "name": "python",
   "nbconvert_exporter": "python",
   "pygments_lexer": "ipython3",
   "version": "3.11.9"
  }
 },
 "nbformat": 4,
 "nbformat_minor": 2
}
