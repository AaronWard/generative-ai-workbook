{
 "cells": [
  {
   "cell_type": "markdown",
   "id": "ef9dad53",
   "metadata": {},
   "source": [
    "# Prompt Templates"
   ]
  },
  {
   "cell_type": "code",
   "execution_count": 9,
   "id": "fe5e9c51",
   "metadata": {},
   "outputs": [
    {
     "data": {
      "text/plain": [
       "True"
      ]
     },
     "execution_count": 9,
     "metadata": {},
     "output_type": "execute_result"
    }
   ],
   "source": [
    "import pprint as pp\n",
    "from pathlib import Path\n",
    "from dotenv import find_dotenv, load_dotenv\n",
    "\n",
    "from langchain.llms import OpenAI\n",
    "from langchain import PromptTemplate\n",
    "from langchain.embeddings import OpenAIEmbeddings\n",
    "\n",
    "load_dotenv(Path('../../.env'))"
   ]
  },
  {
   "cell_type": "markdown",
   "id": "014f76d5",
   "metadata": {},
   "source": [
    "---"
   ]
  },
  {
   "cell_type": "code",
   "execution_count": 10,
   "id": "4d6c19f5",
   "metadata": {},
   "outputs": [],
   "source": [
    "llm = OpenAI(model_name=\"text-davinci-003\")"
   ]
  },
  {
   "cell_type": "code",
   "execution_count": 11,
   "id": "5e9e383c",
   "metadata": {},
   "outputs": [],
   "source": [
    "our_prompt = \"\"\"\n",
    "I love trips, and I have been to 6 countries. \n",
    "I plan to visit few more soon.\n",
    "\n",
    "Can you create a post for tweet in 10 words for the above?\n",
    "\"\"\""
   ]
  },
  {
   "cell_type": "code",
   "execution_count": 12,
   "id": "e8c01868",
   "metadata": {},
   "outputs": [
    {
     "name": "stdout",
     "output_type": "stream",
     "text": [
      "('\\n'\n",
      " 'Exploring the world! Been to 6 countries and counting. #travelgoals '\n",
      " '#wanderlust')\n"
     ]
    }
   ],
   "source": [
    "pp.pprint(llm(our_prompt))"
   ]
  },
  {
   "cell_type": "markdown",
   "id": "4768461b",
   "metadata": {},
   "source": [
    "### Using F-String"
   ]
  },
  {
   "cell_type": "code",
   "execution_count": 6,
   "id": "23109c05",
   "metadata": {},
   "outputs": [],
   "source": [
    "word_count = 3\n",
    "our_text = \"I love trips, and I have been to 6 countries. I plan to visit few more soon.\"\n",
    "\n",
    "our_prompt = f\"\"\"\n",
    "{our_text}\n",
    "\n",
    "Can you create a post for tweet in {word_count} words for the above?\n",
    "\"\"\""
   ]
  },
  {
   "cell_type": "code",
   "execution_count": 13,
   "id": "38f1eef6",
   "metadata": {},
   "outputs": [
    {
     "name": "stdout",
     "output_type": "stream",
     "text": [
      "('\\n'\n",
      " 'Exploring the world - 6 countries down, few more to go! #travel #adventure '\n",
      " '#exploring')\n"
     ]
    }
   ],
   "source": [
    "pp.pprint(llm(our_prompt))"
   ]
  },
  {
   "cell_type": "markdown",
   "id": "8a4fd394",
   "metadata": {},
   "source": [
    "### Using Prompt Template"
   ]
  },
  {
   "cell_type": "code",
   "execution_count": 16,
   "id": "d81d00a5",
   "metadata": {},
   "outputs": [],
   "source": [
    "template = \"\"\"\n",
    "{our_text}\n",
    "\n",
    "Can you create a post for tweet in {word_count} words for the above?\n",
    "\"\"\""
   ]
  },
  {
   "cell_type": "code",
   "execution_count": 20,
   "id": "b1b26b1f",
   "metadata": {},
   "outputs": [
    {
     "name": "stdout",
     "output_type": "stream",
     "text": [
      "'\\nExploring the world!'\n"
     ]
    }
   ],
   "source": [
    "prompt = PromptTemplate(\n",
    "    input_variables=[\"word_count\",\"our_text\"],\n",
    "    template=template,\n",
    ")\n",
    "\n",
    "final_prompt = prompt.format(word_count='3', our_text=\"I love trips, and I have been to 6 countries. I plan to visit few more soon.\")\n",
    "pp.pprint(llm(final_prompt))"
   ]
  }
 ],
 "metadata": {
  "kernelspec": {
   "display_name": "Python 3 (ipykernel)",
   "language": "python",
   "name": "python3"
  },
  "language_info": {
   "codemirror_mode": {
    "name": "ipython",
    "version": 3
   },
   "file_extension": ".py",
   "mimetype": "text/x-python",
   "name": "python",
   "nbconvert_exporter": "python",
   "pygments_lexer": "ipython3",
   "version": "3.9.18"
  }
 },
 "nbformat": 4,
 "nbformat_minor": 5
}
