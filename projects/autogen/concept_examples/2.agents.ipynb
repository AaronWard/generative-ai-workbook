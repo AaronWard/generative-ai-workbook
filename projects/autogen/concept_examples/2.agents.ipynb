{
 "cells": [
  {
   "cell_type": "markdown",
   "metadata": {},
   "source": [
    "# Agents\n",
    "\n",
    "This notebook will go through how Agents are defined in `autogen`, and walk through the subclasses of `Agent` work with code examples."
   ]
  },
  {
   "cell_type": "code",
   "execution_count": null,
   "metadata": {},
   "outputs": [],
   "source": [
    "# Import necessary libraries\n",
    "import os\n",
    "import json\n",
    "import chess\n",
    "import openai\n",
    "import autogen\n",
    "import tempfile\n",
    "import chromadb\n",
    "from pathlib import Path\n",
    "from collections import defaultdict\n",
    "from typing import Any, Dict, List, Optional, Union\n",
    "\n",
    "from utils.api_utils import load_config_list_from_dotenv\n",
    "\n",
    "config_list = load_config_list_from_dotenv()"
   ]
  },
  {
   "cell_type": "markdown",
   "metadata": {},
   "source": [
    "## agentchat.agent\n",
    "\n",
    "The Agent class is an abstract base class designed to represent an AI agent that can communicate with other agents and perform actions. It provides a high-level interface for sending, receiving, and processing messages between agents. Agents can differ in how they handle received messages and what actions they perform in the receive method.\n",
    "\n",
    "**Extending the Agent class:**\n",
    "To extend the `Agent` class, one might create a subclass and implement the abstract methods: `send`, `receive`, `reset`, and `generate_reply`. The subclass might have additional methods and attributes depending on the specific functionalities needed.\n",
    "\n",
    "Example of extending the Agent class based on the conversation and documentation:"
   ]
  },
  {
   "cell_type": "code",
   "execution_count": 1,
   "metadata": {},
   "outputs": [],
   "source": [
    "from autogen.agentchat import Agent\n",
    "from typing import Any, Callable, Dict, List, Optional, Tuple, Type, Union\n",
    "\n",
    "\n",
    "class MyAgent(Agent):\n",
    "    def __init__(self, name: str, some_config: Dict):\n",
    "        super().__init__(name)\n",
    "        self.config = some_config  # Additional configuration if needed\n",
    "\n",
    "    def send(self, message: Union[Dict, str], recipient: \"Agent\", request_reply: Optional[bool] = None):\n",
    "        # Implementation of the send method to send a message to another agent\n",
    "        pass\n",
    "\n",
    "    async def a_send(self, message: Union[Dict, str], recipient: \"Agent\", request_reply: Optional[bool] = None):\n",
    "        # Implementation of the async send method to send a message to another agent\n",
    "        pass\n",
    "\n",
    "    def receive(self, message: Union[Dict, str],\n",
    "                sender: \"Agent\", request_reply: Optional[bool] = None):\n",
    "        # Implementation of the receive method to process received messages from another agent\n",
    "        pass\n",
    "\n",
    "    async def a_receive(self, message: Union[Dict, str],\n",
    "                        sender: \"Agent\", request_reply: Optional[bool] = None):\n",
    "        # Implementation of the async receive method to process received messages from another agent\n",
    "        pass\n",
    "\n",
    "    def reset(self):\n",
    "        # Reset the state of the agent\n",
    "        pass\n",
    "\n",
    "    def generate_reply(self, messages: Optional[List[Dict]] = None,\n",
    "                       sender: Optional[\"Agent\"] = None, **kwargs) -> Union[str, Dict, None]:\n",
    "        # Generate a reply based on the received messages\n",
    "        pass\n",
    "\n",
    "    async def a_generate_reply(self, messages: Optional[List[Dict]] = None,\n",
    "                               sender: Optional[\"Agent\"] = None, **kwargs) -> Union[str, Dict, None]:\n",
    "        # Async method to generate a reply based on the received messages\n",
    "        pass"
   ]
  },
  {
   "cell_type": "markdown",
   "metadata": {},
   "source": [
    "## agentchat.ConversableAgent\n",
    "\n",
    "**Purpose**: A class for creating generic conversable agents that can be configured as an assistant or user proxy. In simpler terms, this class is enhancing the basic `Agent` by adding conversational capabilities, managing conversations and messages, and allowing customization and control over responses and actions in the conversation. It provides properties and methods to manage system messages, reply functions, chat messages, and to perform actions like sending messages to other agents.\n",
    "\n",
    "- When a conversation is initiated, `ConversableAgent` starts by sending an initial message and prepares to handle subsequent messages.\n",
    "- For each received message, it follows a series of checks and executes corresponding actions like generating replies, executing codes, or making function calls.\n",
    "- It can involve a human in the conversation when needed, asking for inputs or decisions.\n",
    "- It maintains flexibility and extensibility by allowing customization of its behaviors and dynamic addition of new capabilities.\n",
    "\n",
    "\n",
    "**Key Methods:**\n",
    "- `register_reply`: Registers a reply function based on a specified trigger.\n",
    "- `send`: Sends a message to another agent.\n",
    "- `receive`: Receives a message from another agent and sends a reply or stops.\n",
    "- `initiate_chat`: Initiates a chat with the recipient agent, resetting the auto reply counter and clearing chat history if specified.\n",
    "- `reset`: Resets the agent, clearing all registered reply functions and the chat history.\n",
    "- `generate_reply`: Generates a reply based on the conversation history and the sender using registered auto reply functions.\n",
    "\n",
    "\n",
    "**Example Workflow:**\n",
    "1. Create instances of AssistantAgent and ConversableAgent.\n",
    "2. Register reply functions to ConversableAgent using register_reply method.\n",
    "3. Use send method to send messages between agents.\n",
    "4.  Use receive method to receive messages and automatically generate replies based on registered reply functions.\n",
    "5. Reset agents and clear chat history when needed using reset and clear_history methods respectively."
   ]
  },
  {
   "cell_type": "code",
   "execution_count": null,
   "metadata": {},
   "outputs": [],
   "source": []
  },
  {
   "cell_type": "markdown",
   "metadata": {},
   "source": [
    "## agentchat.AssistantAgent\n",
    "\n",
    "**Purpose:** `AssistantAgent` is a specialized subclass of `ConversableAgent`, designed primarily to act as a task-solving assistant using Language Learning Models (LLMs). It is programmed to suggest Python code blocks or shell scripts for the user to execute, aiming to solve tasks step by step while providing clear plans and explanations. It emphasizes providing structured, task-oriented solutions but does not execute the code by default, leaving the execution to the user.\n",
    "\n",
    "- It starts with a default system message which guides the assistant on how to approach and solve tasks and how to communicate the solutions to the user.\n",
    "- It can generate replies based on LLMs and can maintain a conversation around solving specific tasks, providing coding suggestions and debugging help.\n",
    "- It maintains a structured and task-focused approach, emphasizing clarity, verification, and providing evidence for the solutions given.\n",
    "\n",
    "\n",
    "**Key Methods:**\n",
    "\n",
    "`__init__`: Initializes the `AssistantAgent` with specific configurations including LLM configuration and system message.\n",
    "Inherits methods from `ConversableAgent` like `register_reply`, `send`, `receive`, `initiate_chat`, `reset`, and `generate_reply`.\n"
   ]
  },
  {
   "cell_type": "code",
   "execution_count": null,
   "metadata": {},
   "outputs": [],
   "source": []
  },
  {
   "cell_type": "markdown",
   "metadata": {},
   "source": [
    "## agentchat.UserProxyAgent\n",
    "\n",
    "**Purpose**: UserProxyAgent is another subclass of ConversableAgent that acts as a proxy for the user, designed to execute code and provide user-like feedback to other agents. It is more interactive and flexible, emphasizing obtaining human inputs and allowing modifications to the way it gets human input and executes code. By default, it prompts for human input every time a message is received and has code execution enabled, allowing for a more dynamic and responsive conversation flow.\n",
    "\n",
    "- It can execute code by default and is more focused on interactivity, acting as a user representative in conversations.\n",
    "- It is highly customizable, allowing methods to be overridden to modify how it gets human input, executes code, and generates initial messages.\n",
    "- It maintains the capability to register replies and can be configured to auto-reply based on specific conditions or triggers.\n",
    "\n",
    "\n",
    "**Key Methods:**\n",
    "\n",
    "- `human_input_mode (Optional[str])`: Strategy to determine when to ask for human inputs. It has three possible values:\n",
    "    - \"ALWAYS\": Prompts for human input every time a message is received.\n",
    "    - \"TERMINATE\": Only prompts for human input when a termination message is received or the number of auto replies reaches max_consecutive_auto_reply.\n",
    "    - \"NEVER\": Never prompts for human input.\n",
    "\n",
    "**Workflow:**\n",
    "1. Initialization: Create an instance of `UserProxyAgent` with the desired configuration.\n",
    "2. Integration: Integrate the `UserProxyAgent` within a chat system or multi-agent environment.\n",
    "3. Interaction: The agent can receive and process messages, execute code, provide feedback to other agents, and prompt for human input based on its configuration.\n"
   ]
  },
  {
   "cell_type": "code",
   "execution_count": null,
   "metadata": {},
   "outputs": [],
   "source": []
  }
 ],
 "metadata": {
  "kernelspec": {
   "display_name": "masterclass",
   "language": "python",
   "name": "python3"
  },
  "language_info": {
   "codemirror_mode": {
    "name": "ipython",
    "version": 3
   },
   "file_extension": ".py",
   "mimetype": "text/x-python",
   "name": "python",
   "nbconvert_exporter": "python",
   "pygments_lexer": "ipython3",
   "version": "3.10.12"
  },
  "orig_nbformat": 4
 },
 "nbformat": 4,
 "nbformat_minor": 2
}
