{
 "cells": [
  {
   "cell_type": "markdown",
   "id": "7585270c",
   "metadata": {},
   "source": [
    "# Utility Chains Overview"
   ]
  },
  {
   "cell_type": "markdown",
   "id": "416fc6f5",
   "metadata": {},
   "source": [
    "## Summarizing Documents"
   ]
  },
  {
   "cell_type": "markdown",
   "id": "6782af7d",
   "metadata": {},
   "source": [
    "### load_summarize_chain"
   ]
  },
  {
   "cell_type": "code",
   "execution_count": 11,
   "id": "db3f812e",
   "metadata": {},
   "outputs": [],
   "source": [
    "import os\n",
    "import pprint as pp\n",
    "from pathlib import Path\n",
    "from dotenv import find_dotenv, load_dotenv\n",
    "\n",
    "load_dotenv(Path('../../.env'))\n",
    "\n",
    "from langchain.llms import OpenAI\n",
    "from langchain.prompts import PromptTemplate\n",
    "from langchain.docstore.document import Document\n",
    "from langchain.chains import LLMRequestsChain, LLMChain\n",
    "from langchain.text_splitter import CharacterTextSplitter\n",
    "from langchain.chains.summarize import load_summarize_chain\n"
   ]
  },
  {
   "cell_type": "code",
   "execution_count": 5,
   "id": "333eca01",
   "metadata": {},
   "outputs": [],
   "source": [
    "llm = OpenAI(temperature=0.9)"
   ]
  },
  {
   "cell_type": "code",
   "execution_count": 6,
   "id": "369ec2d4",
   "metadata": {},
   "outputs": [],
   "source": [
    "# Reading the document\n",
    "with open(\"sample.txt\") as f:\n",
    "    data = f.read()"
   ]
  },
  {
   "cell_type": "code",
   "execution_count": null,
   "id": "dfcdaf26",
   "metadata": {},
   "outputs": [],
   "source": [
    "# Split text - When it comes to document processing,\n",
    "# breaking a large document into smaller, more manageable \n",
    "# chunks is essential\n",
    "text_splitter = CharacterTextSplitter()\n",
    "texts = text_splitter.split_text(data)"
   ]
  },
  {
   "cell_type": "code",
   "execution_count": 8,
   "id": "1e33b908",
   "metadata": {},
   "outputs": [],
   "source": [
    "# Create multiple documents\n",
    "docs = [Document(page_content=t) for t in texts]"
   ]
  },
  {
   "cell_type": "code",
   "execution_count": 9,
   "id": "aa7b6158",
   "metadata": {},
   "outputs": [
    {
     "data": {
      "text/plain": [
       "[Document(page_content=\"Title: The Computer: Revolutionizing the World of Technology\\n\\nIntroduction:\\nThe computer is a marvel of human ingenuity that has revolutionized the world in countless ways. From its humble beginnings as a complex calculating machine to its current status as a ubiquitous tool in every aspect of our lives, the computer has transformed how we work, communicate, learn, and entertain ourselves. This essay explores the evolution, impact, and future potential of computers in shaping our modern world.\\n\\nThe Birth of the Computer:\\nThe computer has its roots in the early 19th century when inventors and mathematicians began conceptualizing machines capable of automating complex calculations. However, it was not until the mid-20th century that the first electronic digital computers were developed. Pioneers such as Alan Turing, John von Neumann, and Grace Hopper made significant contributions to the field, laying the groundwork for the computers we know today.\\n\\nThe Evolution of Computing Power:\\nFrom room-sized mainframes to portable laptops, computers have evolved exponentially in terms of size, speed, and processing power. The introduction of integrated circuits, microprocessors, and Moore's Law, which states that the number of transistors on a microchip doubles approximately every two years, have propelled the advancement of computer technology. This exponential growth has led to the development of faster, more efficient, and increasingly capable devices that continue to reshape our world.\\n\\nTransforming Work and Productivity:\\nComputers have transformed the workplace, increasing productivity, efficiency, and accuracy across industries. They have automated repetitive tasks, streamlined operations, and facilitated global connectivity. From word processing and data analysis to complex simulations and artificial intelligence, computers have become essential tools for professionals in fields such as finance, healthcare, engineering, and creative arts. The advent of remote work and digital collaboration further underscores the computer's impact on modern work environments.\\n\\nCommunication and Connectivity:\\nThe computer has revolutionized communication, enabling people to connect with one another across vast distances. The internet, a global network of computers, has facilitated instant communication through email, messaging applications, and social media platforms. It has transformed how we share information, access knowledge, and engage in online communities. Additionally, advancements in video conferencing and virtual reality have bridged geographical gaps, allowing for immersive and real-time interactions.\\n\\n\\nEducation and Learning:\\nComputers have had a profound impact on education, revolutionizing the way we learn and acquire knowledge. Online learning platforms, digital textbooks, and educational software provide accessible and interactive learning experiences. Virtual simulations and augmented reality applications enhance understanding in subjects such as science, history, and medicine. Furthermore, computers have expanded access to education, enabling remote learning and distance education opportunities for individuals worldwide.\\n\\nEntertainment and Creativity:\\nComputers have transformed the entertainment industry, enabling the creation and consumption of diverse forms of media. From video games and digital art to music production and film editing, computers have become indispensable tools for creative expression. Streaming services and online platforms have democratized content distribution, offering a plethora of entertainment options to global audiences. Virtual reality and augmented reality technologies offer immersive experiences, blurring the boundaries between the digital and physical realms.\", metadata={}),\n",
       " Document(page_content='Conclusion:\\nThe computer has profoundly shaped our modern world, revolutionizing the way we work, communicate, learn, and entertain ourselves. Its evolution from a bulky calculating machine to a portable device with immense processing power is a testament to human innovation. As computers continue to advance, their potential to drive societal progress, solve complex problems, and inspire new avenues of creativity is limitless. With responsible development and ethical usage, the computer will undoubtedly remain at the forefront of technological advancements, empowering individuals and transforming societies for generations to come.', metadata={})]"
      ]
     },
     "execution_count": 9,
     "metadata": {},
     "output_type": "execute_result"
    }
   ],
   "source": [
    "docs"
   ]
  },
  {
   "cell_type": "markdown",
   "id": "7bf24b6b",
   "metadata": {},
   "source": [
    "To create an instance of load_summarizer_chain, we need to provide three arguments. <br><br>Firstly, we need to pass the desired large language model that will be used to query the user input. Secondly, we specify the type of langchain chain to be used for summarizing documents.<br> Lastly, we can set the verbose argument to True if we want to see all the intermediate steps involved in processing the user request and generating the output.<font>"
   ]
  },
  {
   "cell_type": "code",
   "execution_count": 10,
   "id": "a582191f",
   "metadata": {},
   "outputs": [
    {
     "name": "stdout",
     "output_type": "stream",
     "text": [
      "\n",
      "\n",
      "\u001b[1m> Entering new MapReduceDocumentsChain chain...\u001b[0m\n",
      "\n",
      "\n",
      "\u001b[1m> Entering new LLMChain chain...\u001b[0m\n",
      "Prompt after formatting:\n",
      "\u001b[32;1m\u001b[1;3mWrite a concise summary of the following:\n",
      "\n",
      "\n",
      "\"Title: The Computer: Revolutionizing the World of Technology\n",
      "\n",
      "Introduction:\n",
      "The computer is a marvel of human ingenuity that has revolutionized the world in countless ways. From its humble beginnings as a complex calculating machine to its current status as a ubiquitous tool in every aspect of our lives, the computer has transformed how we work, communicate, learn, and entertain ourselves. This essay explores the evolution, impact, and future potential of computers in shaping our modern world.\n",
      "\n",
      "The Birth of the Computer:\n",
      "The computer has its roots in the early 19th century when inventors and mathematicians began conceptualizing machines capable of automating complex calculations. However, it was not until the mid-20th century that the first electronic digital computers were developed. Pioneers such as Alan Turing, John von Neumann, and Grace Hopper made significant contributions to the field, laying the groundwork for the computers we know today.\n",
      "\n",
      "The Evolution of Computing Power:\n",
      "From room-sized mainframes to portable laptops, computers have evolved exponentially in terms of size, speed, and processing power. The introduction of integrated circuits, microprocessors, and Moore's Law, which states that the number of transistors on a microchip doubles approximately every two years, have propelled the advancement of computer technology. This exponential growth has led to the development of faster, more efficient, and increasingly capable devices that continue to reshape our world.\n",
      "\n",
      "Transforming Work and Productivity:\n",
      "Computers have transformed the workplace, increasing productivity, efficiency, and accuracy across industries. They have automated repetitive tasks, streamlined operations, and facilitated global connectivity. From word processing and data analysis to complex simulations and artificial intelligence, computers have become essential tools for professionals in fields such as finance, healthcare, engineering, and creative arts. The advent of remote work and digital collaboration further underscores the computer's impact on modern work environments.\n",
      "\n",
      "Communication and Connectivity:\n",
      "The computer has revolutionized communication, enabling people to connect with one another across vast distances. The internet, a global network of computers, has facilitated instant communication through email, messaging applications, and social media platforms. It has transformed how we share information, access knowledge, and engage in online communities. Additionally, advancements in video conferencing and virtual reality have bridged geographical gaps, allowing for immersive and real-time interactions.\n",
      "\n",
      "\n",
      "Education and Learning:\n",
      "Computers have had a profound impact on education, revolutionizing the way we learn and acquire knowledge. Online learning platforms, digital textbooks, and educational software provide accessible and interactive learning experiences. Virtual simulations and augmented reality applications enhance understanding in subjects such as science, history, and medicine. Furthermore, computers have expanded access to education, enabling remote learning and distance education opportunities for individuals worldwide.\n",
      "\n",
      "Entertainment and Creativity:\n",
      "Computers have transformed the entertainment industry, enabling the creation and consumption of diverse forms of media. From video games and digital art to music production and film editing, computers have become indispensable tools for creative expression. Streaming services and online platforms have democratized content distribution, offering a plethora of entertainment options to global audiences. Virtual reality and augmented reality technologies offer immersive experiences, blurring the boundaries between the digital and physical realms.\"\n",
      "\n",
      "\n",
      "CONCISE SUMMARY:\u001b[0m\n",
      "Prompt after formatting:\n",
      "\u001b[32;1m\u001b[1;3mWrite a concise summary of the following:\n",
      "\n",
      "\n",
      "\"Conclusion:\n",
      "The computer has profoundly shaped our modern world, revolutionizing the way we work, communicate, learn, and entertain ourselves. Its evolution from a bulky calculating machine to a portable device with immense processing power is a testament to human innovation. As computers continue to advance, their potential to drive societal progress, solve complex problems, and inspire new avenues of creativity is limitless. With responsible development and ethical usage, the computer will undoubtedly remain at the forefront of technological advancements, empowering individuals and transforming societies for generations to come.\"\n",
      "\n",
      "\n",
      "CONCISE SUMMARY:\u001b[0m\n",
      "\n",
      "\u001b[1m> Finished chain.\u001b[0m\n",
      "\n",
      "\n",
      "\u001b[1m> Entering new LLMChain chain...\u001b[0m\n",
      "Prompt after formatting:\n",
      "\u001b[32;1m\u001b[1;3mWrite a concise summary of the following:\n",
      "\n",
      "\n",
      "\"\n",
      "This essay explores the evolution of the computer and its impact on modern life. It traces its inception in the early 19th century and its transformation since then into smaller, faster, and more efficient devices. Computers have revolutionized work, communication, education, and entertainment by introducing remote work, global connectivity, interactive learning experiences, and creative expression tools. The computer's continued evolution promises to create new and exciting opportunities in the future.\n",
      "\n",
      " The computer has revolutionized our lives, changing the way we work, communicate, learn, and entertain ourselves. Thanks to human innovation, the computer has gone from a bulky machine to a compact device with immense processing power. Its potential to drive societal progress, solve complex problems, and open new avenues of creativity is limitless. With responsible development and ethical usage, the computer will remain a powerful tool in the lives of individuals and societies for generations.\"\n",
      "\n",
      "\n",
      "CONCISE SUMMARY:\u001b[0m\n",
      "\n",
      "\u001b[1m> Finished chain.\u001b[0m\n",
      "\n",
      "\u001b[1m> Finished chain.\u001b[0m\n"
     ]
    },
    {
     "data": {
      "text/plain": [
       "' This essay traces the evolution of the computer from its inception in the early 19th century to its current form, and its impact on modern life. Computers have revolutionized work, communication, education, and entertainment, and have the potential to continue doing so in the future. Human innovation has made the computer a compact and powerful tool with immense potential, and with responsible development and usage, it can positively shape our lives for generations to come.'"
      ]
     },
     "execution_count": 10,
     "metadata": {},
     "output_type": "execute_result"
    }
   ],
   "source": [
    "# Reduce the size of the documents.\n",
    "# MapReduce: Summary of each, then make a summary of the both\n",
    "chain = load_summarize_chain(llm, chain_type=\"map_reduce\", verbose=True)\n",
    "chain.run(docs)"
   ]
  },
  {
   "cell_type": "markdown",
   "id": "3593072c",
   "metadata": {},
   "source": [
    "## HTTP Requests"
   ]
  },
  {
   "cell_type": "markdown",
   "id": "320a57a5",
   "metadata": {},
   "source": [
    "### LLMRequestsChain"
   ]
  },
  {
   "cell_type": "code",
   "execution_count": 12,
   "id": "e1f23480",
   "metadata": {},
   "outputs": [],
   "source": [
    "template = \"\"\"\n",
    "Extract the answer to the question '{query}' or say \"not found\" if the information is not available.\n",
    "{requests_result}\n",
    "\"\"\"\n",
    "\n",
    "PROMPT = PromptTemplate(\n",
    "    input_variables=[\"query\", \"requests_result\"],\n",
    "    template=template,\n",
    ")"
   ]
  },
  {
   "cell_type": "code",
   "execution_count": 13,
   "id": "a5dc9937",
   "metadata": {},
   "outputs": [],
   "source": [
    "llm=OpenAI()\n",
    "chain = LLMRequestsChain(llm_chain=LLMChain(llm=llm, prompt=PROMPT))"
   ]
  },
  {
   "cell_type": "markdown",
   "id": "cb3fbc27",
   "metadata": {},
   "source": [
    "Preparing the question & inputs to the http request<font>"
   ]
  },
  {
   "cell_type": "code",
   "execution_count": 15,
   "id": "64893b39",
   "metadata": {},
   "outputs": [],
   "source": [
    "question = \"What is the capital of india?\"\n",
    "inputs = {\n",
    "    \"query\": question,\n",
    "    \"url\": \"https://www.google.com/search?q=\" + question.replace(\" \", \"+\"),\n",
    "}"
   ]
  },
  {
   "cell_type": "code",
   "execution_count": 16,
   "id": "779f0411",
   "metadata": {},
   "outputs": [
    {
     "data": {
      "text/plain": [
       "{'query': 'What is the capital of india?',\n",
       " 'url': 'https://www.google.com/search?q=What+is+the+capital+of+india?',\n",
       " 'output': '\\nNew Delhi'}"
      ]
     },
     "execution_count": 16,
     "metadata": {},
     "output_type": "execute_result"
    }
   ],
   "source": [
    "chain(inputs)"
   ]
  },
  {
   "cell_type": "code",
   "execution_count": 17,
   "id": "b974d187",
   "metadata": {},
   "outputs": [
    {
     "name": "stdout",
     "output_type": "stream",
     "text": [
      "    def _call(\n",
      "        self,\n",
      "        inputs: Dict[str, Any],\n",
      "        run_manager: Optional[CallbackManagerForChainRun] = None,\n",
      "    ) -> Dict[str, Any]:\n",
      "        from bs4 import BeautifulSoup\n",
      "\n",
      "        _run_manager = run_manager or CallbackManagerForChainRun.get_noop_manager()\n",
      "        # Other keys are assumed to be needed for LLM prediction\n",
      "        other_keys = {k: v for k, v in inputs.items() if k != self.input_key}\n",
      "        url = inputs[self.input_key]\n",
      "        res = self.requests_wrapper.get(url)\n",
      "        # extract the text from the html\n",
      "        soup = BeautifulSoup(res, \"html.parser\")\n",
      "        other_keys[self.requests_key] = soup.get_text()[: self.text_length]\n",
      "        result = self.llm_chain.predict(\n",
      "            callbacks=_run_manager.get_child(), **other_keys\n",
      "        )\n",
      "        return {self.output_key: result}\n",
      "\n"
     ]
    }
   ],
   "source": [
    "# Using beautifulsoup to scrape data from\n",
    "# the google searchs.\n",
    "import inspect\n",
    "print(inspect.getsource(chain._call))"
   ]
  },
  {
   "cell_type": "code",
   "execution_count": 18,
   "id": "59967fd5",
   "metadata": {},
   "outputs": [
    {
     "name": "stdout",
     "output_type": "stream",
     "text": [
      "\u001b[0;31mSignature:\u001b[0m     \n",
      " \u001b[0mchain\u001b[0m\u001b[0;34m(\u001b[0m\u001b[0;34m\u001b[0m\n",
      "\u001b[0;34m\u001b[0m    \u001b[0minputs\u001b[0m\u001b[0;34m:\u001b[0m \u001b[0mUnion\u001b[0m\u001b[0;34m[\u001b[0m\u001b[0mDict\u001b[0m\u001b[0;34m[\u001b[0m\u001b[0mstr\u001b[0m\u001b[0;34m,\u001b[0m \u001b[0mAny\u001b[0m\u001b[0;34m]\u001b[0m\u001b[0;34m,\u001b[0m \u001b[0mAny\u001b[0m\u001b[0;34m]\u001b[0m\u001b[0;34m,\u001b[0m\u001b[0;34m\u001b[0m\n",
      "\u001b[0;34m\u001b[0m    \u001b[0mreturn_only_outputs\u001b[0m\u001b[0;34m:\u001b[0m \u001b[0mbool\u001b[0m \u001b[0;34m=\u001b[0m \u001b[0;32mFalse\u001b[0m\u001b[0;34m,\u001b[0m\u001b[0;34m\u001b[0m\n",
      "\u001b[0;34m\u001b[0m    \u001b[0mcallbacks\u001b[0m\u001b[0;34m:\u001b[0m \u001b[0mUnion\u001b[0m\u001b[0;34m[\u001b[0m\u001b[0mList\u001b[0m\u001b[0;34m[\u001b[0m\u001b[0mlangchain\u001b[0m\u001b[0;34m.\u001b[0m\u001b[0mcallbacks\u001b[0m\u001b[0;34m.\u001b[0m\u001b[0mbase\u001b[0m\u001b[0;34m.\u001b[0m\u001b[0mBaseCallbackHandler\u001b[0m\u001b[0;34m]\u001b[0m\u001b[0;34m,\u001b[0m \u001b[0mlangchain\u001b[0m\u001b[0;34m.\u001b[0m\u001b[0mcallbacks\u001b[0m\u001b[0;34m.\u001b[0m\u001b[0mbase\u001b[0m\u001b[0;34m.\u001b[0m\u001b[0mBaseCallbackManager\u001b[0m\u001b[0;34m,\u001b[0m \u001b[0mNoneType\u001b[0m\u001b[0;34m]\u001b[0m \u001b[0;34m=\u001b[0m \u001b[0;32mNone\u001b[0m\u001b[0;34m,\u001b[0m\u001b[0;34m\u001b[0m\n",
      "\u001b[0;34m\u001b[0m    \u001b[0;34m*\u001b[0m\u001b[0;34m,\u001b[0m\u001b[0;34m\u001b[0m\n",
      "\u001b[0;34m\u001b[0m    \u001b[0mtags\u001b[0m\u001b[0;34m:\u001b[0m \u001b[0mOptional\u001b[0m\u001b[0;34m[\u001b[0m\u001b[0mList\u001b[0m\u001b[0;34m[\u001b[0m\u001b[0mstr\u001b[0m\u001b[0;34m]\u001b[0m\u001b[0;34m]\u001b[0m \u001b[0;34m=\u001b[0m \u001b[0;32mNone\u001b[0m\u001b[0;34m,\u001b[0m\u001b[0;34m\u001b[0m\n",
      "\u001b[0;34m\u001b[0m    \u001b[0mmetadata\u001b[0m\u001b[0;34m:\u001b[0m \u001b[0mOptional\u001b[0m\u001b[0;34m[\u001b[0m\u001b[0mDict\u001b[0m\u001b[0;34m[\u001b[0m\u001b[0mstr\u001b[0m\u001b[0;34m,\u001b[0m \u001b[0mAny\u001b[0m\u001b[0;34m]\u001b[0m\u001b[0;34m]\u001b[0m \u001b[0;34m=\u001b[0m \u001b[0;32mNone\u001b[0m\u001b[0;34m,\u001b[0m\u001b[0;34m\u001b[0m\n",
      "\u001b[0;34m\u001b[0m    \u001b[0mrun_name\u001b[0m\u001b[0;34m:\u001b[0m \u001b[0mOptional\u001b[0m\u001b[0;34m[\u001b[0m\u001b[0mstr\u001b[0m\u001b[0;34m]\u001b[0m \u001b[0;34m=\u001b[0m \u001b[0;32mNone\u001b[0m\u001b[0;34m,\u001b[0m\u001b[0;34m\u001b[0m\n",
      "\u001b[0;34m\u001b[0m    \u001b[0minclude_run_info\u001b[0m\u001b[0;34m:\u001b[0m \u001b[0mbool\u001b[0m \u001b[0;34m=\u001b[0m \u001b[0;32mFalse\u001b[0m\u001b[0;34m,\u001b[0m\u001b[0;34m\u001b[0m\n",
      "\u001b[0;34m\u001b[0m\u001b[0;34m)\u001b[0m \u001b[0;34m->\u001b[0m \u001b[0mDict\u001b[0m\u001b[0;34m[\u001b[0m\u001b[0mstr\u001b[0m\u001b[0;34m,\u001b[0m \u001b[0mAny\u001b[0m\u001b[0;34m]\u001b[0m\u001b[0;34m\u001b[0m\u001b[0;34m\u001b[0m\u001b[0m\n",
      "\u001b[0;31mType:\u001b[0m           LLMRequestsChain\n",
      "\u001b[0;31mString form:\u001b[0m    memory=None callbacks=None callback_manager=None verbose=False tags=None metadata=None llm_chain= <...> e, auth=None) text_length=8000 requests_key='requests_result' input_key='url' output_key='output'\n",
      "\u001b[0;31mFile:\u001b[0m           ~/anaconda3/envs/masterclass/lib/python3.9/site-packages/langchain/chains/llm_requests.py\n",
      "\u001b[0;31mDocstring:\u001b[0m      Chain that requests a URL and then uses an LLM to parse results.\n",
      "\u001b[0;31mInit docstring:\u001b[0m\n",
      "Create a new model by parsing and validating input data from keyword arguments.\n",
      "\n",
      "Raises ValidationError if the input data cannot be parsed to form a valid model.\n",
      "\u001b[0;31mCall docstring:\u001b[0m\n",
      "Execute the chain.\n",
      "\n",
      "Args:\n",
      "    inputs: Dictionary of inputs, or single input if chain expects\n",
      "        only one param. Should contain all inputs specified in\n",
      "        `Chain.input_keys` except for inputs that will be set by the chain's\n",
      "        memory.\n",
      "    return_only_outputs: Whether to return only outputs in the\n",
      "        response. If True, only new keys generated by this chain will be\n",
      "        returned. If False, both input keys and new keys generated by this\n",
      "        chain will be returned. Defaults to False.\n",
      "    callbacks: Callbacks to use for this chain run. These will be called in\n",
      "        addition to callbacks passed to the chain during construction, but only\n",
      "        these runtime callbacks will propagate to calls to other objects.\n",
      "    tags: List of string tags to pass to all callbacks. These will be passed in\n",
      "        addition to tags passed to the chain during construction, but only\n",
      "        these runtime tags will propagate to calls to other objects.\n",
      "    metadata: Optional metadata associated with the chain. Defaults to None\n",
      "    include_run_info: Whether to include run info in the response. Defaults\n",
      "        to False.\n",
      "\n",
      "Returns:\n",
      "    A dict of named outputs. Should contain all outputs specified in\n",
      "        `Chain.output_keys`."
     ]
    }
   ],
   "source": [
    "? chain"
   ]
  },
  {
   "cell_type": "code",
   "execution_count": null,
   "id": "b85c1423",
   "metadata": {},
   "outputs": [],
   "source": []
  }
 ],
 "metadata": {
  "kernelspec": {
   "display_name": "Python 3 (ipykernel)",
   "language": "python",
   "name": "python3"
  },
  "language_info": {
   "codemirror_mode": {
    "name": "ipython",
    "version": 3
   },
   "file_extension": ".py",
   "mimetype": "text/x-python",
   "name": "python",
   "nbconvert_exporter": "python",
   "pygments_lexer": "ipython3",
   "version": "3.9.18"
  }
 },
 "nbformat": 4,
 "nbformat_minor": 5
}
