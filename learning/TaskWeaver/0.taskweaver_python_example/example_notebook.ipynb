{
 "cells": [
  {
   "cell_type": "markdown",
   "metadata": {},
   "source": [
    "## TaskWeaver\n",
    "\n",
    "This notebook aims to condence all requirements needed for coding up a taskweaver project"
   ]
  },
  {
   "cell_type": "code",
   "execution_count": 13,
   "metadata": {},
   "outputs": [],
   "source": [
    "import json\n",
    "from typing import Any, Optional\n",
    "\n",
    "import pprint as pp\n",
    "from taskweaver.app.app import TaskWeaverApp\n",
    "\n",
    "\n",
    "# Create a session\n",
    "app_dir = \"../_starter_projects/\"\n",
    "app = TaskWeaverApp(app_dir=app_dir)\n",
    "session = app.get_session()"
   ]
  },
  {
   "cell_type": "markdown",
   "metadata": {},
   "source": [
    "### Configuration"
   ]
  },
  {
   "cell_type": "code",
   "execution_count": 8,
   "metadata": {},
   "outputs": [
    {
     "data": {
      "text/plain": [
       "10"
      ]
     },
     "execution_count": 8,
     "metadata": {},
     "output_type": "execute_result"
    }
   ],
   "source": [
    "# you can add customer configurations by adding\n",
    "# something like the following to taskweaver_config.json\n",
    "# \"session.max_internal_chat_round_num\": 5 \n",
    "\n",
    "session.config.max_internal_chat_round_num"
   ]
  },
  {
   "cell_type": "code",
   "execution_count": 23,
   "metadata": {},
   "outputs": [
    {
     "data": {
      "text/plain": [
       "{'session_manager.store_type': AppConfigItem(name='session_manager.store_type', value='in_memory', type='enum', sources=[AppConfigSourceValue(source='default', value='in_memory')]),\n",
       " 'llm.api_type': AppConfigItem(name='llm.api_type', value='openai', type='enum', sources=[AppConfigSourceValue(source='default', value='openai')]),\n",
       " 'llm.api_base': AppConfigItem(name='llm.api_base', value='https://api.openai.com/v1', type='str', sources=[AppConfigSourceValue(source='default', value='https://api.openai.com/v1')]),\n",
       " 'llm.api_key': AppConfigItem(name='llm.api_key', value=None, type='str', sources=[AppConfigSourceValue(source='default', value=None)]),\n",
       " 'llm.model': AppConfigItem(name='llm.model', value='gpt-4', type='str', sources=[AppConfigSourceValue(source='default', value='gpt-4')]),\n",
       " 'llm.backup_model': AppConfigItem(name='llm.backup_model', value='gpt-4-1106-preview', type='str', sources=[AppConfigSourceValue(source='default', value='gpt-4-1106-preview')]),\n",
       " 'llm.api_version': AppConfigItem(name='llm.api_version', value='2023-07-01-preview', type='str', sources=[AppConfigSourceValue(source='default', value='2023-07-01-preview')]),\n",
       " 'llm.aad_auth_mode': AppConfigItem(name='llm.aad_auth_mode', value='device_login', type='enum', sources=[AppConfigSourceValue(source='default', value='device_login')]),\n",
       " 'llm.aad_tenant_id': AppConfigItem(name='llm.aad_tenant_id', value='common', type='str', sources=[AppConfigSourceValue(source='default', value='common')]),\n",
       " 'llm.aad_api_resource': AppConfigItem(name='llm.aad_api_resource', value='https://cognitiveservices.azure.com/', type='str', sources=[AppConfigSourceValue(source='default', value='https://cognitiveservices.azure.com/')]),\n",
       " 'llm.aad_api_scope': AppConfigItem(name='llm.aad_api_scope', value='.default', type='str', sources=[AppConfigSourceValue(source='default', value='.default')]),\n",
       " 'llm.aad_client_id': AppConfigItem(name='llm.aad_client_id', value='', type='str', sources=[AppConfigSourceValue(source='default', value='')]),\n",
       " 'llm.aad_client_secret': AppConfigItem(name='llm.aad_client_secret', value='', type='str', sources=[AppConfigSourceValue(source='default', value='')]),\n",
       " 'llm.aad_use_token_cache': AppConfigItem(name='llm.aad_use_token_cache', value=True, type='bool', sources=[AppConfigSourceValue(source='default', value=True)]),\n",
       " 'llm.aad_token_cache_path': AppConfigItem(name='llm.aad_token_cache_path', value='cache/token_cache.bin', type='str', sources=[AppConfigSourceValue(source='default', value='cache/token_cache.bin')]),\n",
       " 'llm.response_format': AppConfigItem(name='llm.response_format', value='json_object', type='enum', sources=[AppConfigSourceValue(source='default', value='json_object')]),\n",
       " 'workspace.mode': AppConfigItem(name='workspace.mode', value='local', type='str', sources=[AppConfigSourceValue(source='default', value='local')]),\n",
       " 'workspace.workspace_path': AppConfigItem(name='workspace.workspace_path', value='${AppBaseDir}/workspace', type='path', sources=[AppConfigSourceValue(source='default', value='${AppBaseDir}/workspace')]),\n",
       " 'logging.remote': AppConfigItem(name='logging.remote', value=False, type='bool', sources=[AppConfigSourceValue(source='default', value=False)]),\n",
       " 'logging.appinsights_connection_string': AppConfigItem(name='logging.appinsights_connection_string', value='', type='str', sources=[AppConfigSourceValue(source='default', value='')]),\n",
       " 'logging.injector': AppConfigItem(name='logging.injector', value=False, type='bool', sources=[AppConfigSourceValue(source='default', value=False)]),\n",
       " 'logging.log_folder': AppConfigItem(name='logging.log_folder', value='logs', type='str', sources=[AppConfigSourceValue(source='default', value='logs')]),\n",
       " 'logging.log_file': AppConfigItem(name='logging.log_file', value='task_weaver.log', type='str', sources=[AppConfigSourceValue(source='default', value='task_weaver.log')]),\n",
       " 'session.use_planner': AppConfigItem(name='session.use_planner', value=True, type='bool', sources=[AppConfigSourceValue(source='default', value=True)]),\n",
       " 'session.max_internal_chat_round_num': AppConfigItem(name='session.max_internal_chat_round_num', value=10, type='int', sources=[AppConfigSourceValue(source='default', value=10)]),\n",
       " 'planner.use_example': AppConfigItem(name='planner.use_example', value=True, type='bool', sources=[AppConfigSourceValue(source='default', value=True)]),\n",
       " 'planner.prompt_file_path': AppConfigItem(name='planner.prompt_file_path', value='${ModuleBaseDir}/planner/planner_prompt.yaml', type='path', sources=[AppConfigSourceValue(source='default', value='${ModuleBaseDir}/planner/planner_prompt.yaml')]),\n",
       " 'planner.example_base_path': AppConfigItem(name='planner.example_base_path', value='${AppBaseDir}/planner_examples', type='path', sources=[AppConfigSourceValue(source='default', value='${AppBaseDir}/planner_examples')]),\n",
       " 'planner.prompt_compression': AppConfigItem(name='planner.prompt_compression', value=False, type='bool', sources=[AppConfigSourceValue(source='default', value=False)]),\n",
       " 'planner.compression_prompt_path': AppConfigItem(name='planner.compression_prompt_path', value='${ModuleBaseDir}/planner/compression_prompt.yaml', type='path', sources=[AppConfigSourceValue(source='default', value='${ModuleBaseDir}/planner/compression_prompt.yaml')]),\n",
       " 'plugin.base_path': AppConfigItem(name='plugin.base_path', value='${AppBaseDir}/plugins', type='path', sources=[AppConfigSourceValue(source='default', value='${AppBaseDir}/plugins')]),\n",
       " 'round_compressor.rounds_to_compress': AppConfigItem(name='round_compressor.rounds_to_compress', value=2, type='int', sources=[AppConfigSourceValue(source='default', value=2)]),\n",
       " 'round_compressor.rounds_to_retain': AppConfigItem(name='round_compressor.rounds_to_retain', value=3, type='int', sources=[AppConfigSourceValue(source='default', value=3)]),\n",
       " 'execution_service.env_dir': AppConfigItem(name='execution_service.env_dir', value='${AppBaseDir}/env', type='path', sources=[AppConfigSourceValue(source='default', value='${AppBaseDir}/env')]),\n",
       " 'code_generator.role_name': AppConfigItem(name='code_generator.role_name', value='ProgramApe', type='str', sources=[AppConfigSourceValue(source='default', value='ProgramApe')]),\n",
       " 'code_generator.executor_name': AppConfigItem(name='code_generator.executor_name', value='CodeExecutor', type='str', sources=[AppConfigSourceValue(source='default', value='CodeExecutor')]),\n",
       " 'code_generator.load_plugin': AppConfigItem(name='code_generator.load_plugin', value=True, type='bool', sources=[AppConfigSourceValue(source='default', value=True)]),\n",
       " 'code_generator.load_example': AppConfigItem(name='code_generator.load_example', value=True, type='bool', sources=[AppConfigSourceValue(source='default', value=True)]),\n",
       " 'code_generator.prompt_file_path': AppConfigItem(name='code_generator.prompt_file_path', value='${ModuleBaseDir}/code_interpreter/code_generator/code_generator_json_prompt.yaml', type='path', sources=[AppConfigSourceValue(source='default', value='${ModuleBaseDir}/code_interpreter/code_generator/code_generator_json_prompt.yaml')]),\n",
       " 'code_generator.example_base_path': AppConfigItem(name='code_generator.example_base_path', value='${AppBaseDir}/codeinterpreter_examples', type='path', sources=[AppConfigSourceValue(source='default', value='${AppBaseDir}/codeinterpreter_examples')]),\n",
       " 'code_generator.prompt_compression': AppConfigItem(name='code_generator.prompt_compression', value=False, type='bool', sources=[AppConfigSourceValue(source='default', value=False)]),\n",
       " 'code_generator.compression_prompt_path': AppConfigItem(name='code_generator.compression_prompt_path', value='${ModuleBaseDir}/code_interpreter/code_generator/compression_prompt.yaml', type='path', sources=[AppConfigSourceValue(source='default', value='${ModuleBaseDir}/code_interpreter/code_generator/compression_prompt.yaml')]),\n",
       " 'code_generator.enable_auto_plugin_selection': AppConfigItem(name='code_generator.enable_auto_plugin_selection', value=False, type='bool', sources=[AppConfigSourceValue(source='default', value=False)]),\n",
       " 'code_generator.auto_plugin_selection_topk': AppConfigItem(name='code_generator.auto_plugin_selection_topk', value=3, type='int', sources=[AppConfigSourceValue(source='default', value=3)]),\n",
       " 'code_verification.code_verification_on': AppConfigItem(name='code_verification.code_verification_on', value=False, type='bool', sources=[AppConfigSourceValue(source='default', value=False)]),\n",
       " 'code_verification.plugin_only': AppConfigItem(name='code_verification.plugin_only', value=False, type='bool', sources=[AppConfigSourceValue(source='default', value=False)]),\n",
       " 'code_verification.allowed_modules': AppConfigItem(name='code_verification.allowed_modules', value=['pandas', 'matplotlib', 'numpy', 'sklearn', 'scipy', 'seaborn', 'datetime', 'typing'], type='list', sources=[AppConfigSourceValue(source='default', value=['pandas', 'matplotlib', 'numpy', 'sklearn', 'scipy', 'seaborn', 'datetime', 'typing'])]),\n",
       " 'embedding_model.embedding_model_type': AppConfigItem(name='embedding_model.embedding_model_type', value='sentence_transformer', type='enum', sources=[AppConfigSourceValue(source='default', value='sentence_transformer')]),\n",
       " 'embedding_model.embedding_model': AppConfigItem(name='embedding_model.embedding_model', value='all-mpnet-base-v2', type='enum', sources=[AppConfigSourceValue(source='default', value='all-mpnet-base-v2')]),\n",
       " 'code_interpreter.use_local_uri': AppConfigItem(name='code_interpreter.use_local_uri', value=False, type='bool', sources=[AppConfigSourceValue(source='default', value=False)]),\n",
       " 'code_interpreter.max_retry_count': AppConfigItem(name='code_interpreter.max_retry_count', value=3, type='int', sources=[AppConfigSourceValue(source='default', value=3)])}"
      ]
     },
     "execution_count": 23,
     "metadata": {},
     "output_type": "execute_result"
    }
   ],
   "source": [
    "# Here is where the configurations from taskweaver_config.json are stored\n",
    "#\n",
    "# Categories of keys within the config\n",
    "# - session_manager\n",
    "# - llm\n",
    "# - workspace\n",
    "# - logging\n",
    "# - session\n",
    "# - planner\n",
    "# - plugin\n",
    "# - round_compressor\n",
    "# - code_generator\n",
    "# - embedding_model\n",
    "# - code_verification\n",
    "# - code_interpreter\n",
    "session.config.src.config\n"
   ]
  },
  {
   "cell_type": "code",
   "execution_count": null,
   "metadata": {},
   "outputs": [],
   "source": []
  },
  {
   "cell_type": "code",
   "execution_count": null,
   "metadata": {},
   "outputs": [],
   "source": []
  },
  {
   "cell_type": "code",
   "execution_count": 2,
   "metadata": {},
   "outputs": [
    {
     "name": "stdout",
     "output_type": "stream",
     "text": [
      "init_plan:\n",
      "1. Provide information about the Planner's capabilities\n",
      "plan:\n",
      "1. Provide information about the Planner's capabilities\n",
      "current_plan_step:\n",
      "Providing information about the Planner's capabilities\n",
      "send_to:\n",
      "User\n",
      "message:\n",
      "Hello! I am the Planner, and I can help you by coordinating with the CodeInterpreter to complete tasks that involve generating and running Python code. You can tell me what you need, and I will create a step-by-step plan to accomplish it. If the task requires coding, I will instruct the CodeInterpreter to write and execute the necessary Python code. How can I assist you today?\n",
      "Planner->User:\n",
      "Hello! I am the Planner, and I can help you by coordinating with the CodeInterpreter to complete tasks that involve generating and running Python code. You can tell me what you need, and I will create a step-by-step plan to accomplish it. If the task requires coding, I will instruct the CodeInterpreter to write and execute the necessary Python code. How can I assist you today?\n",
      "final_reply_message:\n",
      "Hello! I am the Planner, and I can help you by coordinating with the CodeInterpreter to complete tasks that involve generating and running Python code. You can tell me what you need, and I will create a step-by-step plan to accomplish it. If the task requires coding, I will instruct the CodeInterpreter to write and execute the necessary Python code. How can I assist you today?\n"
     ]
    }
   ],
   "source": [
    "# Send a message to the session\n",
    "user_query = \"hello, what can you do?\"\n",
    "response_round = session.send_message(\n",
    "                            user_query,\n",
    "                            event_handler=lambda _type, _msg: print(f\"{_type}:\\n{_msg}\")\n",
    "                          )"
   ]
  },
  {
   "cell_type": "code",
   "execution_count": null,
   "metadata": {},
   "outputs": [],
   "source": [
    "\n",
    "pp.pprint(response_round.to_dict())"
   ]
  },
  {
   "cell_type": "code",
   "execution_count": null,
   "metadata": {},
   "outputs": [],
   "source": [
    "user_query = \"Write code to plot the price of tesla stock YTD\"\n",
    "response_round = session.send_message(user_query,\n",
    "                                      event_handler=lambda _type, _msg: print(f\"{_type}:\\n{_msg}\"))"
   ]
  },
  {
   "cell_type": "code",
   "execution_count": null,
   "metadata": {},
   "outputs": [],
   "source": []
  },
  {
   "cell_type": "code",
   "execution_count": null,
   "metadata": {},
   "outputs": [],
   "source": []
  },
  {
   "cell_type": "code",
   "execution_count": null,
   "metadata": {},
   "outputs": [],
   "source": [
    "### Plugings"
   ]
  },
  {
   "cell_type": "code",
   "execution_count": null,
   "metadata": {},
   "outputs": [],
   "source": [
    "import pandas as pd\n",
    "from taskweaver.plugin import Plugin, register_plugin, test_plugin\n",
    "\n",
    "# Creating a plugin class\n",
    "@register_plugin\n",
    "class SomePluginClass(Plugin):\n",
    "    def __call__(self, df: pd.DataFrame, time_col_name: str, value_col_name: str):\n",
    "        \"\"\"\n",
    "        Some predefined usable function that can be used the code interpreter.\n",
    "        \"\"\"\n",
    "        # // Some code here\n",
    "\n",
    "        # self.ctx.add_artifact(\n",
    "        #     name=\"anomaly_detection_results\",\n",
    "        #     file_name=\"anomaly_detection_results.csv\",\n",
    "        #     type=\"df\",\n",
    "        #     val=df,\n",
    "        # )\n",
    "\n",
    "        return None\n",
    "    \n",
    "# Testing a plugin\n",
    "@test_plugin(name=\"test SomePluginClass\", description=\"test\")\n",
    "def test_call(api_call):\n",
    "    question = \"<some example prompt>\"\n",
    "    result, description = api_call(query=question)\n",
    "    assert result is not None"
   ]
  }
 ],
 "metadata": {
  "kernelspec": {
   "display_name": "masterclass",
   "language": "python",
   "name": "python3"
  },
  "language_info": {
   "codemirror_mode": {
    "name": "ipython",
    "version": 3
   },
   "file_extension": ".py",
   "mimetype": "text/x-python",
   "name": "python",
   "nbconvert_exporter": "python",
   "pygments_lexer": "ipython3",
   "version": "3.10.12"
  }
 },
 "nbformat": 4,
 "nbformat_minor": 2
}
