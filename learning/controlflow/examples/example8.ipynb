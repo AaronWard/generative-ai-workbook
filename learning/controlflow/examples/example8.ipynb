{
 "cells": [
  {
   "cell_type": "markdown",
   "metadata": {},
   "source": [
    "### Example 8: Configuring ControlFlow Settings\n",
    "\n",
    "programmatic settings"
   ]
  },
  {
   "cell_type": "code",
   "execution_count": 2,
   "metadata": {},
   "outputs": [
    {
     "name": "stdout",
     "output_type": "stream",
     "text": [
      "Current ControlFlow Settings:\n",
      "home_path: /Users/aw/.controlflow\n",
      "log_level: DEBUG\n",
      "log_prints: False\n",
      "log_all_messages: False\n",
      "pretty_print_agent_events: None\n",
      "enable_default_print_handler: True\n",
      "orchestrator_max_agent_turns: 100\n",
      "orchestrator_max_llm_calls: 1000\n",
      "task_max_llm_calls: None\n",
      "llm_model: openai/gpt-4o-mini\n",
      "llm_temperature: 0.7\n",
      "max_input_tokens: 100000\n",
      "memory_provider: chroma-db\n",
      "chroma_cloud_tenant: None\n",
      "chroma_cloud_database: None\n",
      "chroma_cloud_api_key: None\n",
      "debug_messages: False\n",
      "tools_raise_on_error: False\n",
      "tools_verbose: True\n",
      "enable_experimental_tui: False\n",
      "run_tui_headless: False\n",
      "prefect_log_level: WARNING\n"
     ]
    }
   ],
   "source": [
    "import controlflow as cf\n",
    "\n",
    "# Home settings\n",
    "cf.settings.home_path = \"~/.controlflow\"\n",
    "\n",
    "# Display and logging settings\n",
    "cf.settings.log_level = \"DEBUG\"  # Options: DEBUG, INFO, WARNING, ERROR, CRITICAL\n",
    "cf.settings.log_prints = False\n",
    "cf.settings.log_all_messages = False\n",
    "cf.settings.enable_default_print_handler = True\n",
    "\n",
    "# Orchestration settings\n",
    "cf.settings.orchestrator_max_agent_turns = 100  # Default maximum agent turns\n",
    "cf.settings.orchestrator_max_llm_calls = 1000  # Default maximum LLM calls\n",
    "cf.settings.task_max_llm_calls = None  # Allow tasks to run indefinitely\n",
    "\n",
    "# LLM settings\n",
    "cf.settings.llm_model = \"openai/gpt-4o-mini\"  # Default LLM model\n",
    "cf.settings.llm_temperature = 0.7  # Sampling temperature\n",
    "cf.settings.max_input_tokens = 100000  # Maximum tokens for LLM input\n",
    "\n",
    "# Debug settings\n",
    "cf.settings.debug_messages = False  # Log all messages at debug level\n",
    "cf.settings.tools_raise_on_error = False  # Raise exceptions on tool errors\n",
    "cf.settings.tools_verbose = True  # Log additional information for tools\n",
    "\n",
    "# Experimental settings\n",
    "cf.settings.enable_experimental_tui = False  # Disable experimental TUI\n",
    "cf.settings.run_tui_headless = False  # Do not run TUI in headless mode\n",
    "\n",
    "# Prefect settings\n",
    "cf.settings.prefect_log_level = \"WARNING\"  # Prefect log level (DEBUG, INFO, etc.)\n",
    "\n",
    "# Verifying the configuration\n",
    "print(\"Current ControlFlow Settings:\")\n",
    "for key, value in cf.settings:\n",
    "    print(f\"{key}: {value}\")\n"
   ]
  }
 ],
 "metadata": {
  "kernelspec": {
   "display_name": "default",
   "language": "python",
   "name": "python3"
  },
  "language_info": {
   "codemirror_mode": {
    "name": "ipython",
    "version": 3
   },
   "file_extension": ".py",
   "mimetype": "text/x-python",
   "name": "python",
   "nbconvert_exporter": "python",
   "pygments_lexer": "ipython3",
   "version": "3.11.9"
  }
 },
 "nbformat": 4,
 "nbformat_minor": 2
}
