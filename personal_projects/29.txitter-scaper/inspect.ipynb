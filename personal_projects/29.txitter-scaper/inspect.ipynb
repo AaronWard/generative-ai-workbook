{
 "cells": [
  {
   "cell_type": "code",
   "execution_count": null,
   "metadata": {},
   "outputs": [],
   "source": [
    "import sqlite3\n",
    "import pandas as pd\n",
    "import tldextract\n",
    "\n",
    "pd.set_option('display.max_rows', 500)"
   ]
  },
  {
   "cell_type": "code",
   "execution_count": null,
   "metadata": {},
   "outputs": [],
   "source": [
    "# HELPER FUNCTIONS\n",
    "# Function to replace URLs with domain names\n",
    "def replace_url_with_domain(text):\n",
    "    extracted = tldextract.extract(text)\n",
    "    if extracted.domain:\n",
    "        return extracted.domain\n",
    "    return text"
   ]
  },
  {
   "cell_type": "code",
   "execution_count": null,
   "metadata": {},
   "outputs": [],
   "source": [
    "# Connect to the SQLite database\n",
    "conn = sqlite3.connect('tweets_4.db')\n",
    "query = \"SELECT * FROM tweets\"\n",
    "\n",
    "# Load the data into a pandas DataFrame\n",
    "data = pd.read_sql_query(query, conn)\n",
    "\n",
    "conn.close()"
   ]
  },
  {
   "cell_type": "code",
   "execution_count": null,
   "metadata": {},
   "outputs": [],
   "source": [
    "# Process tweet text data\n",
    "df = data[data.handle != '@TrainedOnTest']\n",
    "df['content'] = df['content'].str.lower()\n",
    "\n",
    "# ignore chars\n",
    "df['content'] = df['content'].str.replace(\"@\", \"\")\n",
    "df['content'] = df['content'].str.replace(\"!\", \"\")\n",
    "df['content'] = df['content'].str.replace(\"_\", \"\")\n",
    "df['content'] = df['content'].str.replace(\"install\", \"\")\n",
    "df['content'] = df['content'].str.replace(\"?\", \"\")\n",
    "\n",
    "# Stopwords\n",
    "df = df[df.content.str.len() < 25]\n",
    "df['content'] = df['content'].str.replace(\"homehomebrew\", \"homebrew\")\n",
    "df['content'] = df['content'].str.replace(\"home brew\", \"homebrew\")\n",
    "df['content'] = df['content'].str.replace(\"brew  brew\", \"homebrew\")\n",
    "df['content'] = df['content'].str.replace(\"homehomebrew homehomebrew\", \"homebrew\")\n",
    "df['content'] = df['content'].str.replace(\"instead of chrome\", \"\")\n",
    "df['content'] = df['content'].str.strip()\n",
    "\n",
    "\n",
    "# fixes\n",
    "# df['content'] = df['content'].str.replace(\"  \", \",\")\n",
    "df['content'] = df['content'].str.replace(\" and \", \",\")\n",
    "df['content'] = df['content'].str.replace(\" & \", \",\")\n",
    "df['content'] = df['content'].str.replace(\"\\n\", \",\")\n",
    "df['content'] = df['content'].str.replace(\" + \", \",\")\n",
    "df['content'] = df['content'].apply(replace_url_with_domain)\n",
    "df['content'] = df['content'].str.split(',')\n",
    "df = df.explode('content')\n",
    "\n",
    "\n",
    "df['content'] = df['content'].str.replace(\"this\", \"\")\n",
    "df['content'] = df['content'].str.replace(\"underrated\", \"\")\n",
    "df['content'] = df['content'].str.replace(\"+1\", \"\")\n",
    "df['content'] = df['content'].str.replace(\"there's only one answer\", \"\")\n",
    "\n",
    "# df = df[~df.content.isna()]\n",
    "df = df[df.content != \"\"]\n",
    "\n",
    "df.reset_index(drop=True, inplace=True)"
   ]
  },
  {
   "cell_type": "code",
   "execution_count": null,
   "metadata": {},
   "outputs": [],
   "source": [
    "data[data.duplicated(subset=['handle', 'content'])]"
   ]
  },
  {
   "cell_type": "code",
   "execution_count": null,
   "metadata": {},
   "outputs": [],
   "source": [
    "df.head(100)"
   ]
  },
  {
   "cell_type": "code",
   "execution_count": null,
   "metadata": {},
   "outputs": [],
   "source": [
    "df.shape"
   ]
  },
  {
   "cell_type": "code",
   "execution_count": null,
   "metadata": {},
   "outputs": [],
   "source": [
    "df.content.value_counts().sort_values(ascending=True).tail(50).plot(kind='barh', figsize=(15, 15), title=f\"Top 50 Recommended Apps from Tweet Replies\")"
   ]
  },
  {
   "cell_type": "code",
   "execution_count": null,
   "metadata": {},
   "outputs": [],
   "source": []
  }
 ],
 "metadata": {
  "kernelspec": {
   "display_name": "default",
   "language": "python",
   "name": "python3"
  },
  "language_info": {
   "codemirror_mode": {
    "name": "ipython",
    "version": 3
   },
   "file_extension": ".py",
   "mimetype": "text/x-python",
   "name": "python",
   "nbconvert_exporter": "python",
   "pygments_lexer": "ipython3",
   "version": "3.11.9"
  }
 },
 "nbformat": 4,
 "nbformat_minor": 2
}
