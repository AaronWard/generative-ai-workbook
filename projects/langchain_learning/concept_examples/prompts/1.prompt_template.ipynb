{
 "cells": [
  {
   "attachments": {},
   "cell_type": "markdown",
   "metadata": {},
   "source": [
    "# 1. Prompt Template\n",
    "\n",
    "In LangChain, a PromptValue is the input passed to the model. It is dynamically created using user input, non-static information, and a template string. The `PromptTemplate` object generates the `PromptValue` by taking input variables and returning it."
   ]
  },
  {
   "cell_type": "code",
   "execution_count": 2,
   "metadata": {},
   "outputs": [
    {
     "name": "stdout",
     "output_type": "stream",
     "text": [
      "Hello There John\n",
      "    \n"
     ]
    }
   ],
   "source": [
    "\"\"\"\n",
    "https://python.langchain.com/en/latest/modules/prompts/prompt_templates/getting_started.html\n",
    "\n",
    "\"\"\"\n",
    "\n",
    "from langchain import PromptTemplate\n",
    "\n",
    "\n",
    "prompt_example = PromptTemplate(\n",
    "        input_variables=[\"name\"],\n",
    "        template=\n",
    "\"\"\"Hello There {name}\n",
    "\"\"\"\n",
    ")\n",
    "\n",
    "print(prompt_example.format(name=\"John\"))\n"
   ]
  }
 ],
 "metadata": {
  "kernelspec": {
   "display_name": "dev",
   "language": "python",
   "name": "python3"
  },
  "language_info": {
   "codemirror_mode": {
    "name": "ipython",
    "version": 3
   },
   "file_extension": ".py",
   "mimetype": "text/x-python",
   "name": "python",
   "nbconvert_exporter": "python",
   "pygments_lexer": "ipython3",
   "version": "3.9.12"
  },
  "orig_nbformat": 4
 },
 "nbformat": 4,
 "nbformat_minor": 2
}
