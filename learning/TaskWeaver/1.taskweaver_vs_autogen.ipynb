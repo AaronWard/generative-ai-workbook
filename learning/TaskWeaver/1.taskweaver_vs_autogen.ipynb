{
 "cells": [
  {
   "cell_type": "markdown",
   "metadata": {},
   "source": [
    "## TaskWeaver vs Autogen\n",
    "\n"
   ]
  },
  {
   "cell_type": "code",
   "execution_count": null,
   "metadata": {
    "vscode": {
     "languageId": "plaintext"
    }
   },
   "outputs": [],
   "source": [
    "\n",
    "### Task Weaver vs Autogen:\n",
    "\n",
    "\n",
    "**Task Weaver:**\n",
    "\n",
    "- **Code Generation:** TaskWeaver’s primary advantage lies in its code-first design, which is especially beneficial for applications requiring direct manipulation and processing of data. It’s an effective tool for workloads that require interacting with code and data structures over abstract conversational models.\n",
    "- Handling of complex data structures like pandas DataFrame.\n",
    "- There are 3 components: Planner, Code Generator (CG), and Code Executor (CE). Autogen architecture is different, where the agent that corresponds with the human is the one who executes code. \n",
    "- TaskWeaver can be expanded into a multi-agent architecture for more complex projects and functionality.\n",
    " \n",
    "**Autogen:**\n",
    "- Human-AI Collaboration: Autogen allows for human interaction within a conversation\n",
    "- Non data centric tasks: While TaskWeaver is ideal for data-centric tasks and analytics, AutoGen's capabilities extend to a broader range of dynamic, interactive applications. This makes AutoGen more versatile in handling diverse scenarios, from decision-making tasks to interactive games."
   ]
  },
  {
   "cell_type": "code",
   "execution_count": null,
   "metadata": {
    "vscode": {
     "languageId": "plaintext"
    }
   },
   "outputs": [],
   "source": []
  },
  {
   "cell_type": "markdown",
   "metadata": {},
   "source": []
  },
  {
   "cell_type": "markdown",
   "metadata": {},
   "source": []
  }
 ],
 "metadata": {
  "language_info": {
   "name": "python"
  }
 },
 "nbformat": 4,
 "nbformat_minor": 2
}
