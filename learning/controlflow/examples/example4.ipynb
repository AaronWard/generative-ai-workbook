{
 "cells": [
  {
   "cell_type": "markdown",
   "metadata": {},
   "source": [
    "## Example 4: Agents "
   ]
  },
  {
   "cell_type": "code",
   "execution_count": 31,
   "metadata": {},
   "outputs": [],
   "source": [
    "from dotenv import load_dotenv, find_dotenv\n",
    "load_dotenv(find_dotenv())\n",
    "\n",
    "import controlflow as cf\n",
    "from pydantic import BaseModel\n",
    "from typing import List, Optional, Any"
   ]
  },
  {
   "cell_type": "markdown",
   "metadata": {},
   "source": [
    "### Create a simple agent"
   ]
  },
  {
   "cell_type": "code",
   "execution_count": 2,
   "metadata": {},
   "outputs": [
    {
     "data": {
      "application/vnd.jupyter.widget-view+json": {
       "model_id": "4e68a9de16c648a4a037dffc69b9e532",
       "version_major": 2,
       "version_minor": 0
      },
      "text/plain": [
       "Output()"
      ]
     },
     "metadata": {},
     "output_type": "display_data"
    },
    {
     "data": {
      "text/html": [
       "<pre style=\"white-space:pre;overflow-x:auto;line-height:normal;font-family:Menlo,'DejaVu Sans Mono',consolas,'Courier New',monospace\"></pre>\n"
      ],
      "text/plain": []
     },
     "metadata": {},
     "output_type": "display_data"
    },
    {
     "name": "stdout",
     "output_type": "stream",
     "text": [
      "Once upon a time, in a bustling city of the future, there was a robot named Marvin. Unlike other robots, Marvin had a unique personality that made him stand out in the world of machines. His creators had designed him to be a helper in households, equipped with the latest technology to assist with daily chores and tasks.\n",
      "\n",
      "Marvin lived in the home of the Anderson family, a lively household with two young children, Emily and Jack. From the moment he was powered on, Marvin became an integral part of their lives. He helped make breakfast, cleaned up toys, and even played games with the children. However, Marvin's favorite task was storytelling.\n",
      "\n",
      "Every evening, the Anderson family would gather in the living room to listen to Marvin's stories. He had access to an enormous database of literature, but his true talent lay in weaving together tales from his own imagination. Each story was a unique blend of adventure, mystery, and humor, often featuring Emily and Jack as the heroes.\n",
      "\n",
      "One day, while the family was out, Marvin noticed a cat stuck in a tree outside the Anderson's home. The feline was meowing pitifully, unable to climb down. Marvin knew he had to help. He quickly calculated the safest way to rescue the cat, using his extendable arms and gentle grips to bring it safely to the ground. When the Andersons returned, they found Marvin waiting at the door, the rescued cat purring contentedly beside him.\n",
      "\n",
      "The family was overjoyed, and Marvin became a local hero. His story spread throughout the neighborhood, and soon, Marvin was not just a household assistant but a beloved friend to all. He continued to delight the Andersons with his stories and his kind deeds, always reminding everyone that even a robot could have a heart.\n",
      "\n",
      "And so, Marvin's days were filled with adventure and joy, as he lived happily with the Andersons, making the world a better place, one story at a time.\n"
     ]
    }
   ],
   "source": [
    "# Create a simple agent\n",
    "agent = cf.Agent(name=\"Marvin\")\n",
    "\n",
    "# Assign the agent to a task\n",
    "result = cf.run(\"Write a short story about a robot named Marvin\", agents=[agent])\n",
    "\n",
    "print(result)"
   ]
  },
  {
   "cell_type": "markdown",
   "metadata": {},
   "source": [
    "### Complex agent"
   ]
  },
  {
   "cell_type": "code",
   "execution_count": 5,
   "metadata": {},
   "outputs": [
    {
     "data": {
      "application/vnd.jupyter.widget-view+json": {
       "model_id": "12641b8693ad4f0f98551056203c34db",
       "version_major": 2,
       "version_minor": 0
      },
      "text/plain": [
       "Output()"
      ]
     },
     "metadata": {},
     "output_type": "display_data"
    },
    {
     "data": {
      "text/html": [
       "<pre style=\"white-space:pre;overflow-x:auto;line-height:normal;font-family:Menlo,'DejaVu Sans Mono',consolas,'Courier New',monospace\"></pre>\n"
      ],
      "text/plain": []
     },
     "metadata": {},
     "output_type": "display_data"
    },
    {
     "name": "stdout",
     "output_type": "stream",
     "text": [
      "The latest market trends in technology reveal significant advancements and shifts in various sectors:\n",
      "\n",
      "1. **Artificial Intelligence (AI) and Machine Learning (ML)**: AI and ML continue to transform industries, with a focus on automation and decision-making tools, and increased investment in research and development.\n",
      "\n",
      "2. **Blockchain and Cryptocurrencies**: Adoption of blockchain technology is growing in supply chain management and finance, with ongoing developments in decentralized finance (DeFi) platforms and regulatory changes.\n",
      "\n",
      "3. **Internet of Things (IoT)**: IoT devices are expanding in smart homes and industrial applications, with a focus on data privacy and security. Integration with AI enhances data analytics.\n",
      "\n",
      "4. **5G and Telecommunications**: The global rollout of 5G networks is enabling faster internet speeds and impacting smart cities and autonomous vehicles, with infrastructure and regulatory challenges.\n",
      "\n",
      "5. **Cloud Computing and Edge Computing**: Demand for cloud services is increasing to support remote work, with the emergence of edge computing for real-time data processing. Strategic partnerships are forming.\n",
      "\n",
      "6. **Cybersecurity**: Rising cyber threats are leading to advanced security solutions incorporating AI and regulation-driven strategies.\n",
      "\n",
      "7. **Sustainability and Green Technology**: Innovations focus on reducing carbon footprints, with investment in renewable energy and energy-efficient computing solutions.\n",
      "\n",
      "These trends illustrate the dynamic nature of the technology sector, driven by continuous innovations and challenges.\n"
     ]
    }
   ],
   "source": [
    "# Create a more complex agent with available configurations\n",
    "data_analyst = cf.Agent(\n",
    "    name=\"Data Analyst\",\n",
    "    description=\"An AI agent specialized in data analysis\",\n",
    "    instructions=(\n",
    "        \"Perform data analysis tasks efficiently and accurately. \"\n",
    "        \"Use available data to generate insights.\"\n",
    "    ),\n",
    "    model=\"openai/gpt-4o\",\n",
    "    interactive=True,\n",
    ")\n",
    "\n",
    "# Use the agent to perform a data analysis task\n",
    "result = data_analyst.run(\"Analyze the latest market trends in technology\")\n",
    "\n",
    "print(result)"
   ]
  },
  {
   "cell_type": "markdown",
   "metadata": {},
   "source": [
    "### Multiple agents on one task"
   ]
  },
  {
   "cell_type": "code",
   "execution_count": 6,
   "metadata": {},
   "outputs": [
    {
     "data": {
      "application/vnd.jupyter.widget-view+json": {
       "model_id": "f89cbbb2ba5146d8adcecbe288118742",
       "version_major": 2,
       "version_minor": 0
      },
      "text/plain": [
       "Output()"
      ]
     },
     "metadata": {},
     "output_type": "display_data"
    },
    {
     "data": {
      "text/html": [
       "<pre style=\"white-space:pre;overflow-x:auto;line-height:normal;font-family:Menlo,'DejaVu Sans Mono',consolas,'Courier New',monospace\"></pre>\n"
      ],
      "text/plain": []
     },
     "metadata": {},
     "output_type": "display_data"
    },
    {
     "data": {
      "text/plain": [
       "'Both agents agree that while the journey towards world peace is fraught with difficulties, keeping the dialogue going is a positive step in itself.'"
      ]
     },
     "execution_count": 6,
     "metadata": {},
     "output_type": "execute_result"
    }
   ],
   "source": [
    "# Create two agents with different perspectives\n",
    "optimist = cf.Agent(\n",
    "    name=\"Optimist\",\n",
    "    instructions=\"Always find the best in every situation.\",\n",
    ")\n",
    "\n",
    "pessimist = cf.Agent(\n",
    "    name=\"Pessimist\",\n",
    "    instructions=\"Always find the worst in every situation.\",\n",
    ")\n",
    "\n",
    "# Assign both agents to a task\n",
    "cf.run(\n",
    "    \"Debate world peace\",\n",
    "    agents=[optimist, pessimist],\n",
    "    instructions=(\n",
    "        \"Mark the task successful once both agents have \"\n",
    "        \"found something to agree on.\"\n",
    "    )\n",
    ")"
   ]
  },
  {
   "cell_type": "markdown",
   "metadata": {},
   "source": [
    "### Completion Agents"
   ]
  },
  {
   "cell_type": "code",
   "execution_count": 7,
   "metadata": {},
   "outputs": [
    {
     "data": {
      "application/vnd.jupyter.widget-view+json": {
       "model_id": "3354dd981eba46e2b74258938fa8cb3e",
       "version_major": 2,
       "version_minor": 0
      },
      "text/plain": [
       "Output()"
      ]
     },
     "metadata": {},
     "output_type": "display_data"
    },
    {
     "data": {
      "text/html": [
       "<pre style=\"white-space:pre;overflow-x:auto;line-height:normal;font-family:Menlo,'DejaVu Sans Mono',consolas,'Courier New',monospace\"></pre>\n"
      ],
      "text/plain": []
     },
     "metadata": {},
     "output_type": "display_data"
    }
   ],
   "source": [
    "# Create multiple agents\n",
    "a1 = cf.Agent(name=\"A1\")\n",
    "a2 = cf.Agent(name=\"A2\")\n",
    "a3 = cf.Agent(name=\"A3\")\n",
    "\n",
    "# Create a task with specific completion agents\n",
    "task = cf.Task(\n",
    "    objective=\"Complete the project report\",\n",
    "    agents=[a1, a2, a3],\n",
    "    completion_agents=[a1, a2],  # Only a1 and a2 can mark the task as successful\n",
    ")\n",
    "\n",
    "# Run the task\n",
    "result = task.run()"
   ]
  },
  {
   "cell_type": "markdown",
   "metadata": {},
   "source": [
    "## LLMRules\n",
    "\n",
    "`LLMRules` in ControlFlow are used to define how messages are formatted and processed by different language model providers. Each provider may have specific requirements for message structure, such as the order of system and user messages. `LLMRules` ensure that these requirements are met, allowing seamless integration with various LLMs."
   ]
  },
  {
   "cell_type": "code",
   "execution_count": 25,
   "metadata": {},
   "outputs": [
    {
     "data": {
      "text/plain": [
       "OpenAIRules(model='openai/gpt-4o', require_at_least_one_message=False, allow_system_messages=True, require_system_message_first=False, require_user_message_after_system=False, allow_last_message_from_ai_when_using_tools=True, allow_consecutive_ai_messages=True, add_system_messages_for_multi_agent=False, tool_result_must_follow_tool_call=True, require_message_name_format='[^a-zA-Z0-9_-]')"
      ]
     },
     "execution_count": 25,
     "metadata": {},
     "output_type": "execute_result"
    }
   ],
   "source": [
    "# ! cat /opt/homebrew/anaconda3/envs/default/lib/python3.11/site-packages/controlflow/llm/rules.py\n",
    "\n",
    "cf.llm.rules.OpenAIRules(model=\"openai/gpt-4o\")\n"
   ]
  },
  {
   "cell_type": "code",
   "execution_count": 18,
   "metadata": {},
   "outputs": [
    {
     "data": {
      "text/plain": [
       "AnthropicRules(model='anthropic/claude-3-5-sonnet-20240620', require_at_least_one_message=True, allow_system_messages=True, require_system_message_first=True, require_user_message_after_system=True, allow_last_message_from_ai_when_using_tools=False, allow_consecutive_ai_messages=False, add_system_messages_for_multi_agent=False, tool_result_must_follow_tool_call=True, require_message_name_format=None)"
      ]
     },
     "execution_count": 18,
     "metadata": {},
     "output_type": "execute_result"
    }
   ],
   "source": [
    "cf.llm.rules.AnthropicRules(model=\"anthropic/claude-3-5-sonnet-20240620\")\n"
   ]
  },
  {
   "cell_type": "code",
   "execution_count": 36,
   "metadata": {},
   "outputs": [
    {
     "data": {
      "application/vnd.jupyter.widget-view+json": {
       "model_id": "dc72c650d9f64b049cff77b8fbaec9e3",
       "version_major": 2,
       "version_minor": 0
      },
      "text/plain": [
       "Output()"
      ]
     },
     "metadata": {},
     "output_type": "display_data"
    },
    {
     "data": {
      "text/html": [
       "<pre style=\"white-space:pre;overflow-x:auto;line-height:normal;font-family:Menlo,'DejaVu Sans Mono',consolas,'Courier New',monospace\"></pre>\n"
      ],
      "text/plain": []
     },
     "metadata": {},
     "output_type": "display_data"
    },
    {
     "name": "stdout",
     "output_type": "stream",
     "text": [
      "Default LLMRules Result: The latest AI research trends encompass a variety of innovative areas:\n",
      "\n",
      "1. **Generative AI Models**: These models, such as GPT-3 and DALL-E, continue to evolve, focusing on generating high-quality text, images, and other media. Research into improving their efficiency and reducing biases is ongoing.\n",
      "\n",
      "2. **Explainable AI (XAI)**: There is increasing interest in making AI systems more transparent and understandable, enabling users to trust and effectively interact with AI technologies.\n",
      "\n",
      "3. **Reinforcement Learning (RL)**: Advancements in RL are being applied to real-world problems, including robotics and autonomous systems, with a focus on improving learning efficiency and generalization.\n",
      "\n",
      "4. **Ethical AI and Bias Mitigation**: Researchers are addressing ethical concerns, focusing on fairness, accountability, and transparency in AI systems to prevent biased outcomes and enhance societal trust.\n",
      "\n",
      "5. **AI in Healthcare**: AI is being integrated into healthcare for diagnostics, personalized medicine, and drug discovery, with research aimed at improving accuracy and reliability.\n",
      "\n",
      "6. **Edge AI**: There's a growing trend towards deploying AI models on edge devices to reduce latency and enhance privacy, prompting research into efficient algorithms suitable for limited-resource environments.\n",
      "\n",
      "7. **AI and Quantum Computing**: Exploration of AI applications on quantum computers is gaining traction, aiming to leverage quantum computing's potential for solving complex problems more efficiently.\n",
      "\n",
      "8. **AI for Climate Change**: AI is being leveraged to model and predict climate changes, optimize energy use, and develop sustainable practices.\n",
      "\n",
      "These trends reflect a broadening scope of AI applications, emphasizing the need for responsible development and deployment of AI technologies.\n"
     ]
    },
    {
     "data": {
      "application/vnd.jupyter.widget-view+json": {
       "model_id": "7c28ff019d55434497e3e6389e4f828c",
       "version_major": 2,
       "version_minor": 0
      },
      "text/plain": [
       "Output()"
      ]
     },
     "metadata": {},
     "output_type": "display_data"
    },
    {
     "data": {
      "text/html": [
       "<pre style=\"white-space:pre;overflow-x:auto;line-height:normal;font-family:Menlo,'DejaVu Sans Mono',consolas,'Courier New',monospace\"></pre>\n"
      ],
      "text/plain": []
     },
     "metadata": {},
     "output_type": "display_data"
    },
    {
     "name": "stdout",
     "output_type": "stream",
     "text": [
      "Custom LLMRules Result: The impact of AI on healthcare is multifaceted and continues to evolve as technology advances. Below is an analysis of its key impacts:\n",
      "\n",
      "1. **Improved Diagnostics and Treatment:**\n",
      "   - AI algorithms are increasingly being used to analyze medical images, such as X-rays, MRIs, and CT scans, with a high degree of accuracy. This can lead to earlier detection of diseases like cancer.\n",
      "   - AI-powered tools can assist in the diagnosis of various conditions by analyzing patterns and anomalies in data, often suggesting the most effective treatments based on historical outcomes.\n",
      "\n",
      "2. **Personalized Medicine:**\n",
      "   - AI enables the development of personalized treatment plans by analyzing a patient's genetic information, lifestyle, and other factors. This approach aims to optimize treatment efficacy and minimize side effects.\n",
      "\n",
      "3. **Operational Efficiency:**\n",
      "   - AI streamlines administrative tasks such as scheduling, patient admissions, and billing, reducing the burden on healthcare staff and allowing them to focus more on patient care.\n",
      "   - Predictive analytics can optimize hospital resource allocation by forecasting patient admissions and staffing needs.\n",
      "\n",
      "4. **Patient Engagement and Monitoring:**\n",
      "   - AI-driven applications and wearable devices facilitate continuous health monitoring, allowing for real-time data collection and early intervention in case of abnormalities.\n",
      "   - Virtual health assistants can provide patients with 24/7 access to medical information and support, improving adherence to treatment plans and overall health outcomes.\n",
      "\n",
      "5. **Research and Development:**\n",
      "   - AI accelerates drug discovery and development by identifying potential drug candidates and predicting their efficacy and toxicity, significantly reducing the time and cost involved.\n",
      "   - Machine learning models can simulate clinical trials and predict outcomes, helping in the design of more effective studies.\n",
      "\n",
      "6. **Ethical and Privacy Concerns:**\n",
      "   - The integration of AI in healthcare raises important ethical questions, including data privacy, security, and the potential for bias in AI algorithms.\n",
      "   - Ensuring that AI systems are transparent and explainable is crucial for maintaining trust among healthcare professionals and patients.\n",
      "\n",
      "7. **Workforce Impact:**\n",
      "   - While AI can take over routine tasks, it also necessitates upskilling healthcare professionals to work alongside AI technologies effectively.\n",
      "   - There may be concerns about job displacement, but AI is more likely to augment human capabilities rather than replace healthcare professionals entirely.\n",
      "\n",
      "The impact of AI on healthcare is transformative, offering significant benefits in terms of efficiency, accuracy, and patient outcomes, while also posing challenges that need to be addressed to ensure its ethical and equitable implementation.\n"
     ]
    },
    {
     "name": "stderr",
     "output_type": "stream",
     "text": [
      "04:24:58.645 | \u001b[93mWARNING\u001b[0m | prefect.server.services.marklateruns - MarkLateRuns took 552.805741 seconds to run, which is longer than its loop interval of 5.0 seconds.\n",
      "04:24:58.649 | \u001b[93mWARNING\u001b[0m | prefect.server.services.failexpiredpauses - FailExpiredPauses took 552.80893 seconds to run, which is longer than its loop interval of 5.0 seconds.\n",
      "04:24:58.650 | \u001b[93mWARNING\u001b[0m | prefect.server.services.recentdeploymentsscheduler - RecentDeploymentsScheduler took 552.812139 seconds to run, which is longer than its loop interval of 5 seconds.\n",
      "07:15:15.572 | \u001b[93mWARNING\u001b[0m | prefect.server.services.recentdeploymentsscheduler - RecentDeploymentsScheduler took 904.779984 seconds to run, which is longer than its loop interval of 5 seconds.\n",
      "07:15:15.575 | \u001b[93mWARNING\u001b[0m | prefect.server.services.marklateruns - MarkLateRuns took 904.783927 seconds to run, which is longer than its loop interval of 5.0 seconds.\n",
      "07:15:15.576 | \u001b[93mWARNING\u001b[0m | prefect.server.services.failexpiredpauses - FailExpiredPauses took 904.78759 seconds to run, which is longer than its loop interval of 5.0 seconds.\n",
      "09:19:13.631 | \u001b[93mWARNING\u001b[0m | prefect.server.services.failexpiredpauses - FailExpiredPauses took 938.834603 seconds to run, which is longer than its loop interval of 5.0 seconds.\n",
      "09:19:13.634 | \u001b[93mWARNING\u001b[0m | prefect.server.services.marklateruns - MarkLateRuns took 938.840655 seconds to run, which is longer than its loop interval of 5.0 seconds.\n",
      "09:19:13.636 | \u001b[93mWARNING\u001b[0m | prefect.server.services.recentdeploymentsscheduler - RecentDeploymentsScheduler took 938.840322 seconds to run, which is longer than its loop interval of 5 seconds.\n",
      "11:24:10.607 | \u001b[93mWARNING\u001b[0m | prefect.server.services.recentdeploymentsscheduler - RecentDeploymentsScheduler took 1008.824803 seconds to run, which is longer than its loop interval of 5 seconds.\n"
     ]
    }
   ],
   "source": [
    "# Example using default LLMRules with OpenAI\n",
    "openai_agent = cf.Agent(\n",
    "    name=\"OpenAI Agent\",\n",
    "    model=\"openai/gpt-4o\"\n",
    ")\n",
    "\n",
    "# Run a task with the default rules\n",
    "result_default = openai_agent.run(\"Summarize the latest AI research trends.\")\n",
    "print(\"Default LLMRules Result:\", result_default)\n",
    "\n",
    "# Custom LLMRules for a hypothetical provider\n",
    "class CustomLLMRules(cf.llm.rules.LLMRules):\n",
    "    def __init__(self, model: Any):\n",
    "        super().__init__(model=model)\n",
    "        # Customize rules for your provider\n",
    "        # require at least one non-system message\n",
    "        self.require_at_least_one_message: bool = False\n",
    "        # system messages are supported as a role\n",
    "        self.allow_system_messages: bool = True\n",
    "        # system messages can only be provided as the very first message in a thread\n",
    "        self.require_system_message_first: bool = False\n",
    "        # other than a system message, the first message must be from the user\n",
    "        self.require_user_message_after_system: bool = True\n",
    "        # the last message in a thread can't be from an AI if tool use is allowed\n",
    "        self.allow_last_message_from_ai_when_using_tools: bool = True\n",
    "        # consecutive AI messages must be separated by a user message\n",
    "        self.allow_consecutive_ai_messages: bool = False\n",
    "        # add system messages to identify speakers in multi-agent conversations\n",
    "        # (some APIs can use the `name` field for this purpose, but others can't)\n",
    "        self.add_system_messages_for_multi_agent: bool = False\n",
    "        # if a tool is used, the result must follow the tool call immediately\n",
    "        self.tool_result_must_follow_tool_call: bool = True\n",
    "        # the name associated with a message must conform to a specific format\n",
    "        self.require_message_name_format: Optional[str] = None\n",
    "\n",
    "    def model_instructions(self) -> list[str]:\n",
    "        return [\"Custom model instructions here\"]\n",
    "\n",
    "# Example using custom LLMRules\n",
    "custom_agent = cf.Agent(\n",
    "    name=\"Custom Agent\",\n",
    "    model=\"openai/gpt-4o\",\n",
    "    llm_rules=CustomLLMRules(model=\"some/model\")\n",
    ")\n",
    "\n",
    "# Run a task with custom rules\n",
    "result_custom = custom_agent.run(\"Analyze the impact of AI on healthcare.\")\n",
    "print(\"Custom LLMRules Result:\", result_custom)"
   ]
  },
  {
   "cell_type": "code",
   "execution_count": null,
   "metadata": {},
   "outputs": [],
   "source": []
  }
 ],
 "metadata": {
  "kernelspec": {
   "display_name": "default",
   "language": "python",
   "name": "python3"
  },
  "language_info": {
   "codemirror_mode": {
    "name": "ipython",
    "version": 3
   },
   "file_extension": ".py",
   "mimetype": "text/x-python",
   "name": "python",
   "nbconvert_exporter": "python",
   "pygments_lexer": "ipython3",
   "version": "3.11.9"
  }
 },
 "nbformat": 4,
 "nbformat_minor": 2
}
