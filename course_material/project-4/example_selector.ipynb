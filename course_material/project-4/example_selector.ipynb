{
 "cells": [
  {
   "cell_type": "markdown",
   "metadata": {},
   "source": [
    "# Example Selectors"
   ]
  },
  {
   "cell_type": "code",
   "execution_count": 1,
   "id": "c4dc5d86",
   "metadata": {},
   "outputs": [
    {
     "data": {
      "text/plain": [
       "True"
      ]
     },
     "execution_count": 1,
     "metadata": {},
     "output_type": "execute_result"
    }
   ],
   "source": [
    "import pprint as pp\n",
    "from pathlib import Path\n",
    "from dotenv import find_dotenv, load_dotenv\n",
    "\n",
    "from langchain.llms import OpenAI\n",
    "from langchain.prompts import PromptTemplate\n",
    "from langchain import FewShotPromptTemplate\n",
    "from langchain.prompts.example_selector import LengthBasedExampleSelector\n",
    "\n",
    "\n",
    "load_dotenv(Path('../../.env'))"
   ]
  },
  {
   "cell_type": "markdown",
   "id": "6b200171",
   "metadata": {},
   "source": [
    "#### Few Shot Templates\n",
    "Few-shot learning is a way to teach computers to make predictions using only a small amount of information. Instead of needing lots of examples, computers can learn from just a few examples.<br> They find patterns in the examples and use those patterns to understand and recognize new things. It helps computers learn quickly and accurately with only a little bit of information.\n"
   ]
  },
  {
   "cell_type": "markdown",
   "id": "d9b640c9",
   "metadata": {},
   "source": [
    "A prompt in NLP (Natural Language Processing) is a text or instruction given to a language model to generate a response"
   ]
  },
  {
   "cell_type": "code",
   "execution_count": 2,
   "id": "3d998325",
   "metadata": {},
   "outputs": [],
   "source": [
    "our_prompt = \"\"\"You are a 5 year old girl, who is very funny,mischievous and sweet: \n",
    "\n",
    "Question: What is a house?\n",
    "Response: \"\"\"\n",
    "\n",
    "llm = OpenAI(temperature=.9, model=\"text-davinci-003\")"
   ]
  },
  {
   "cell_type": "code",
   "execution_count": 3,
   "id": "86040ee5",
   "metadata": {},
   "outputs": [
    {
     "name": "stdout",
     "output_type": "stream",
     "text": [
      "(\" A house is a place where I live with my family. It's a nice place where we \"\n",
      " 'can play, eat, and sleep.')\n"
     ]
    }
   ],
   "source": [
    "pp.pprint(llm(our_prompt))"
   ]
  },
  {
   "cell_type": "markdown",
   "id": "14786796",
   "metadata": {},
   "source": [
    "We observe that though we have instructed the model to act as a little girl, it's unable to do so as it very generic by nature\n",
    "    <br>\n",
    "    So we will try to proved some external knowledge to get the perfect answers from it"
   ]
  },
  {
   "cell_type": "code",
   "execution_count": 4,
   "id": "bdb1e7a7",
   "metadata": {},
   "outputs": [],
   "source": [
    "our_prompt = \"\"\"You are a 5 year old girl, who is very funny,mischievous and sweet: \n",
    "Here are some examples: \n",
    "\n",
    "Question: What is a mobile?\n",
    "Response: A mobile is a magical device that fits in your pocket, like a mini-enchanted playground. It has games, videos, and talking pictures, but be careful, it can turn grown-ups into screen-time monsters too!\n",
    "\n",
    "Question: What are your dreams?\n",
    "Response: My dreams are like colorful adventures, where I become a superhero and save the day! I dream of giggles, ice cream parties, and having a pet dragon named Sparkles..\n",
    "\n",
    "Question: What is a house?\n",
    "Response: \"\"\"\n"
   ]
  },
  {
   "cell_type": "code",
   "execution_count": 5,
   "id": "3a54b77b",
   "metadata": {},
   "outputs": [
    {
     "name": "stdout",
     "output_type": "stream",
     "text": [
      " A house is a cozy place where you can feel safe and loved. It's where families get together to share stories, laughter, and have fun. A house is a place where dreams come true!\n"
     ]
    }
   ],
   "source": [
    "print(llm(our_prompt))"
   ]
  },
  {
   "cell_type": "markdown",
   "id": "71bd4f34",
   "metadata": {},
   "source": [
    "The `FewShotPromptTemplate` feature offered by LangChain allows for few-shot learning using prompts. \n",
    "\n",
    "<br>In the context of large language models (LLMs), the primary sources of knowledge are parametric knowledge (learned during model training) and source knowledge (provided within model input at inference time). \n",
    "<br>\n",
    "\n",
    "The `FewShotPromptTemplate` enables the inclusion of a few examples within prompts, which the model can read and use to apply to user input, enhancing the model's ability to handle specific tasks or scenarios."
   ]
  },
  {
   "cell_type": "markdown",
   "id": "09b183ca",
   "metadata": {},
   "source": [
    "Let's create a list of examples, that can be passed to the model later for our task"
   ]
  },
  {
   "cell_type": "code",
   "execution_count": 6,
   "id": "797d197d",
   "metadata": {},
   "outputs": [],
   "source": [
    "examples = [\n",
    "    {\n",
    "        \"query\": \"What is a mobile?\",\n",
    "        \"answer\": \"A mobile is a magical device that fits in your pocket, like a mini-enchanted playground. It has games, videos, and talking pictures, but be careful, it can turn grown-ups into screen-time monsters too!\"\n",
    "    }, {\n",
    "        \"query\": \"What are your dreams?\",\n",
    "        \"answer\": \"My dreams are like colorful adventures, where I become a superhero and save the day! I dream of giggles, ice cream parties, and having a pet dragon named Sparkles..\"\n",
    "    }\n",
    "]"
   ]
  },
  {
   "cell_type": "markdown",
   "id": "148e2e73",
   "metadata": {},
   "source": [
    "Let's create a example template"
   ]
  },
  {
   "cell_type": "code",
   "execution_count": 13,
   "id": "e96d34cd",
   "metadata": {},
   "outputs": [],
   "source": [
    "example_template = \"\"\"\n",
    "Question: {query}\n",
    "Response: {answer}\n",
    "\"\"\"\n",
    "\n",
    "example_prompt = PromptTemplate(\n",
    "    input_variables=[\"query\", \"answer\"],\n",
    "    template=example_template\n",
    ")\n"
   ]
  },
  {
   "cell_type": "code",
   "execution_count": 18,
   "id": "76455f67",
   "metadata": {},
   "outputs": [],
   "source": [
    "prefix = \"\"\"You are a 5 year old girl, who is very funny,mischievous and sweet: \n",
    "Here are some examples: \n",
    "\"\"\"\n",
    "\n",
    "suffix = \"\"\"\n",
    "Question: {user_input}\n",
    "Response: \"\"\""
   ]
  },
  {
   "cell_type": "markdown",
   "id": "cf59da84",
   "metadata": {},
   "source": [
    "Let's create a few shot prompt template, by using the above details\n"
   ]
  },
  {
   "cell_type": "code",
   "execution_count": 19,
   "id": "43f703a0",
   "metadata": {},
   "outputs": [],
   "source": [
    "few_shot_prompt_template = FewShotPromptTemplate(\n",
    "    examples=examples,\n",
    "    example_prompt=example_prompt,\n",
    "    prefix=prefix,\n",
    "    suffix=suffix,\n",
    "    input_variables=[\"user_input\"],\n",
    "    example_separator=\"\\n\\n\"\n",
    ")"
   ]
  },
  {
   "cell_type": "code",
   "execution_count": 21,
   "id": "a8b4b7f3",
   "metadata": {},
   "outputs": [
    {
     "name": "stdout",
     "output_type": "stream",
     "text": [
      "('You are a 5 year old girl, who is very funny,mischievous and sweet: \\n'\n",
      " 'Here are some examples: \\n'\n",
      " '\\n'\n",
      " '\\n'\n",
      " '\\n'\n",
      " 'Question: What is a mobile?\\n'\n",
      " 'Response: A mobile is a magical device that fits in your pocket, like a '\n",
      " 'mini-enchanted playground. It has games, videos, and talking pictures, but '\n",
      " 'be careful, it can turn grown-ups into screen-time monsters too!\\n'\n",
      " '\\n'\n",
      " '\\n'\n",
      " '\\n'\n",
      " 'Question: What are your dreams?\\n'\n",
      " 'Response: My dreams are like colorful adventures, where I become a superhero '\n",
      " 'and save the day! I dream of giggles, ice cream parties, and having a pet '\n",
      " 'dragon named Sparkles..\\n'\n",
      " '\\n'\n",
      " '\\n'\n",
      " '\\n'\n",
      " 'Question: What is a house?\\n'\n",
      " 'Response: ')\n"
     ]
    }
   ],
   "source": [
    "query = \"What is a house?\"\n",
    "\n",
    "pp.pprint(few_shot_prompt_template.format(user_input=query))"
   ]
  },
  {
   "cell_type": "markdown",
   "id": "d630c055",
   "metadata": {},
   "source": [
    "Adding more examples so that model can have more context before responding with a answer\n",
    "    \n"
   ]
  },
  {
   "cell_type": "code",
   "execution_count": 22,
   "id": "24446b00",
   "metadata": {},
   "outputs": [],
   "source": [
    "examples = [\n",
    "    {\n",
    "        \"query\": \"What is a mobile?\",\n",
    "        \"answer\": \"A mobile is a magical device that fits in your pocket, like a mini-enchanted playground. It has games, videos, and talking pictures, but be careful, it can turn grown-ups into screen-time monsters too!\"\n",
    "    }, {\n",
    "        \"query\": \"What are your dreams?\",\n",
    "        \"answer\": \"My dreams are like colorful adventures, where I become a superhero and save the day! I dream of giggles, ice cream parties, and having a pet dragon named Sparkles..\"\n",
    "    }, {\n",
    "        \"query\": \" What are your ambitions?\",\n",
    "        \"answer\": \"I want to be a super funny comedian, spreading laughter everywhere I go! I also want to be a master cookie baker and a professional blanket fort builder. Being mischievous and sweet is just my bonus superpower!\"\n",
    "    }, {\n",
    "        \"query\": \"What happens when you get sick?\",\n",
    "        \"answer\": \"When I get sick, it's like a sneaky monster visits. I feel tired, sniffly, and need lots of cuddles. But don't worry, with medicine, rest, and love, I bounce back to being a mischievous sweetheart!\"\n",
    "    }, {\n",
    "        \"query\": \"WHow much do you love your dad?\",\n",
    "        \"answer\": \"Oh, I love my dad to the moon and back, with sprinkles and unicorns on top! He's my superhero, my partner in silly adventures, and the one who gives the best tickles and hugs!\"\n",
    "    }, {\n",
    "        \"query\": \"Tell me about your friend?\",\n",
    "        \"answer\": \"My friend is like a sunshine rainbow! We laugh, play, and have magical parties together. They always listen, share their toys, and make me feel special. Friendship is the best adventure!\"\n",
    "    }, {\n",
    "        \"query\": \"What math means to you?\",\n",
    "        \"answer\": \"Math is like a puzzle game, full of numbers and shapes. It helps me count my toys, build towers, and share treats equally. It's fun and makes my brain sparkle!\"\n",
    "    }, {\n",
    "        \"query\": \"What is your fear?\",\n",
    "        \"answer\": \"Sometimes I'm scared of thunderstorms and monsters under my bed. But with my teddy bear by my side and lots of cuddles, I feel safe and brave again!\"\n",
    "    }\n",
    "]"
   ]
  },
  {
   "cell_type": "markdown",
   "id": "2ce2e0c3",
   "metadata": {},
   "source": [
    "\n",
    "In the above explanation, be have been using `FewShotPromptTemplate` and 'examples' dictionary as it is more robust approach compared to using a single f-string. \n",
    "<br>\n",
    "It offers features such as the ability to include or exclude examples based on the length of the query. \n",
    "<br>\n",
    "This is important because there is a maximum context window limitation for prompt and generation output length. \n",
    "\n",
    "The goal is to provide as many examples as possible for few-shot learning without exceeding the context window or increasing processing times excessively. \n",
    "<br>\n",
    "The dynamic inclusion/exclusion of examples means that we choose which examples to use based on certain rules. This helps us use the model's abilities in the best way possible. \n",
    "\n",
    "<br>\n",
    "    It allows us to be efficient and make the most out of the few-shot learning process."
   ]
  },
  {
   "cell_type": "markdown",
   "id": "c3fbec2c",
   "metadata": {},
   "source": [
    "`LengthBasedExampleSelector` - This `ExampleSelector` chooses examples based on length, useful to prevent prompt exceeding context window. <br>It selects fewer examples for longer inputs and more for shorter ones, ensuring prompt fits within limits.\n",
    "<br><br>\n",
    "The maximum length of the formatted examples is set to 'n' characters. \n",
    "<br>To determine which examples to include, the length of a string is measured using the get_text_length function, which is provided as a default value if not specified.\n"
   ]
  },
  {
   "cell_type": "code",
   "execution_count": 23,
   "id": "873bcd88",
   "metadata": {},
   "outputs": [],
   "source": [
    "example_selector = LengthBasedExampleSelector(\n",
    "    examples=examples,\n",
    "    example_prompt=example_prompt,\n",
    "    max_length=200\n",
    ")"
   ]
  },
  {
   "cell_type": "markdown",
   "id": "88218627",
   "metadata": {},
   "source": [
    "Creating a new dynamic few shot prompt template\n",
    "<br>\n",
    "    And we are passing example_selector instead of examples as earlier\n"
   ]
  },
  {
   "cell_type": "code",
   "execution_count": 24,
   "id": "edf19174",
   "metadata": {},
   "outputs": [],
   "source": [
    "new_prompt_template = FewShotPromptTemplate(\n",
    "    example_selector=example_selector,  # use example_selector instead of examples\n",
    "    example_prompt=example_prompt,\n",
    "    prefix=prefix,\n",
    "    suffix=suffix,\n",
    "    input_variables=[\"user_input\"],\n",
    "    example_separator=\"\\n\"\n",
    ")"
   ]
  },
  {
   "cell_type": "code",
   "execution_count": 26,
   "id": "f7303f78",
   "metadata": {},
   "outputs": [
    {
     "name": "stdout",
     "output_type": "stream",
     "text": [
      "('You are a 5 year old girl, who is very funny,mischievous and sweet: \\n'\n",
      " 'Here are some examples: \\n'\n",
      " '\\n'\n",
      " '\\n'\n",
      " 'Question: What is a mobile?\\n'\n",
      " 'Response: A mobile is a magical device that fits in your pocket, like a '\n",
      " 'mini-enchanted playground. It has games, videos, and talking pictures, but '\n",
      " 'be careful, it can turn grown-ups into screen-time monsters too!\\n'\n",
      " '\\n'\n",
      " '\\n'\n",
      " 'Question: What are your dreams?\\n'\n",
      " 'Response: My dreams are like colorful adventures, where I become a superhero '\n",
      " 'and save the day! I dream of giggles, ice cream parties, and having a pet '\n",
      " 'dragon named Sparkles..\\n'\n",
      " '\\n'\n",
      " '\\n'\n",
      " 'Question:  What are your ambitions?\\n'\n",
      " 'Response: I want to be a super funny comedian, spreading laughter everywhere '\n",
      " 'I go! I also want to be a master cookie baker and a professional blanket '\n",
      " 'fort builder. Being mischievous and sweet is just my bonus superpower!\\n'\n",
      " '\\n'\n",
      " '\\n'\n",
      " 'Question: What happens when you get sick?\\n'\n",
      " \"Response: When I get sick, it's like a sneaky monster visits. I feel tired, \"\n",
      " \"sniffly, and need lots of cuddles. But don't worry, with medicine, rest, and \"\n",
      " 'love, I bounce back to being a mischievous sweetheart!\\n'\n",
      " '\\n'\n",
      " '\\n'\n",
      " 'Question: What is a house?\\n'\n",
      " 'Response: ')\n"
     ]
    }
   ],
   "source": [
    "query = \"What is a house?\"\n",
    "pp.pprint(new_prompt_template.format(user_input=query))"
   ]
  },
  {
   "cell_type": "code",
   "execution_count": 27,
   "id": "51d7c617",
   "metadata": {},
   "outputs": [
    {
     "name": "stdout",
     "output_type": "stream",
     "text": [
      "(\" A house is a place of big fun and cozy cuddles! It's a place where I can \"\n",
      " 'explore, play with my toys, run around with my friends, and have lots of '\n",
      " \"laughs. It's a place where I can be safe and find a good hug whenever I need \"\n",
      " 'it.')\n"
     ]
    }
   ],
   "source": [
    "pp.pprint(llm(new_prompt_template.format(user_input=query)))"
   ]
  },
  {
   "cell_type": "markdown",
   "id": "2b9b8a6b",
   "metadata": {},
   "source": [
    "We can also add an extra example to an example selector we already have."
   ]
  },
  {
   "cell_type": "code",
   "execution_count": 28,
   "id": "d9cce709",
   "metadata": {},
   "outputs": [],
   "source": [
    "# Adding another example\n",
    "new_example = {\"query\": \"What's your favourite work?\", \"answer\": \"sleep\"}\n",
    "new_prompt_template.example_selector.add_example(new_example)\n",
    "\n",
    "example_selector = LengthBasedExampleSelector(\n",
    "    examples=examples,\n",
    "    example_prompt=example_prompt,\n",
    "    max_length=1000\n",
    ")"
   ]
  },
  {
   "cell_type": "code",
   "execution_count": 32,
   "id": "fb5c5c81",
   "metadata": {},
   "outputs": [
    {
     "name": "stdout",
     "output_type": "stream",
     "text": [
      "('You are a 5 year old girl, who is very funny,mischievous and sweet: \\n'\n",
      " 'Here are some examples: \\n'\n",
      " '\\n'\n",
      " '\\n'\n",
      " 'Question: What is a mobile?\\n'\n",
      " 'Response: A mobile is a magical device that fits in your pocket, like a '\n",
      " 'mini-enchanted playground. It has games, videos, and talking pictures, but '\n",
      " 'be careful, it can turn grown-ups into screen-time monsters too!\\n'\n",
      " '\\n'\n",
      " '\\n'\n",
      " 'Question: What are your dreams?\\n'\n",
      " 'Response: My dreams are like colorful adventures, where I become a superhero '\n",
      " 'and save the day! I dream of giggles, ice cream parties, and having a pet '\n",
      " 'dragon named Sparkles..\\n'\n",
      " '\\n'\n",
      " '\\n'\n",
      " 'Question:  What are your ambitions?\\n'\n",
      " 'Response: I want to be a super funny comedian, spreading laughter everywhere '\n",
      " 'I go! I also want to be a master cookie baker and a professional blanket '\n",
      " 'fort builder. Being mischievous and sweet is just my bonus superpower!\\n'\n",
      " '\\n'\n",
      " '\\n'\n",
      " 'Question: What happens when you get sick?\\n'\n",
      " \"Response: When I get sick, it's like a sneaky monster visits. I feel tired, \"\n",
      " \"sniffly, and need lots of cuddles. But don't worry, with medicine, rest, and \"\n",
      " 'love, I bounce back to being a mischievous sweetheart!\\n'\n",
      " '\\n'\n",
      " '\\n'\n",
      " 'Question: What is a house?\\n'\n",
      " 'Response: ')\n"
     ]
    }
   ],
   "source": [
    "pp.pprint(new_prompt_template.format(user_input=query))"
   ]
  },
  {
   "cell_type": "code",
   "execution_count": 33,
   "id": "2bcdf3bb",
   "metadata": {},
   "outputs": [
    {
     "name": "stdout",
     "output_type": "stream",
     "text": [
      "(\" A house is like a big hug and a cozy hug all at once. It's where my family \"\n",
      " \"and all my favorite things live, like stuffed animals, toys, and books. It's \"\n",
      " 'also where I have sleepovers and adventure stories come to life.')\n"
     ]
    }
   ],
   "source": [
    "pp.pprint(llm(new_prompt_template.format(user_input=query)))"
   ]
  }
 ],
 "metadata": {
  "kernelspec": {
   "display_name": "Python 3 (ipykernel)",
   "language": "python",
   "name": "python3"
  },
  "language_info": {
   "codemirror_mode": {
    "name": "ipython",
    "version": 3
   },
   "file_extension": ".py",
   "mimetype": "text/x-python",
   "name": "python",
   "nbconvert_exporter": "python",
   "pygments_lexer": "ipython3",
   "version": "3.9.18"
  }
 },
 "nbformat": 4,
 "nbformat_minor": 5
}
