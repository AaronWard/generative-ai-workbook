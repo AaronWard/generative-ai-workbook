{
 "cells": [
  {
   "cell_type": "markdown",
   "metadata": {},
   "source": [
    "## Split documents\n",
    "The purpose of this notebook is to split the documents of presidential addresses up into separate txt files."
   ]
  },
  {
   "cell_type": "code",
   "execution_count": 2,
   "metadata": {},
   "outputs": [
    {
     "name": "stdout",
     "output_type": "stream",
     "text": [
      "/Users/award40/Desktop/presidential_speeches/presidential-speeches.json\n",
      "../data/speeches_txt\n"
     ]
    }
   ],
   "source": [
    "import json\n",
    "import os\n",
    "from pathlib import Path\n",
    "\n",
    "json_path = Path(\"~\", 'Desktop', 'presidential_speeches', 'presidential-speeches.json').expanduser()\n",
    "output_folder = Path(\"..\", \"data\", \"speeches_txt\").expanduser()\n",
    "\n",
    "print(json_path)\n",
    "print(output_folder)"
   ]
  },
  {
   "cell_type": "code",
   "execution_count": 3,
   "metadata": {},
   "outputs": [],
   "source": [
    "\n",
    "with open(json_path) as f:\n",
    "    data = json.load(f)\n",
    "\n",
    "for item in data:\n",
    "    filename = item['title'].replace(':', '').replace(',', '').replace('/', '').replace(' ', '_') + '.txt'\n",
    "    with open(Path(output_folder, filename), 'w') as new_file:\n",
    "        new_file.write(f\"Date: {item['date']}\\n\")\n",
    "        new_file.write(f\"President: {item['president']}\\n\\n\")\n",
    "        new_file.write(item['transcript'])\n"
   ]
  }
 ],
 "metadata": {
  "kernelspec": {
   "display_name": "dev",
   "language": "python",
   "name": "python3"
  },
  "language_info": {
   "codemirror_mode": {
    "name": "ipython",
    "version": 3
   },
   "file_extension": ".py",
   "mimetype": "text/x-python",
   "name": "python",
   "nbconvert_exporter": "python",
   "pygments_lexer": "ipython3",
   "version": "3.9.12"
  },
  "orig_nbformat": 4
 },
 "nbformat": 4,
 "nbformat_minor": 2
}
