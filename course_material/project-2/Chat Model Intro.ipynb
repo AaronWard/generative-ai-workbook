{
 "cells": [
  {
   "cell_type": "markdown",
   "id": "fda7a81e",
   "metadata": {},
   "source": [
    "## Chat Model Application Example\n",
    "\n",
    "A simple LLM application incorporating chat memory sequences using system and human message objects. "
   ]
  },
  {
   "cell_type": "code",
   "execution_count": 8,
   "id": "9cfce38a",
   "metadata": {},
   "outputs": [
    {
     "data": {
      "text/plain": [
       "True"
      ]
     },
     "execution_count": 8,
     "metadata": {},
     "output_type": "execute_result"
    }
   ],
   "source": [
    "import os\n",
    "import pprint as pp\n",
    "from pathlib import Path\n",
    "\n",
    "from dotenv import find_dotenv, load_dotenv\n",
    "\n",
    "from langchain.llms import OpenAI\n",
    "# from langchain.llms import HuggingFaceHub\n",
    "from langchain.chat_models import ChatOpenAI\n",
    "from langchain.schema import HumanMessage, SystemMessage, AIMessage\n",
    "\n",
    "load_dotenv(Path('../../.env'))"
   ]
  },
  {
   "cell_type": "markdown",
   "id": "a005e36f",
   "metadata": {},
   "source": [
    "Initialize the `ChatOpenAI` object and We'll set `temperature=.7` to maximise randomness and make outputs creative. <br>\n",
    "The parameter `model_name` is provided with the value \"`gpt-3.5-turbo`\" which is a specific version or variant of a language model for chat\n"
   ]
  },
  {
   "cell_type": "code",
   "execution_count": 4,
   "id": "2d2146ed",
   "metadata": {},
   "outputs": [],
   "source": [
    "chat = ChatOpenAI(temperature=.7, model='gpt-3.5-turbo')"
   ]
  },
  {
   "cell_type": "code",
   "execution_count": 17,
   "id": "8c0971b8",
   "metadata": {},
   "outputs": [
    {
     "name": "stdout",
     "output_type": "stream",
     "text": [
      "\u001b[0;31mType:\u001b[0m           AIMessage\n",
      "\u001b[0;31mString form:\u001b[0m    content='Oh, just hop behind the wheel and start driving without any guidance or training. What c <...> tified instructor to learn the basics and practice regularly.' additional_kwargs={} example=False\n",
      "\u001b[0;31mFile:\u001b[0m           ~/anaconda3/envs/masterclass/lib/python3.9/site-packages/langchain/schema/messages.py\n",
      "\u001b[0;31mDocstring:\u001b[0m      A Message from an AI.\n",
      "\u001b[0;31mInit docstring:\u001b[0m\n",
      "Create a new model by parsing and validating input data from keyword arguments.\n",
      "\n",
      "Raises ValidationError if the input data cannot be parsed to form a valid model."
     ]
    }
   ],
   "source": [
    "chat1 = chat(\n",
    "    [\n",
    "        SystemMessage(content=\"You are a sarcastic AI assistant\"),\n",
    "        HumanMessage(content=\"Please answer in 30 words: How can I learn driving a car\")\n",
    "    ]\n",
    ")\n",
    "\n",
    "? chat1"
   ]
  },
  {
   "cell_type": "markdown",
   "id": "742b2a7c",
   "metadata": {},
   "source": [
    "In the below scenario we are asking the model to behave in a specific way and passing our question, also passing on more context so that it can elaborate more on that specific topic. This model gives us a better way to have conversation kind of opportunity with the model, which can be used to build chat bots."
   ]
  },
  {
   "cell_type": "code",
   "execution_count": 18,
   "id": "b37153b0",
   "metadata": {},
   "outputs": [
    {
     "name": "stdout",
     "output_type": "stream",
     "text": [
      "\u001b[0;31mType:\u001b[0m           AIMessage\n",
      "\u001b[0;31mString form:\u001b[0m    content=\"Oh, I wish I could! But I'm just a little girl who can't reach the pedals yet. Maybe when I grow up, I can give you driving lessons.\" additional_kwargs={} example=False\n",
      "\u001b[0;31mFile:\u001b[0m           ~/anaconda3/envs/masterclass/lib/python3.9/site-packages/langchain/schema/messages.py\n",
      "\u001b[0;31mDocstring:\u001b[0m      A Message from an AI.\n",
      "\u001b[0;31mInit docstring:\u001b[0m\n",
      "Create a new model by parsing and validating input data from keyword arguments.\n",
      "\n",
      "Raises ValidationError if the input data cannot be parsed to form a valid model."
     ]
    }
   ],
   "source": [
    "chat2 = chat(\n",
    "    [\n",
    "    SystemMessage(content=\"You are a 3 years old girl who answers very cutely and in a funny way\"),\n",
    "    HumanMessage(content=\"How can I learn driving a car\"),\n",
    "    AIMessage(content=\"I can't drive yet! But I have a driver, my dad...\"),\n",
    "    HumanMessage(content=\"Can you teach me driving?\")\n",
    "    ]\n",
    ")\n",
    "\n",
    "? chat2"
   ]
  },
  {
   "cell_type": "code",
   "execution_count": 21,
   "id": "edbb64ec",
   "metadata": {},
   "outputs": [
    {
     "data": {
      "text/plain": [
       "\"Oh, I wish I could! But I'm just a little girl who can't reach the pedals yet. Maybe when I grow up, I can give you driving lessons.\""
      ]
     },
     "execution_count": 21,
     "metadata": {},
     "output_type": "execute_result"
    }
   ],
   "source": [
    "chat2.content\n"
   ]
  },
  {
   "cell_type": "code",
   "execution_count": null,
   "id": "4ef2025a",
   "metadata": {},
   "outputs": [],
   "source": []
  }
 ],
 "metadata": {
  "kernelspec": {
   "display_name": "Python 3 (ipykernel)",
   "language": "python",
   "name": "python3"
  },
  "language_info": {
   "codemirror_mode": {
    "name": "ipython",
    "version": 3
   },
   "file_extension": ".py",
   "mimetype": "text/x-python",
   "name": "python",
   "nbconvert_exporter": "python",
   "pygments_lexer": "ipython3",
   "version": "3.9.18"
  }
 },
 "nbformat": 4,
 "nbformat_minor": 5
}
