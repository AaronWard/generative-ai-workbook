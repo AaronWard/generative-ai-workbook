{
 "cells": [
  {
   "cell_type": "markdown",
   "metadata": {},
   "source": [
    "\n",
    "## FastChat\n",
    "\n",
    "FastChat is a tool mentioned in the provided excerpts, which serves to initiate endpoints for local LLM applications. It allows developers to set up OpenAI-compatible APIs for supported models, serving as a local replacement for OpenAI APIs. It simplifies the process of working with local models like ChatGLMv2-6b by providing a structured framework to interact with them.\n",
    "\n",
    "\n",
    "\n",
    "To initiate servers using FastChat, the following sequence of commands can be used:\n",
    "\n",
    "```python\n",
    "python -m fastchat.serve.controller\n",
    "python -m fastchat.serve.model_worker --model-path chatglm2-6b\n",
    "python -m fastchat.serve.openai_api_server --host localhost --port 8000\n",
    "```"
   ]
  },
  {
   "cell_type": "code",
   "execution_count": null,
   "metadata": {},
   "outputs": [],
   "source": []
  }
 ],
 "metadata": {
  "language_info": {
   "name": "python"
  },
  "orig_nbformat": 4
 },
 "nbformat": 4,
 "nbformat_minor": 2
}
