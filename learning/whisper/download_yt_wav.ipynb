{
 "cells": [
  {
   "cell_type": "code",
   "execution_count": null,
   "metadata": {},
   "outputs": [],
   "source": [
    "from pytube import YouTube\n",
    "import ffmpeg\n",
    "import logging\n",
    "import subprocess\n",
    "from pathlib import Path\n",
    "logging.basicConfig(level=logging.INFO)\n",
    "logger = logging.getLogger(__name__)\n"
   ]
  },
  {
   "cell_type": "code",
   "execution_count": null,
   "metadata": {},
   "outputs": [],
   "source": [
    "text = \"https://www.youtube.com/watch?v=w4vrOUau2iY\"\n",
    "yt = YouTube(text)\n",
    "\n",
    "stream_url = yt.streams.all()[0].url  # Get the URL of the video stream\n",
    "title = yt.title.replace(\" \", \"_\").replace(\"/\", \"_\").replace(\"-\", \"\")\n",
    "# filename = f\"{title}.wav\".lower()\n",
    "filename = f\"test.wav\".lower()\n",
    "\n",
    "whisper_model_path = Path(\"models/ggml-base.en.bin\")\n",
    "whisper_executable_path = Path(\"/Users/award40/Desktop/personal/github/generative-ai-workbook/learning/whisper/whisper.cpp/main\")\n",
    "\n",
    "\n",
    "test_wav_file = \"/Users/award40/Desktop/personal/github/generative-ai-workbook/learning/whisper/test.wav\"\n",
    "\"/Users/award40/Desktop/personal/github/generative-ai-workbook/learning/whisper/test_fixed.wav\"\n"
   ]
  },
  {
   "cell_type": "code",
   "execution_count": null,
   "metadata": {},
   "outputs": [],
   "source": [
    "def format_wav(path: Path, wav_path: Path) -> int:\n",
    "    # audio, err = (\n",
    "    #     ffmpeg\n",
    "    #     .input(stream_url)\n",
    "    #     .output(\"pipe:\", format='wav', ar='16000', ac=1, acodec='pcm_s16le')  # Select WAV output format, and pcm_s16le auidio codec. My add ar=sample_rate\n",
    "    #     .run(capture_stdout=True)\n",
    "    # )\n",
    "\n",
    "    # # Write the audio buffer to file for testing\n",
    "    # with open(filename, 'wb') as f:\n",
    "    #     f.write(audio)\n",
    "\n",
    "    command = f'ffmpeg -i \"{path.absolute()}\" -ar 16000 -ac 1 -c:a pcm_s16le \"{wav_path.absolute()}\" -y'\n",
    "    p = subprocess.Popen(\n",
    "        command, stdin=subprocess.PIPE, stdout=subprocess.PIPE, stderr=subprocess.STDOUT\n",
    "    )\n",
    "    out, err = p.communicate()\n",
    "    out_str: str = out.decode(\"utf-8\")\n",
    "    err_str: str = err.decode(\"utf-8\")\n",
    "    logger.info(f\"FFMPEG output: {out_str}\")\n",
    "    logger.info(f\"FFMPEG error: {err_str}\")\n",
    "    logger.info(f\"FFMPEG return code: {p.returncode}\")\n",
    "    return p.returncode"
   ]
  },
  {
   "cell_type": "code",
   "execution_count": null,
   "metadata": {},
   "outputs": [],
   "source": [
    "def wav_to_srt(wav_path: Path, srt_path: Path, whisper_executable_path: Path) -> int:\n",
    "    if srt_path.exists():\n",
    "        logger.info(f\"File {srt_path} already exists, skipping\")\n",
    "        return 0\n",
    "\n",
    "    command = [\n",
    "        whisper_executable_path.as_posix(),\n",
    "        f\"{wav_path}\",\n",
    "        \"-t\",\n",
    "        \"4\",  # 4 threads\n",
    "        \"--max-len\",  # max length in characters\n",
    "        \"16\",\n",
    "        \"-l\",\n",
    "        \"auto\",  # language auto\n",
    "        \"-m\",  # model\n",
    "        f\"{whisper_model_path.as_posix()}\",\n",
    "        \"-osrt\",  # output srt\n",
    "        \"-of\",  # output file\n",
    "        f\"{srt_path.with_suffix('').as_posix()}\",  # weird choice in whisper.cpp it has to be without extension\n",
    "    ]\n",
    "\n",
    "    logger.info(f\"Running command: {command}\")\n",
    "    p2 = subprocess.Popen(\n",
    "        command, stdin=subprocess.PIPE, stdout=subprocess.PIPE, stderr=subprocess.STDOUT\n",
    "    )\n",
    "\n",
    "    while p2.poll() is None:\n",
    "        output = p2.stdout.readline()  # type: ignore\n",
    "        logger.info(output)\n",
    "    out, err = p2.communicate()\n",
    "    out_str = out.decode(\"utf-8\")\n",
    "    err_str = err.decode(\"utf-8\")\n",
    "\n",
    "    logger.info(f\"Transcription output: {out_str}\")\n",
    "    logger.info(f\"Transcription error: {err_str}\")\n",
    "    logger.info(f\"Transcription return code: {p2.returncode}\")\n",
    "    return p2.returncode"
   ]
  }
 ],
 "metadata": {
  "kernelspec": {
   "display_name": "masterclass",
   "language": "python",
   "name": "python3"
  },
  "language_info": {
   "codemirror_mode": {
    "name": "ipython",
    "version": 3
   },
   "file_extension": ".py",
   "mimetype": "text/x-python",
   "name": "python",
   "nbconvert_exporter": "python",
   "pygments_lexer": "ipython3",
   "version": "3.10.12"
  }
 },
 "nbformat": 4,
 "nbformat_minor": 2
}
