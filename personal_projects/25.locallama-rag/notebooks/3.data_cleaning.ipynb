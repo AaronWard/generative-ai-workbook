{
 "cells": [
  {
   "cell_type": "markdown",
   "metadata": {},
   "source": [
    "# 3. Data Cleaning\n",
    "\n",
    "New to perform regex operations on data to remove anything that isn't in the QA format\n",
    "and store within a dataframe."
   ]
  },
  {
   "cell_type": "code",
   "execution_count": 4,
   "metadata": {},
   "outputs": [],
   "source": [
    "import re\n",
    "import pickle\n",
    "import pprint as pp\n",
    "import pandas as pd"
   ]
  },
  {
   "cell_type": "code",
   "execution_count": 9,
   "metadata": {},
   "outputs": [],
   "source": [
    "with open('./_output/new/response_mistral.pkl', \"rb\") as file:\n",
    "    responses = pickle.load(file) "
   ]
  },
  {
   "cell_type": "code",
   "execution_count": 10,
   "metadata": {},
   "outputs": [
    {
     "data": {
      "text/plain": [
       "{'model': 'llama2:latest',\n",
       " 'created_at': '2024-02-17T23:20:49.122421Z',\n",
       " 'message': {'role': 'assistant',\n",
       "  'content': \"\\nQ: What is the post about?\\nA: The post is about an image generator that can create realistic images of people's faces, and the author's speculation on whether OpenAI would allow pornographic content to be generated using this technology.\\n\\nQ: What is the author's opinion on the likelihood of OpenAI allowing pornographic content to be generated?\\nA: The author believes that OpenAI will not allow pornographic content to be generated, and instead expects the industry to adopt open source AI technology for other use cases.\\n\\nQ: What is the purpose of the image generator according to the author?\\nA: According to the author, the image generator is intended to push open source AI technology for any use case.\\n\\nQ: What is the author's view on the industry jumping into new technologies?\\nA: The author believes that the industry will soon hop into this new technology, and that it is a good thing for open source AI technology.\\n\\nQ: Can you provide more information about the replies to the post?\\nA: The replies to the post include discussions on the ethical implications of creating realistic images of people's faces without their consent, as well as comments on the potential uses and limitations of the image generator technology.\"},\n",
       " 'done': True,\n",
       " 'total_duration': 18198539208,\n",
       " 'load_duration': 8005691875,\n",
       " 'prompt_eval_count': 428,\n",
       " 'prompt_eval_duration': 1782525000,\n",
       " 'eval_count': 281,\n",
       " 'eval_duration': 8409080000}"
      ]
     },
     "execution_count": 10,
     "metadata": {},
     "output_type": "execute_result"
    }
   ],
   "source": [
    "responses[0]"
   ]
  },
  {
   "cell_type": "code",
   "execution_count": 3,
   "metadata": {},
   "outputs": [
    {
     "ename": "NameError",
     "evalue": "name 'responses' is not defined",
     "output_type": "error",
     "traceback": [
      "\u001b[0;31m---------------------------------------------------------------------------\u001b[0m",
      "\u001b[0;31mNameError\u001b[0m                                 Traceback (most recent call last)",
      "Cell \u001b[0;32mIn[3], line 1\u001b[0m\n\u001b[0;32m----> 1\u001b[0m \u001b[43mresponses\u001b[49m\n",
      "\u001b[0;31mNameError\u001b[0m: name 'responses' is not defined"
     ]
    }
   ],
   "source": [
    "responses"
   ]
  },
  {
   "cell_type": "code",
   "execution_count": null,
   "metadata": {},
   "outputs": [],
   "source": []
  }
 ],
 "metadata": {
  "kernelspec": {
   "display_name": "masterclass",
   "language": "python",
   "name": "python3"
  },
  "language_info": {
   "codemirror_mode": {
    "name": "ipython",
    "version": 3
   },
   "file_extension": ".py",
   "mimetype": "text/x-python",
   "name": "python",
   "nbconvert_exporter": "python",
   "pygments_lexer": "ipython3",
   "version": "3.10.12"
  }
 },
 "nbformat": 4,
 "nbformat_minor": 2
}
