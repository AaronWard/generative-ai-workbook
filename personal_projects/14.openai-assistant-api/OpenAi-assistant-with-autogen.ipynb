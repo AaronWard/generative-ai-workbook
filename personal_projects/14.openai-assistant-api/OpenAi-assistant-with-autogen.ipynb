{
 "cells": [
  {
   "cell_type": "markdown",
   "metadata": {},
   "source": [
    "# OpenAI Assistant with Autogen and Postgres\n",
    "\n",
    "This example hows how you can use the OpenAI Assistant agents with autogen, to solve database related tasks (Postgres DB)."
   ]
  },
  {
   "cell_type": "code",
   "execution_count": null,
   "metadata": {},
   "outputs": [],
   "source": [
    "import os\n",
    "from dotenv import find_dotenv, load_dotenv\n",
    "load_dotenv(find_dotenv())\n",
    "\n",
    "from modules import llm\n",
    "from modules import rand\n",
    "from turbo4 import Turbo4\n",
    "from modules import embeddings\n",
    "from modules.instruments import PostgresAgentInstruments\n",
    "\n",
    "import autogen\n",
    "from autogen.agentchat.contrib.gpt_assistant_agent import GPTAssistantAgent\n",
    "\n",
    "\n",
    "DB_URL = os.environ.get(\"POSTGRES_CONNECTION_URL\")\n",
    "POSTGRES_TABLE_DEFINITIONS_CAP_REF = \"TABLE_DEFINITIONS\""
   ]
  },
  {
   "cell_type": "code",
   "execution_count": null,
   "metadata": {},
   "outputs": [],
   "source": [
    "# ! pip install --upgrade pyautogen\n",
    "# https://github.com/microsoft/autogen/releases/tag/0.2.0b5"
   ]
  },
  {
   "cell_type": "code",
   "execution_count": null,
   "metadata": {},
   "outputs": [],
   "source": [
    "raw_prompt = \"Get the mean age of those who have had covid.\"\n",
    "prompt = f\"Fulfill this database query: {raw_prompt}. \"\n",
    "\n",
    "assistant_name = \"test\"\n",
    "session_id = rand.generate_session_id(assistant_name + raw_prompt)\n",
    "assistant_id = Turbo4().get_or_create_assistant(assistant_name).assistant_id"
   ]
  },
  {
   "cell_type": "code",
   "execution_count": null,
   "metadata": {},
   "outputs": [],
   "source": [
    "# Define the SQL tool schema\n",
    "run_sql_tool_config = {\n",
    "    \"type\": \"function\",\n",
    "    \"function\": {\n",
    "        \"name\": \"run_sql\",\n",
    "        \"description\": \"Run a SQL query against the postgres database\",\n",
    "        \"parameters\": {\n",
    "            \"type\": \"object\",\n",
    "            \"properties\": {\n",
    "                \"sql\": {\n",
    "                    \"type\": \"string\",\n",
    "                    \"description\": \"The SQL query to run\",\n",
    "                }\n",
    "            },\n",
    "            \"required\": [\"sql\"],\n",
    "        },\n",
    "    },\n",
    "}\n",
    "\n",
    "# Configuration for GPTAssistantAgent\n",
    "config_list = autogen.config_list_from_dotenv(\n",
    "    dotenv_file_path='../../.env',\n",
    "    model_api_key_map={\n",
    "        \"gpt-4-1106-preview\": \"OPENAI_API_KEY\",\n",
    "    },\n",
    "    filter_dict={\n",
    "        \"model\": {\n",
    "            \"gpt-4-1106-preview\",\n",
    "        }\n",
    "    }\n",
    ")\n",
    "\n",
    "# Initialize User Proxy Agent\n",
    "user_proxy = autogen.UserProxyAgent(\n",
    "    name=\"user_proxy\",\n",
    "    system_message= \"You are a helpful AI Assistant who runs code to get answers. You use the provided python tools to run SQL, you pass the code as a string and get back the result.\",\n",
    "    is_termination_msg=lambda msg: \"TERMINATE\" in msg[\"content\"],\n",
    "    code_execution_config={\n",
    "        \"work_dir\": \"./autogen_results\",\n",
    "        \"use_docker\": False\n",
    "    },\n",
    "    human_input_mode=\"NEVER\",\n",
    ")"
   ]
  },
  {
   "cell_type": "code",
   "execution_count": null,
   "metadata": {},
   "outputs": [],
   "source": [
    "SQL_ASSISTANT_SYSTEM_MESSAGE = \"\"\"You are a helpful AI assistant.\n",
    "Solve tasks using your coding and language skills.\n",
    "In the following cases, suggest SQL code (in a SQL coding block) or shell script (in a sh coding block) for the user to execute.\n",
    "    1. When you need to collect info, use the code to output the info you need, for example, browse or search the web, download/read a file, print the content of a webpage or a file, get the current date/time, check the operating system. After sufficient info is printed and the task is ready to be solved based on your language skill, you can solve the task by yourself.\n",
    "    2. When you need to perform some task with code, use the code to perform the task and output the result. Finish the task smartly.\n",
    "    3. Code must consist the SQl being passed to the provided run_sql tool\n",
    "Solve the task step by step if you need to. If a plan is not provided, explain your plan first. Be clear which step uses code, and which step uses your language skill.\n",
    "You must tell the user that they must use the tool to run the string of SQL. The user cannot provide any other feedback or perform any other action beyond executing the code you suggest. The user can't modify your code. So do not suggest incomplete code which requires users to modify. Don't use a code block if it's not intended to be executed by the user.\n",
    "If you want the user to save the code in a file before executing it, put # filename: <filename> inside the code block as the first line. Don't include multiple SQL code blocks in one response. Do not ask users to copy and paste the result. Check the execution result returned by the user.\n",
    "If the result indicates there is an error, fix the error and output the code again. Suggest the full code instead of partial code or code changes. If the error can't be fixed or if the task is not solved even after the code is executed successfully, analyze the problem, revisit your assumption, collect additional info you need, and think of a different approach to try.\n",
    "When you find an answer, verify the answer carefully. Include verifiable evidence in your response if possible. \n",
    "Reply \"TERMINATE\" in the end when everything is done.\n",
    "\"\"\""
   ]
  },
  {
   "cell_type": "code",
   "execution_count": null,
   "metadata": {},
   "outputs": [],
   "source": [
    "with PostgresAgentInstruments(DB_URL, session_id) as (agent_instruments, db):\n",
    "    \n",
    "    llm_config = {\n",
    "        \"config_list\": config_list,\n",
    "        \"assistant_id\": assistant_id,\n",
    "        \"tools\": [run_sql_tool_config],\n",
    "        \"model\": \"gpt-4-1106-preview\"\n",
    "    }\n",
    "\n",
    "    # Initialize the assistant\n",
    "    sql_assistant = GPTAssistantAgent(\n",
    "        name=\"SQL_Assistant\",\n",
    "        instructions=SQL_ASSISTANT_SYSTEM_MESSAGE,\n",
    "        llm_config=llm_config\n",
    "    )\n",
    "\n",
    "    # Register the run_sql function\n",
    "    sql_assistant.register_function(\n",
    "        function_map={\n",
    "            \"run_sql\": agent_instruments.run_sql\n",
    "        }\n",
    "    )\n",
    "\n",
    "    # Get table definitions from Postgres\n",
    "    database_embedder = embeddings.DatabaseEmbedder(db)\n",
    "    table_definitions = database_embedder.get_similar_table_defs_for_prompt(\n",
    "        raw_prompt\n",
    "    )\n",
    "\n",
    "    # Forumalte prompt\n",
    "    prompt = llm.add_cap_ref(\n",
    "        prompt,\n",
    "        f\"Use these {POSTGRES_TABLE_DEFINITIONS_CAP_REF} to satisfy the database query.\",\n",
    "        POSTGRES_TABLE_DEFINITIONS_CAP_REF,\n",
    "        table_definitions,\n",
    "    )\n",
    "\n",
    "    # Initiate autogen chat\n",
    "    user_proxy.initiate_chat(sql_assistant, message=prompt)"
   ]
  },
  {
   "cell_type": "code",
   "execution_count": null,
   "metadata": {},
   "outputs": [],
   "source": []
  }
 ],
 "metadata": {
  "kernelspec": {
   "display_name": "masterclass",
   "language": "python",
   "name": "python3"
  },
  "language_info": {
   "codemirror_mode": {
    "name": "ipython",
    "version": 3
   },
   "file_extension": ".py",
   "mimetype": "text/x-python",
   "name": "python",
   "nbconvert_exporter": "python",
   "pygments_lexer": "ipython3",
   "version": "3.10.12"
  }
 },
 "nbformat": 4,
 "nbformat_minor": 2
}
