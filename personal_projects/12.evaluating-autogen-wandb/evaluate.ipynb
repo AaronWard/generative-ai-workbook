{
 "cells": [
  {
   "cell_type": "code",
   "execution_count": null,
   "metadata": {},
   "outputs": [],
   "source": [
    "import wandb\n",
    "\n",
    "api = wandb.Api()\n",
    "run = api.run(\"ayush-thakur/llm-eval-sweep/2nrl2xh6\")\n",
    "# run = api.run(f\"{PROJECT_NAME}/llm-eval-sweep/2nrl2xh6\")\n",
    "\n",
    "artifact = run.use_artifact(api.artifact(name=\"ayush-thakur/llm-eval-sweep/run-2nrl2xh6-QAEvalPair:v0\"))\n",
    "download_dir = artifact.download()\n",
    "download_dir\n",
    "\n",
    "# Visualize Sweep results\n",
    "def visualize_results():\n",
    "    wandb.log({\n",
    "        \"Calculator HF Spaces\": wandb.Html(\n",
    "            \"\"\"<iframe\n",
    "                src=\"https://<>.hf.space\"\n",
    "                frameborder=\"0\"\n",
    "                width=\"850\"\n",
    "                height=\"450\"\n",
    "            ></iframe>\"\"\"\n",
    "        )\n",
    "    })"
   ]
  }
 ],
 "metadata": {
  "kernelspec": {
   "display_name": "masterclass",
   "language": "python",
   "name": "python3"
  },
  "language_info": {
   "codemirror_mode": {
    "name": "ipython",
    "version": 3
   },
   "file_extension": ".py",
   "mimetype": "text/x-python",
   "name": "python",
   "nbconvert_exporter": "python",
   "pygments_lexer": "ipython3",
   "version": "3.10.12"
  }
 },
 "nbformat": 4,
 "nbformat_minor": 2
}
