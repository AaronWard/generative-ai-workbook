{
 "cells": [
  {
   "cell_type": "markdown",
   "id": "336b9395",
   "metadata": {},
   "source": [
    "# Generic Chains Overview"
   ]
  },
  {
   "cell_type": "markdown",
   "id": "1dcb42ef",
   "metadata": {},
   "source": [
    "## Simple Chain"
   ]
  },
  {
   "cell_type": "markdown",
   "id": "0b094e82",
   "metadata": {},
   "source": [
    "The most elementary type of chain is known as a basic chain, which represents the simplest form of crafting a chain. <br>In this setup, there is only one Language Model (LLM) responsible for receiving an input prompt and using it for generating text."
   ]
  },
  {
   "cell_type": "code",
   "execution_count": 1,
   "id": "6b36c04f",
   "metadata": {},
   "outputs": [],
   "source": [
    "import os\n",
    "import pprint as pp\n",
    "from pathlib import Path\n",
    "from dotenv import find_dotenv, load_dotenv\n",
    "\n",
    "load_dotenv(Path('../../.env'))\n",
    "\n",
    "from langchain.llms import OpenAI\n",
    "from langchain.prompts import PromptTemplate\n",
    "from langchain.chains import LLMChain"
   ]
  },
  {
   "cell_type": "code",
   "execution_count": 2,
   "id": "5547ab07",
   "metadata": {},
   "outputs": [],
   "source": [
    "llm = OpenAI()"
   ]
  },
  {
   "cell_type": "code",
   "execution_count": 3,
   "id": "436017aa",
   "metadata": {},
   "outputs": [],
   "source": [
    "prompt = PromptTemplate(\n",
    "    input_variables=[\"place\"],\n",
    "    template=\"Best places to visit in {place}?\",\n",
    ")"
   ]
  },
  {
   "cell_type": "code",
   "execution_count": 26,
   "id": "2477a555",
   "metadata": {},
   "outputs": [
    {
     "name": "stdout",
     "output_type": "stream",
     "text": [
      "\n",
      "\n",
      "1. Taj Mahal, Agra\n",
      "2. Golden Temple, Amritsar\n",
      "3. Goa\n",
      "4. Jaipur\n",
      "5. Udaipur\n",
      "6. Varanasi\n",
      "7. Ranthambore National Park\n",
      "8. Kerala\n",
      "9. Darjeeling\n",
      "10. Leh-Ladakh\n"
     ]
    }
   ],
   "source": [
    "chain = LLMChain(llm=llm, prompt=prompt)\n",
    "\n",
    "# Run the chain only specifying the input variable.\n",
    "print(chain.run(\"India\"))"
   ]
  },
  {
   "cell_type": "markdown",
   "id": "c88205e2",
   "metadata": {},
   "source": [
    "## Simple Sequential Chains"
   ]
  },
  {
   "cell_type": "markdown",
   "id": "4eb1850c",
   "metadata": {},
   "source": [
    "Sequential Chains involves making a series of consecutive calls to the language model.<br> This approach proves especially valuable when there is a need to utilize the output generated from one call as the input for another call."
   ]
  },
  {
   "cell_type": "code",
   "execution_count": 21,
   "id": "76654563",
   "metadata": {},
   "outputs": [],
   "source": [
    "from langchain.chains import SimpleSequentialChain\n",
    "from langchain import HuggingFaceHub"
   ]
  },
  {
   "cell_type": "code",
   "execution_count": 27,
   "id": "92f94dc5",
   "metadata": {},
   "outputs": [],
   "source": [
    "template = \"\"\"You have to suggest 5 best places to visit in {place}?\n",
    "\n",
    "YOUR RESPONSE:\n",
    "\"\"\"\n",
    "prompt_template = PromptTemplate(\n",
    "    input_variables=[\"place\"], \n",
    "    template=template)\n",
    "\n",
    "####\n",
    "\n",
    "template = \"\"\"Given a list a places, please estimate the expenses to visit all of them in local currency and also the days needed\n",
    "{expenses}\n",
    "\n",
    "YOUR RESPONSE:\n",
    "\"\"\"\n",
    "prompt_template = PromptTemplate(\n",
    "    input_variables=[\"expenses\"],\n",
    "    template=template)"
   ]
  },
  {
   "cell_type": "code",
   "execution_count": 28,
   "id": "77104326",
   "metadata": {},
   "outputs": [],
   "source": [
    "# Use a huggingface LLM for this chain\n",
    "HF_llm = HuggingFaceHub(repo_id = \"google/flan-t5-large\")\n",
    "# llm = OpenAI()"
   ]
  },
  {
   "cell_type": "code",
   "execution_count": 29,
   "id": "aa350baf",
   "metadata": {},
   "outputs": [],
   "source": [
    "# Initializa chains\n",
    "place_chain = LLMChain(llm=llm, prompt=prompt_template)\n",
    "expenses_chain = LLMChain(llm=llm, prompt=prompt_template)"
   ]
  },
  {
   "cell_type": "code",
   "execution_count": 30,
   "id": "ef315099",
   "metadata": {},
   "outputs": [
    {
     "name": "stdout",
     "output_type": "stream",
     "text": [
      "\n",
      "\n",
      "\u001b[1m> Entering new SimpleSequentialChain chain...\u001b[0m\n",
      "\u001b[36;1m\u001b[1;3m\n",
      "\n",
      "1. Taj Mahal, Agra\n",
      "2. Jaipur\n",
      "3. Andaman and Nicobar Islands\n",
      "4. Goa\n",
      "5. Kerala\n",
      "6. Leh and Ladakh\n",
      "7. Rishikesh\n",
      "8. Varanasi\n",
      "9. Jim Corbett National Park\n",
      "10. Darjeeling\u001b[0m\n",
      "\u001b[33;1m\u001b[1;3m\n",
      "The estimated expenses to visit all of these places in Indian Rupees would be around Rs. 1,25,000-1,50,000, depending on the mode of transport and accommodation you choose. The time needed to visit all these places would be around 10-12 days.\u001b[0m\n",
      "\u001b[38;5;200m\u001b[1;3mThe estimated expenses to visit all of these places in Indian Rupees would be around Rs. 1,25,000-1,50,000, depending on the mode of transport and accommodation you choose. The time needed to visit all these places would be around 10-12 days.\u001b[0m\n",
      "\n",
      "\u001b[1m> Finished chain.\u001b[0m\n"
     ]
    }
   ],
   "source": [
    "# Add them into a sequential chain\n",
    "final_chain = SimpleSequentialChain(chains=[chain, place_chain, expenses_chain], verbose=True)\n",
    "review = final_chain.run(\"India\")"
   ]
  },
  {
   "cell_type": "code",
   "execution_count": 20,
   "id": "c025bbb5",
   "metadata": {},
   "outputs": [
    {
     "name": "stdout",
     "output_type": "stream",
     "text": [
      "('The estimated expenses to visit all of the places in India would depend on '\n",
      " 'the places you intend to visit and the duration of the trip. On average, the '\n",
      " 'cost of a trip to India can range from $50-$100 per day in local currency '\n",
      " '(Indian Rupees). The total number of days needed for the trip would also '\n",
      " 'depend on how many places you plan to visit and how much time you plan to '\n",
      " 'spend in each place.')\n"
     ]
    }
   ],
   "source": [
    "pp.pprint(review)"
   ]
  }
 ],
 "metadata": {
  "kernelspec": {
   "display_name": "Python 3 (ipykernel)",
   "language": "python",
   "name": "python3"
  },
  "language_info": {
   "codemirror_mode": {
    "name": "ipython",
    "version": 3
   },
   "file_extension": ".py",
   "mimetype": "text/x-python",
   "name": "python",
   "nbconvert_exporter": "python",
   "pygments_lexer": "ipython3",
   "version": "3.9.18"
  }
 },
 "nbformat": 4,
 "nbformat_minor": 5
}
