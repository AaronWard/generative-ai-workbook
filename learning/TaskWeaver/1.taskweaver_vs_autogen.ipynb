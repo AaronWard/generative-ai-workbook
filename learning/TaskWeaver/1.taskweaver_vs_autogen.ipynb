{
 "cells": [
  {
   "cell_type": "markdown",
   "metadata": {},
   "source": [
    "## Task Weaver vs Autogen:\n",
    "\n",
    "\n",
    "**Task Weaver:**\n",
    "- **Code Generation:** TaskWeaver’s primary advantage lies in its code-first design, which is especially beneficial for applications requiring direct manipulation and processing of data. It’s an effective tool for workloads that require interacting with code and data structures over abstract conversational models.\n",
    "- Handling of complex data structures like pandas DataFrame.\n",
    "- There are 3 components: Planner, Code Generator (CG), and Code Executor (CE). Autogen architecture is different, where the agent that corresponds with the human is the one who executes code. \n",
    "- TaskWeaver can be expanded into a multi-agent architecture for more complex projects and functionality."
   ]
  },
  {
   "cell_type": "markdown",
   "metadata": {},
   "source": [
    "## Comparison with Autogen\n",
    "\n",
    "User(Human) input mode:\n",
    "- Autogen ✅ (`human_input_mode` with `UserProxyAgent`)\n",
    "- TaskWeaver ✅ (Planner can ask User)\n",
    "\n",
    "Compression:\n",
    "- Autogen ✅ (Compressible Agent)\n",
    "- TaskWeaver ✅ (Built in compression mechanism)\n",
    "\n",
    "Custom Agent Types:\n",
    "- Autogen  ✅ (Autogen is a multi-agent framework)\n",
    "- TaskWeaver ❌ (Taskweaver is single-agent framework)\n",
    "\n",
    "Predefined Code Tools:\n",
    "- Autogen  ✅ (with function calling)\n",
    "- TaskWeaver  ✅ (with Plugins)\n",
    "\n",
    "Adaptive Code Generative (for domain specific code):\n",
    "- Autogen  ✅ (Technically, with context stuffing the prompt)\n",
    "- TaskWeaver  ✅ (with Examples)\n",
    "\n",
    "Session Management:\n",
    "- Autogen ✅  (need to use different seed for cache)\n",
    "- TaskWeaver ✅ (Sessions built in natively)\n",
    "\n",
    "Stateful Code Execution:\n",
    "- Autogen ❌ (runs .py files)\n",
    "- TaskWeaver ✅ (runs stateful execution, like a jupyter notebook)\n",
    "\n",
    "Parallel Code Execution:\n",
    "- Autogen ❌ \n",
    "- TaskWeaver ✅ (If tasks are not dependent on eachother, they can run in different processes)\n",
    "\n",
    "Code Execution Security Measures:\n",
    "- Autogen ✅ (through containers)\n",
    "- TaskWeaver ✅ (through predefined rules)\n",
    "\n",
    "\n",
    "\n",
    "TaskWeaver seems excellent for when you have code dependent tasks, and appears to be a more structured way to manage those types of scenarios.\n",
    "Where it fails in comparison to Autogen is constraints. It's only meant to be used as a LLM coder. For my dynamic agent scenarios that would involve\n",
    "tasks from various roles Autogen would be a better choice. \n",
    "While TaskWeaver is ideal for data and code centric tasks and analytics, AutoGen's capabilities extend to a broader range of dynamic, interactive applications.\n",
    "This makes AutoGen more versatile in handling diverse scenarios, from decision-making tasks to interactive conversations.\n",
    "\n",
    "> *Our TaskWeaver is a single-agent framework that focuses on converting user requests into code, evenfor plugin calls.*\n",
    "\n",
    "\n",
    "Architectually speaking, TaskWeaver is akin to a two way chat in Autogen, where the UserProxyAgent is the Planner, and the Assistant is the Code Interpreter - but its the assistant who is running the code instead of UserProxyAgent. In terms of it's implementation - it's managed in a way that is more maintainable then Autogen for code execution. I would probably opt to use it for coding tasks in conjunction to using Autogen. Using taskweaver as a add-on agent in a Autogen GroupChat would most likely improve application performance a lot, not only in terms of code generation but in terms of security and maintainability also."
   ]
  },
  {
   "cell_type": "markdown",
   "metadata": {},
   "source": [
    "### Extendibility?\n",
    "\n",
    "In [taskweaver.memory.post](https://github.com/microsoft/TaskWeaver/blob/4e9b71518c98bde20dbc87e6441ff1d84197dc48/taskweaver/memory/post.py#L13) it states that a post can only be one of these roles.\n",
    "> A post is the message used to communicate between two roles. <br>\n",
    "> It should always have a text_message to denote the string message,  <br>\n",
    ">while other data formats should be put in the attachment. <br>\n",
    "> The role can be either a User, a Planner, or a CodeInterpreter. <br>\n",
    "\n",
    "And in `type_vars.py`:\n",
    "```python\n",
    "RoleName = Literal[\"User\", \"Planner\", \"CodeInterpreter\"]\n",
    "```\n",
    "\n",
    "So it differs from autogen in that you don't create a number of agents that have different roles, with TaskWeaver it seems you use these three roles to do one specific type of task very well: **natural language to executable code**. In the paper they even state that multi-agent systems is \n",
    "\n",
    ">*The first approach involves one agent (powered by TaskWeaver) calling other agents via its plugins.\n",
    ">Fig. 4 (a) depicts a simple example, although this can be extended to a more complex network <br> where multiple agents form a mesh network.\n",
    "> he second approach involves embedding TaskWeaverpowered agents into an existing multi-agent framework, such as AutoGen [1], as demonstrated in Fig.*"
   ]
  },
  {
   "cell_type": "markdown",
   "metadata": {},
   "source": [
    "### NOTE TO SELF:\n",
    "\n",
    "- Autogen as a plugin/example generator for TaskWeaver:\n",
    "    - Plugins:\n",
    "        - \"I need a plugin to do ____\" --> save it in Plugin store\n",
    "    - Examples:\n",
    "        - Domain specific code base -> llm to make examples -> store as examples"
   ]
  },
  {
   "cell_type": "markdown",
   "metadata": {},
   "source": []
  }
 ],
 "metadata": {
  "kernelspec": {
   "display_name": "masterclass",
   "language": "python",
   "name": "python3"
  },
  "language_info": {
   "codemirror_mode": {
    "name": "ipython",
    "version": 3
   },
   "file_extension": ".py",
   "mimetype": "text/x-python",
   "name": "python",
   "nbconvert_exporter": "python",
   "pygments_lexer": "ipython3",
   "version": "3.10.12"
  }
 },
 "nbformat": 4,
 "nbformat_minor": 2
}
