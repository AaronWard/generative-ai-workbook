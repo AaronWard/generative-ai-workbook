{
 "cells": [
  {
   "cell_type": "markdown",
   "metadata": {},
   "source": [
    "## Example 7: Using ChromaDB for Vector Storage\n",
    "\n",
    "The following example demonstrates how to use ChromaDB for vector storage with ControlFlow."
   ]
  },
  {
   "cell_type": "code",
   "execution_count": null,
   "metadata": {},
   "outputs": [],
   "source": [
    "import controlflow as cf\n",
    "from typing import List, Dict\n",
    "from pydantic import BaseModel"
   ]
  },
  {
   "cell_type": "code",
   "execution_count": null,
   "metadata": {},
   "outputs": [],
   "source": [
    "# ! pip install chromadb"
   ]
  },
  {
   "cell_type": "code",
   "execution_count": null,
   "metadata": {},
   "outputs": [],
   "source": [
    "\n",
    "# Create a memory module for user preferences\n",
    "user_preferences = cf.Memory(\n",
    "    key=\"user_preferences\",\n",
    "    instructions=\"Store and retrieve user preferences.\"\n",
    ")\n",
    "\n",
    "# Create an agent with access to the memory\n",
    "agent = cf.Agent(name=\"PreferenceAgent\", memories=[user_preferences])\n"
   ]
  },
  {
   "cell_type": "code",
   "execution_count": null,
   "metadata": {},
   "outputs": [],
   "source": [
    "# Create a flow to ask for the user's favorite color\n",
    "@cf.flow\n",
    "def remember_color():\n",
    "    return cf.run(\n",
    "        \"Ask the user for their favorite color and store it in memory\",\n",
    "        agents=[agent],\n",
    "        interactive=True,\n",
    "    )\n",
    "\n",
    "# Create a flow to recall the user's favorite color\n",
    "@cf.flow\n",
    "def recall_color():\n",
    "    return cf.run(\n",
    "        \"What is the user's favorite color?\",\n",
    "        agents=[agent],\n",
    "    )\n",
    "\n",
    "# Cell 4: Execute Flows\n",
    "# Run the first flow to remember the color\n",
    "print(\"Running remember_color flow...\")\n",
    "remember_color()\n",
    "\n",
    "# Run the second flow to recall the color\n",
    "print(\"\\nRunning recall_color flow...\")\n",
    "result = recall_color()\n",
    "print(\"Recalled favorite color:\", result)"
   ]
  }
 ],
 "metadata": {
  "language_info": {
   "name": "python"
  }
 },
 "nbformat": 4,
 "nbformat_minor": 2
}
