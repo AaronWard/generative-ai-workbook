{
 "cells": [
  {
   "cell_type": "markdown",
   "metadata": {},
   "source": [
    "# Llamafile x Autogen\n",
    "\n",
    "I want to test out using an opensource LLM like mistral 7B or Llama 2 locally using llamafile. \n",
    "\n",
    "[http://127.0.0.1:8080](http://127.0.0.1:8080)"
   ]
  },
  {
   "cell_type": "markdown",
   "metadata": {},
   "source": []
  }
 ],
 "metadata": {
  "language_info": {
   "name": "python"
  }
 },
 "nbformat": 4,
 "nbformat_minor": 2
}
