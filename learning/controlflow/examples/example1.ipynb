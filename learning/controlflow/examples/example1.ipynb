{
 "cells": [
  {
   "cell_type": "markdown",
   "metadata": {},
   "source": [
    "## ControlFlow Example 1"
   ]
  },
  {
   "cell_type": "code",
   "execution_count": 1,
   "metadata": {},
   "outputs": [],
   "source": [
    "from dotenv import load_dotenv, find_dotenv\n",
    "load_dotenv(find_dotenv())\n",
    "import controlflow as cf\n"
   ]
  },
  {
   "cell_type": "markdown",
   "metadata": {},
   "source": [
    "\n",
    "The parameters for `run()` function are:\n",
    "\n",
    "- objective\n",
    "- turn_strategy\n",
    "- max_llm_calls\n",
    "- max_agent_turns\n",
    "- raise_on_failure\n",
    "- handlers\n",
    "- model_kwargs\n",
    "- run_until"
   ]
  },
  {
   "cell_type": "code",
   "execution_count": 6,
   "metadata": {},
   "outputs": [
    {
     "data": {
      "application/vnd.jupyter.widget-view+json": {
       "model_id": "861a82d23fe54608aa498f3b51394516",
       "version_major": 2,
       "version_minor": 0
      },
      "text/plain": [
       "Output()"
      ]
     },
     "metadata": {},
     "output_type": "display_data"
    },
    {
     "data": {
      "text/html": [
       "<pre style=\"white-space:pre;overflow-x:auto;line-height:normal;font-family:Menlo,'DejaVu Sans Mono',consolas,'Courier New',monospace\"></pre>\n"
      ],
      "text/plain": []
     },
     "metadata": {},
     "output_type": "display_data"
    },
    {
     "name": "stdout",
     "output_type": "stream",
     "text": [
      "Reply: Subject: Project Status Update\n",
      "\n",
      "Hi John,\n",
      "\n",
      "I hope this message finds you well. I wanted to provide you with an update on the project status as you requested. We are currently on track and making good progress. The team is working diligently to meet our deadlines and ensure everything is aligned with the project goals.\n",
      "\n",
      "If you have any specific questions or need further details, please feel free to reach out.\n",
      "\n",
      "Best regards,\n",
      "\n",
      "Alice Johnson  \n",
      "Project Manager  \n",
      "Tech Corp\n"
     ]
    },
    {
     "data": {
      "application/vnd.jupyter.widget-view+json": {
       "model_id": "8f5484e478774788b963ce319030e57e",
       "version_major": 2,
       "version_minor": 0
      },
      "text/plain": [
       "Output()"
      ]
     },
     "metadata": {},
     "output_type": "display_data"
    },
    {
     "data": {
      "text/html": [
       "<pre style=\"white-space:pre;overflow-x:auto;line-height:normal;font-family:Menlo,'DejaVu Sans Mono',consolas,'Courier New',monospace\"></pre>\n"
      ],
      "text/plain": []
     },
     "metadata": {},
     "output_type": "display_data"
    },
    {
     "name": "stdout",
     "output_type": "stream",
     "text": [
      "Reply: Subject: Re: Exclusive offer just for you!\n",
      "\n",
      "Hi John,\n",
      "\n",
      "Thank you for reaching out with this exclusive offer. I am eager to learn more about it and see how it might benefit our projects at Tech Corp. Could you please provide more details about the offer? I want to ensure we make the most informed decision.\n",
      "\n",
      "Looking forward to your response.\n",
      "\n",
      "Best regards,\n",
      "\n",
      "Alice Johnson  \n",
      "Project Manager  \n",
      "Tech Corp\n"
     ]
    },
    {
     "data": {
      "application/vnd.jupyter.widget-view+json": {
       "model_id": "15a70bb72776445e84de1b077365ac1c",
       "version_major": 2,
       "version_minor": 0
      },
      "text/plain": [
       "Output()"
      ]
     },
     "metadata": {},
     "output_type": "display_data"
    },
    {
     "data": {
      "text/html": [
       "<pre style=\"white-space:pre;overflow-x:auto;line-height:normal;font-family:Menlo,'DejaVu Sans Mono',consolas,'Courier New',monospace\"></pre>\n"
      ],
      "text/plain": []
     },
     "metadata": {},
     "output_type": "display_data"
    },
    {
     "name": "stdout",
     "output_type": "stream",
     "text": [
      "Reply: Subject: Re: Urgent: Project deadline moved up by one week.\n",
      "\n",
      "Hi John,\n",
      "\n",
      "Thank you for informing me about the change in the project deadline. I understand the urgency and will immediately coordinate with the team to realign our schedule accordingly. Please let me know if there are any specific areas you would like us to prioritize or if there is additional support needed from your side.\n",
      "\n",
      "Best regards,\n",
      "\n",
      "Alice Johnson\n",
      "Project Manager\n",
      "Tech Corp\n"
     ]
    }
   ],
   "source": [
    "# Sample emails to process\n",
    "emails = [\n",
    "    \"Hello, I need an update on the project status.\",\n",
    "    \"Subject: Exclusive offer just for you!\",\n",
    "    \"Urgent: Project deadline moved up by one week.\",\n",
    "]\n",
    "\n",
    "# Define email parameters\n",
    "email_params = {\n",
    "    \"sender_name\": \"John Smith\",\n",
    "    \"your_name\": \"Alice Johnson\",\n",
    "    \"your_title\": \"Project Manager\",\n",
    "    \"company_name\": \"Tech Corp\"\n",
    "}\n",
    "\n",
    "# Define a simple task to generate a reply\n",
    "def generate_reply(email, params):\n",
    "    return cf.run(\n",
    "        objective=\"Generate a reply to the email\",  # Objective of the task\n",
    "        context={\n",
    "            \"email\": email,\n",
    "            \"sender_name\": params[\"sender_name\"],\n",
    "            \"your_name\": params[\"your_name\"],\n",
    "            \"your_title\": params[\"your_title\"],\n",
    "            \"company_name\": params[\"company_name\"]\n",
    "        }    )\n",
    "\n",
    "# Run the task for each email\n",
    "for email in emails:\n",
    "    reply = generate_reply(email, email_params)\n",
    "    print(f\"Reply: {reply}\")"
   ]
  },
  {
   "cell_type": "markdown",
   "metadata": {},
   "source": [
    "---"
   ]
  },
  {
   "cell_type": "markdown",
   "metadata": {},
   "source": [
    "### Create an agent for the task\n",
    "\n",
    "This code demonstrates an automated email processing system using ControlFlow agents.\n",
    "\n",
    "It creates two specialized AI agents:\n",
    "1. Email Classifier - Uses GPT-4 to categorize emails as either 'important' or 'spam'\n",
    "2. Email Responder - Uses GPT-4 to generate professional responses for important emails\n",
    "\n",
    "The main process_email() flow function:\n",
    "- Takes an email string as input\n",
    "- Uses the classifier agent to categorize the email\n",
    "- For important emails, uses the responder agent to generate a response\n",
    "- For spam emails, returns a standard \"no response needed\" message\n"
   ]
  },
  {
   "cell_type": "code",
   "execution_count": 8,
   "metadata": {},
   "outputs": [
    {
     "name": "stdout",
     "output_type": "stream",
     "text": [
      "Processing emails...\n",
      "\n",
      "\n",
      "Email 1: Hello, I need an update on the project status.\n"
     ]
    },
    {
     "data": {
      "application/vnd.jupyter.widget-view+json": {
       "model_id": "659a956ae37844338cb0cd08fcf202b0",
       "version_major": 2,
       "version_minor": 0
      },
      "text/plain": [
       "Output()"
      ]
     },
     "metadata": {},
     "output_type": "display_data"
    },
    {
     "data": {
      "text/html": [
       "<pre style=\"white-space:pre;overflow-x:auto;line-height:normal;font-family:Menlo,'DejaVu Sans Mono',consolas,'Courier New',monospace\"></pre>\n"
      ],
      "text/plain": []
     },
     "metadata": {},
     "output_type": "display_data"
    },
    {
     "name": "stdout",
     "output_type": "stream",
     "text": [
      "Email classified as: important\n"
     ]
    },
    {
     "data": {
      "application/vnd.jupyter.widget-view+json": {
       "model_id": "37a8242301334537835e626f83294d03",
       "version_major": 2,
       "version_minor": 0
      },
      "text/plain": [
       "Output()"
      ]
     },
     "metadata": {},
     "output_type": "display_data"
    },
    {
     "data": {
      "text/html": [
       "<pre style=\"white-space:pre;overflow-x:auto;line-height:normal;font-family:Menlo,'DejaVu Sans Mono',consolas,'Courier New',monospace\"></pre>\n"
      ],
      "text/plain": []
     },
     "metadata": {},
     "output_type": "display_data"
    },
    {
     "name": "stdout",
     "output_type": "stream",
     "text": [
      "Response: Dear John,\n",
      "\n",
      "Thank you for reaching out for an update on the project. I'm pleased to let you know that we are making good progress. We have completed most of the tasks and are on schedule. I'll provide a detailed update by the end of the day.\n",
      "\n",
      "Please let me know if there's anything else you need in the meantime.\n",
      "\n",
      "Best regards,\n",
      "Alice Johnson\n",
      "Project Manager\n",
      "Tech Corp\n",
      "\n",
      "--------------------------------------------------\n",
      "\n",
      "Email 2: Subject: Exclusive offer just for you!\n"
     ]
    },
    {
     "data": {
      "application/vnd.jupyter.widget-view+json": {
       "model_id": "8a4a536729994c4f9689b9a677e4b42b",
       "version_major": 2,
       "version_minor": 0
      },
      "text/plain": [
       "Output()"
      ]
     },
     "metadata": {},
     "output_type": "display_data"
    },
    {
     "data": {
      "text/html": [
       "<pre style=\"white-space:pre;overflow-x:auto;line-height:normal;font-family:Menlo,'DejaVu Sans Mono',consolas,'Courier New',monospace\"></pre>\n"
      ],
      "text/plain": []
     },
     "metadata": {},
     "output_type": "display_data"
    },
    {
     "name": "stdout",
     "output_type": "stream",
     "text": [
      "Email classified as: spam\n",
      "Response: No response needed for spam email.\n",
      "\n",
      "--------------------------------------------------\n",
      "\n",
      "Email 3: Urgent: Project deadline moved up by one week.\n"
     ]
    },
    {
     "data": {
      "application/vnd.jupyter.widget-view+json": {
       "model_id": "e3c25a9e3c114bbebb839b66f4d1fc62",
       "version_major": 2,
       "version_minor": 0
      },
      "text/plain": [
       "Output()"
      ]
     },
     "metadata": {},
     "output_type": "display_data"
    },
    {
     "data": {
      "text/html": [
       "<pre style=\"white-space:pre;overflow-x:auto;line-height:normal;font-family:Menlo,'DejaVu Sans Mono',consolas,'Courier New',monospace\"></pre>\n"
      ],
      "text/plain": []
     },
     "metadata": {},
     "output_type": "display_data"
    },
    {
     "name": "stdout",
     "output_type": "stream",
     "text": [
      "Email classified as: important\n"
     ]
    },
    {
     "data": {
      "application/vnd.jupyter.widget-view+json": {
       "model_id": "cbdd87f8822546bf8bbe5e0d288d614d",
       "version_major": 2,
       "version_minor": 0
      },
      "text/plain": [
       "Output()"
      ]
     },
     "metadata": {},
     "output_type": "display_data"
    },
    {
     "data": {
      "text/html": [
       "<pre style=\"white-space:pre;overflow-x:auto;line-height:normal;font-family:Menlo,'DejaVu Sans Mono',consolas,'Courier New',monospace\"></pre>\n"
      ],
      "text/plain": []
     },
     "metadata": {},
     "output_type": "display_data"
    },
    {
     "name": "stdout",
     "output_type": "stream",
     "text": [
      "Response: Dear John,\n",
      "\n",
      "Thank you for your email and for bringing this urgent matter to my attention.\n",
      "\n",
      "I understand that the project deadline has been moved up by a week. This is indeed a significant change, and we will do our best to adjust our work schedule to meet this new deadline.\n",
      "\n",
      "Your continued support and understanding are greatly appreciated as we navigate this change. If there are any further details or specific requirements related to this new deadline, please do not hesitate to share.\n",
      "\n",
      "Best regards,\n",
      "Alice Johnson\n",
      "Project Manager\n",
      "Tech Corp\n",
      "\n",
      "--------------------------------------------------\n"
     ]
    }
   ],
   "source": [
    "classifier = cf.Agent(\n",
    "    name=\"Email Classifier\",\n",
    "    model=\"openai/gpt-4\",  # You can adjust the model based on your needs\n",
    "    instructions=\"You are an expert at quickly classifying emails. Always \"\n",
    "                \"respond with exactly one word: either 'important' or 'spam'.\"\n",
    ")\n",
    "\n",
    "responder = cf.Agent(\n",
    "    name=\"Email Responder\",\n",
    "    model=\"openai/gpt-4\",\n",
    "    instructions=\"You are an expert at crafting professional email responses. \"\n",
    "                \"Your replies should be concise but friendly.\"\n",
    ")\n",
    "\n",
    "# Create the email processing flow\n",
    "@cf.flow\n",
    "def process_email(email_content: str):\n",
    "    # Step 1: Classify the email\n",
    "    category = cf.run(\n",
    "        objective=\"Classify this email\",\n",
    "        result_type=[\"important\", \"spam\"],\n",
    "        agents=[classifier],\n",
    "        context={\"email\": email_content}\n",
    "    )\n",
    "    \n",
    "    print(f\"Email classified as: {category}\")\n",
    "\n",
    "    # Step 2: Generate response for important emails\n",
    "    if category == \"important\":\n",
    "        response = cf.run(\n",
    "            objective=\"Write a response to this important email\",\n",
    "            result_type=str,\n",
    "            agents=[responder],\n",
    "            context={\"email\": email_content,\n",
    "                    \"sender_name\": email_params[\"sender_name\"],\n",
    "                    \"your_name\": email_params[\"your_name\"],\n",
    "                    \"your_title\": email_params[\"your_title\"],\n",
    "                    \"company_name\": email_params[\"company_name\"] \n",
    "            }\n",
    "        )\n",
    "        return response\n",
    "    else:\n",
    "        return \"No response needed for spam email.\"\n",
    "\n",
    "# Process all emails\n",
    "print(\"Processing emails...\\n\")\n",
    "for i, email in enumerate(emails, 1):\n",
    "    print(f\"\\nEmail {i}: {email}\")\n",
    "    response = process_email(email)\n",
    "    print(f\"Response: {response}\\n\")\n",
    "    print(\"-\" * 50)"
   ]
  }
 ],
 "metadata": {
  "kernelspec": {
   "display_name": "default",
   "language": "python",
   "name": "python3"
  },
  "language_info": {
   "codemirror_mode": {
    "name": "ipython",
    "version": 3
   },
   "file_extension": ".py",
   "mimetype": "text/x-python",
   "name": "python",
   "nbconvert_exporter": "python",
   "pygments_lexer": "ipython3",
   "version": "3.11.9"
  }
 },
 "nbformat": 4,
 "nbformat_minor": 2
}
