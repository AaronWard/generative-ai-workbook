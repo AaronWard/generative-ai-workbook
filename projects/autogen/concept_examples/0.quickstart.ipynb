{
 "cells": [
  {
   "cell_type": "markdown",
   "metadata": {},
   "source": [
    "## Starter Notebook\n",
    "\n",
    "The following example using `autogen` to initiate an automated chat between the two agents to solve a task."
   ]
  },
  {
   "cell_type": "code",
   "execution_count": null,
   "metadata": {},
   "outputs": [],
   "source": [
    "import os\n",
    "import json\n",
    "from pathlib import Path\n",
    "\n",
    "import openai\n",
    "import autogen\n",
    "from autogen import AssistantAgent, UserProxyAgent"
   ]
  },
  {
   "cell_type": "markdown",
   "metadata": {},
   "source": [
    "## Setup configurations\n",
    "\n",
    "The `config_list_openai_aoai` function tries to create a list of configurations using Azure OpenAI endpoints and OpenAI endpoints. It assumes the api keys and api bases are stored in the corresponding environment variables or local txt files:\n",
    "\n",
    "- OpenAI API key: `os.environ[\"OPENAI_API_KEY\"]` or `openai_api_key_file=\"key_openai.txt\"`.\n",
    "- Azure OpenAI API key: `os.environ[\"AZURE_OPENAI_API_KEY\"]` or `aoai_api_key_file=\"key_aoai.txt\"`. Multiple keys can be stored, one per line.\n",
    "- Azure OpenAI API base: `os.environ[\"AZURE_OPENAI_API_BASE\"]` or `aoai_api_base_file=\"base_aoai.txt\"`. Multiple bases can be stored, one per line.\n",
    "\n",
    "The `config_list_from_json` function loads a list of configurations from an environment variable or a json file. It first looks for environment variable `env_or_file` which needs to be a valid json string. If that variable is not found, it then looks for a json file with the same name. It filters the configs by filter_dict. \n",
    "\n",
    "It's OK to have only the OpenAI API key, or only the Azure OpenAI API key + base. If you open this notebook in colab, you can upload your files by clicking the file icon on the left panel and then choose \"upload file\" icon."
   ]
  },
  {
   "cell_type": "code",
   "execution_count": null,
   "metadata": {},
   "outputs": [],
   "source": [
    "import tempfile\n",
    "from dotenv import find_dotenv, load_dotenv\n",
    "load_dotenv(find_dotenv())\n",
    "\n",
    "env_var = [\n",
    "    {\n",
    "        'model': 'gpt-4',\n",
    "        'api_key': os.getenv('OPENAI_API_KEY')\n",
    "    },\n",
    "    {\n",
    "        'model': 'gpt-3.5-turbo',\n",
    "        'api_key': os.getenv('OPENAI_API_KEY')\n",
    "    }\n",
    "]\n",
    "\n",
    "# Create a temporary file\n",
    "# Write the JSON structure to a temporary file and pass it to config_list_from_json\n",
    "with tempfile.NamedTemporaryFile(mode='w+', delete=True) as temp:\n",
    "    env_var = json.dumps(env_var)\n",
    "    temp.write(env_var)\n",
    "    temp.flush()\n",
    "\n",
    "    # Setting configurations for autogen\n",
    "    config_list = autogen.config_list_from_json(\n",
    "        env_or_file=temp.name,\n",
    "        filter_dict={\n",
    "            \"model\": {\n",
    "                \"gpt-4\",\n",
    "                \"gpt-3.5-turbo\",\n",
    "            }\n",
    "        }\n",
    "    )\n",
    "\n",
    "assert len(config_list) > 0 \n",
    "print(\"models to use: \", [config_list[i][\"model\"] for i in range(len(config_list))])\n"
   ]
  },
  {
   "cell_type": "code",
   "execution_count": null,
   "metadata": {},
   "outputs": [],
   "source": [
    "assistant = AssistantAgent(\"assistant\")\n",
    "user_proxy = UserProxyAgent(\"user_proxy\")\n",
    "user_proxy.initiate_chat(assistant, \n",
    "                         message=MSG, \n",
    "                         config_list=config_list)\n",
    "\n",
    "\n",
    "# /Users/award40/Desktop/personal/github/generative-ai-workbook/projects/personal_projects/8.miniminds/"
   ]
  },
  {
   "cell_type": "markdown",
   "metadata": {},
   "source": []
  }
 ],
 "metadata": {
  "kernelspec": {
   "display_name": "masterclass",
   "language": "python",
   "name": "python3"
  },
  "language_info": {
   "codemirror_mode": {
    "name": "ipython",
    "version": 3
   },
   "file_extension": ".py",
   "mimetype": "text/x-python",
   "name": "python",
   "nbconvert_exporter": "python",
   "pygments_lexer": "ipython3",
   "version": "3.10.12"
  },
  "orig_nbformat": 4
 },
 "nbformat": 4,
 "nbformat_minor": 2
}
